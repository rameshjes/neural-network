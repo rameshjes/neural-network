{
 "cells": [
  {
   "cell_type": "code",
   "execution_count": 347,
   "metadata": {
    "collapsed": true
   },
   "outputs": [],
   "source": [
    "import numpy as np\n",
    "import random\n",
    "import matplotlib.pyplot as plt\n",
    "%matplotlib inline\n",
    "\n",
    "\n",
    "def contained_in_rectangle(rect_bounds, point):\n",
    "    a = rect_bounds[0]\n",
    "    b = rect_bounds[1]\n",
    "    c = rect_bounds[2]\n",
    "    d = rect_bounds[3]\n",
    "    \n",
    "    if point[0] > a and point[0] < b and point[1] > c and point[1] < d:\n",
    "        return True\n",
    "    else:\n",
    "        return False\n",
    "\n",
    "def generate_sample_point(rect_bounds):\n",
    "    \n",
    "    x = random.uniform(0, 1) * 100\n",
    "    y = random.uniform(0, 1) * 100\n",
    "\n",
    "    if contained_in_rectangle(rect_bounds, [x,y]):\n",
    "        sample = {'input': np.array([[1.0,x,y]]),'label':True}\n",
    "#         print 'true'\n",
    "    else:\n",
    "        sample = {'input': np.array([[1.0,x,y]]),'label':False}\n",
    "        \n",
    "    return sample\n",
    "\n",
    "def generate_sample_set(rect_bounds, num_of_samples):\n",
    "    sample_set = []\n",
    "    for i in range(num_of_samples):\n",
    "        sample_point = generate_sample_point(rect_bounds)\n",
    "        sample_set.append(sample_point)\n",
    "    return sample_set \n",
    "\n",
    "def logistic(v):\n",
    "    return 1.0/(1 + np.exp(-v))"
   ]
  },
  {
   "cell_type": "code",
   "execution_count": 348,
   "metadata": {
    "collapsed": false
   },
   "outputs": [
    {
     "name": "stderr",
     "output_type": "stream",
     "text": [
      "/home/ruby/anaconda2/lib/python2.7/site-packages/ipykernel_launcher.py:39: RuntimeWarning: overflow encountered in exp\n"
     ]
    },
    {
     "name": "stdout",
     "output_type": "stream",
     "text": [
      "[[ 271.36660135   -9.45277348  -10.16419597]] 22\n"
     ]
    }
   ],
   "source": [
    "#Training phase\n",
    "samples = generate_sample_set([10,50,10,50],100)\n",
    "bias = 0.5\n",
    "learning_rate = 0.1\n",
    "weights = np.array([[bias,0.0,0.0]])\n",
    "\n",
    "for i in range(10000):\n",
    "    miss_classified_count = 0\n",
    "    for sample in samples:\n",
    "        v = (np.dot(sample['input'],weights.T))\n",
    "        sigmoid_result = logistic(v)\n",
    "        desired_result = sample['label']\n",
    "        current_result = sigmoid_result >= 0.5\n",
    "        if current_result != desired_result:\n",
    "            error = desired_result - sigmoid_result\n",
    "            weights = weights + (learning_rate*error*sample['input'])\n",
    "            miss_classified_count += 1\n",
    "print weights,miss_classified_count      "
   ]
  },
  {
   "cell_type": "code",
   "execution_count": 349,
   "metadata": {
    "collapsed": false,
    "scrolled": true
   },
   "outputs": [
    {
     "name": "stdout",
     "output_type": "stream",
     "text": [
      "1000\n"
     ]
    },
    {
     "name": "stderr",
     "output_type": "stream",
     "text": [
      "/home/ruby/anaconda2/lib/python2.7/site-packages/ipykernel_launcher.py:39: RuntimeWarning: overflow encountered in exp\n"
     ]
    },
    {
     "data": {
      "image/png": "[encoded data removed]",
      "text/plain": [
       "<matplotlib.figure.Figure at 0x7f6315cdb650>"
      ]
     },
     "metadata": {},
     "output_type": "display_data"
    }
   ],
   "source": [
    "#testing phase\n",
    "test_samples = generate_sample_set([10,50,10,50],1000)\n",
    "print len(test_samples)\n",
    "for sample in test_samples:\n",
    "    v = (np.dot(sample['input'],weights.T))\n",
    "    sigmoid_result = logistic(v)\n",
    "    if sigmoid_result >= 0.5:\n",
    "        plt.scatter(sample['input'][0][1],sample['input'][0][2],c='r')\n",
    "    else:\n",
    "        plt.scatter(sample['input'][0][1],sample['input'][0][2],c='b')"
   ]
  },
  {
   "cell_type": "code",
   "execution_count": null,
   "metadata": {
    "collapsed": true
   },
   "outputs": [],
   "source": []
  }
 ],
 "metadata": {
  "kernelspec": {
   "display_name": "Python [Root]",
   "language": "python",
   "name": "Python [Root]"
  },
  "language_info": {
   "codemirror_mode": {
    "name": "ipython",
    "version": 2
   },
   "file_extension": ".py",
   "mimetype": "text/x-python",
   "name": "python",
   "nbconvert_exporter": "python",
   "pygments_lexer": "ipython2",
   "version": "2.7.12"
  }
 },
 "nbformat": 4,
 "nbformat_minor": 1
}
