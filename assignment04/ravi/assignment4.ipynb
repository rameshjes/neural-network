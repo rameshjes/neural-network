{
 "cells": [
  {
   "cell_type": "code",
   "execution_count": 40,
   "metadata": {
    "collapsed": false
   },
   "outputs": [],
   "source": [
    "import numpy as np\n",
    "from random import randint\n",
    "import matplotlib.pyplot as plt\n",
    "%matplotlib inline\n",
    "\n",
    "\n",
    "def contained_in_rectangle(rect_bounds, point):\n",
    "    a = rect_bounds[0]\n",
    "    b = rect_bounds[1]\n",
    "    c = rect_bounds[2]\n",
    "    d = rect_bounds[3]\n",
    "    \n",
    "    if point[0] > a and point[0] < b and point[1] > c and point[1] < d:\n",
    "        return True\n",
    "    else:\n",
    "        return False\n",
    "\n",
    "def generate_sample_point(rect_bounds,labels):\n",
    "    a = rect_bounds[0]\n",
    "    b = rect_bounds[1]\n",
    "    c = rect_bounds[2]\n",
    "    d = rect_bounds[3]\n",
    "    \n",
    "    x = randint(0, 100)\n",
    "    y = randint(0, 100)\n",
    "    \n",
    "    point = [x,y]\n",
    "    if contained_in_rectangle(rect_bounds, point):\n",
    "        labels.append('positive')\n",
    "    else:\n",
    "        labels.append('negative')\n",
    "        \n",
    "    return point\n",
    "\n",
    "def generate_sample_set(rect_bounds, num_of_samples,labels):\n",
    "    sample_set = []\n",
    "    for i in range(num_of_samples):\n",
    "        sample_point = generate_sample_point(rect_bounds,labels)\n",
    "        sample_set.append(sample_point)\n",
    "    return sample_set \n",
    "\n",
    "def generate_rectangle(rect_bounds):\n",
    "    return"
   ]
  },
  {
   "cell_type": "code",
   "execution_count": null,
   "metadata": {
    "collapsed": true
   },
   "outputs": [],
   "source": []
  }
 ],
 "metadata": {
  "kernelspec": {
   "display_name": "Python [Root]",
   "language": "python",
   "name": "Python [Root]"
  },
  "language_info": {
   "codemirror_mode": {
    "name": "ipython",
    "version": 2
   },
   "file_extension": ".py",
   "mimetype": "text/x-python",
   "name": "python",
   "nbconvert_exporter": "python",
   "pygments_lexer": "ipython2",
   "version": "2.7.12"
  }
 },
 "nbformat": 4,
 "nbformat_minor": 0
}
