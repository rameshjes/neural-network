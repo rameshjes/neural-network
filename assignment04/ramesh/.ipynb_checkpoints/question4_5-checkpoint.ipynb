{
 "cells": [
  {
   "cell_type": "markdown",
   "metadata": {},
   "source": [
    "# Exercise 4\n",
    "\n",
    "Consider training a two-input perceptron. Give an upper bound on the number of training examples sufficient to assure with 90%  confidence that the learned perceptron will have true error of at most 5%. Does this bound seem realistic?"
   ]
  },
  {
   "cell_type": "markdown",
   "metadata": {},
   "source": [
    "# Solution\n",
    "\n",
    "For a single preceptron with two-inputs, we can compute number of training examples as:\n",
    "\n",
    "$$m \\ge \\frac{1}{\\epsilon}\\left(4 \\log_2\\left(\\frac{2}{\\delta}\\right) + 8 \\left(r+1\\right)\\log_2\\left(\\frac{13}{\\epsilon}\\right)\\right)$$\n",
    "\n",
    "Where:\n",
    "$\\epsilon = 5\\% = 0.05$\n",
    "\n",
    "$\\delta = 10\\% = 0.10$ \n",
    "\n",
    "number of inputs = r = 2\n",
    "\n",
    "Substituting in above equation:\n"
   ]
  },
  {
   "cell_type": "code",
   "execution_count": 6,
   "metadata": {},
   "outputs": [
    {
     "name": "stdout",
     "output_type": "stream",
     "text": [
      "Number of training examples will be equal or greater than  4196.0\n"
     ]
    }
   ],
   "source": [
    "import numpy as np\n",
    "epsilon = 0.05\n",
    "delta = 0.10\n",
    "r = 2\n",
    "m = (4 * np.log2(2/delta) + 8*(r + 1) * np.log2(13/epsilon))/epsilon\n",
    "print \"Number of training examples will be equal or greater than \", round(m)"
   ]
  },
  {
   "cell_type": "markdown",
   "metadata": {},
   "source": [
    "# Exercise 5\n",
    "\n",
    "Consider the class C  of concepts of the form (a <= x <= b) AND (c<=y <= d),  where a ,b , c , and d  are integers in the interval (0,99). Note each concept in this class correspondsto a rectangle with integer-valued boundaries on a portion of the x, y  plane. Hint: Given a region in the plane bounded by the points (0,0)  and (n -1 , n - I),  the number of distinct rectangles with integer-valued boundaries within this region is 1/4 *  n(n+1)^2\n",
    "\n",
    "a. Give an upper bound on the number of randomly drawn training examples sufficient to assure that for any target concept c  in C,  any consistent learner using H = C  will, with probability 95%, output a hypothesis with error at most 0.15 !\n",
    "\n",
    "b. Now suppose the rectangle boundaries a, b, c,  and d  take on real values instead of integer values. Update your answer to the first part of this question."
   ]
  },
  {
   "cell_type": "markdown",
   "metadata": {},
   "source": [
    "# Solution\n",
    "\n",
    "For $a \\leq x \\leq b$, $c \\leq x \\leq d$ and $x \\in \\{0, 1, ..., 99\\}$\n",
    "\n",
    "Number of possible combinations can be computed as:\n",
    "           $$\\frac{n(n + 1)}{2} = \\frac{99 \\cdot 100}{2} = 4950$$ \n",
    "           \n",
    "Similarly,     $c \\leq y \\leq d$ also has 4950 possible combinations\n",
    "\n",
    "Therefore, number of distict rectangles can be computed as:\n",
    "     $$\\frac{n(n + 1)^2}{4} = \\frac{99 \\cdot 100^2}{4} = 247500$$\n",
    "\n",
    "\n",
    "a. We compute hypothesis size and apply upper bound as:\n",
    "\n",
    "$$N \\leq \\frac{1}{\\epsilon}[\\ln{|H|} + \\ln{\\frac{1}{\\delta}}]$$\n",
    "     \n",
    "Since  $\\epsilon = 0.15$ and $\\delta = 0.05$ is given.\n",
    "\n",
    "Therefore, substituting in above equation"
   ]
  },
  {
   "cell_type": "code",
   "execution_count": 15,
   "metadata": {},
   "outputs": [
    {
     "name": "stdout",
     "output_type": "stream",
     "text": [
      "We need atleast 103.0 examples to compute hypothesis size\n"
     ]
    }
   ],
   "source": [
    "n = 99\n",
    "epsilon = 0.15\n",
    "delta = 0.05\n",
    "rectangles = (n*((n+1)**2))/4 \n",
    "# subsitute values in above formula, hypothesis size can be computed as\n",
    "N = round((1/epsilon)*(np.log(rectangles) + np.log(1/delta)))\n",
    "print \"We need atleast \" + str(N) + \" examples to compute hypothesis size\""
   ]
  },
  {
   "cell_type": "markdown",
   "metadata": {},
   "source": [
    "b. If we take rectangle boundaries such a,b,c,d as real values instead of integer values, then number of examples can be computed as:\n",
    "\n",
    "$$N \\leq \\frac{1}{\\epsilon}[8 VC \\log_2{\\frac{13}{\\epsilon}}+ 4 \\log_2{\\frac{2}{\\delta}}] $$\n",
    "\n",
    "Since VC dimension of previous problem(a) is 4 as it is rectangle. Therefore, above equation can be further solved as:\n"
   ]
  },
  {
   "cell_type": "code",
   "execution_count": 23,
   "metadata": {},
   "outputs": [
    {
     "name": "stdout",
     "output_type": "stream",
     "text": [
      "we need atleast  1515.0 examples\n"
     ]
    }
   ],
   "source": [
    "VC = 4\n",
    "N = round((4 * np.log2(2/delta) + 8*VC * np.log2(13/epsilon))/epsilon)\n",
    "print \"we need atleast \", N, \"examples\""
   ]
  }
 ],
 "metadata": {
  "anaconda-cloud": {},
  "kernelspec": {
   "display_name": "Python 2",
   "language": "python",
   "name": "python2"
  },
  "language_info": {
   "codemirror_mode": {
    "name": "ipython",
    "version": 2
   },
   "file_extension": ".py",
   "mimetype": "text/x-python",
   "name": "python",
   "nbconvert_exporter": "python",
   "pygments_lexer": "ipython2",
   "version": "2.7.14"
  }
 },
 "nbformat": 4,
 "nbformat_minor": 2
}
