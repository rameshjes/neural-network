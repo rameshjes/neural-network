{
 "cells": [
  {
   "cell_type": "markdown",
   "metadata": {},
   "source": [
    "# Exercise 4\n",
    "\n",
    "Consider training a two-input perceptron. Give an upper bound on the number of training examples sufficient to assure with 90%  confidence that the learned perceptron will have true error of at most 5%. Does this bound seem realistic?"
   ]
  },
  {
   "cell_type": "markdown",
   "metadata": {},
   "source": [
    "# Solution\n",
    "\n",
    "For a single preceptron with two-inputs, we can compute number of training examples as:\n",
    "\n",
    "$$m \\ge \\frac{1}{\\epsilon}\\left(4 \\log_2\\left(\\frac{2}{\\delta}\\right) + 8 \\left(r+1\\right)\\log_2\\left(\\frac{13}{\\epsilon}\\right)\\right)$$\n",
    "\n",
    "Where:\n",
    "$\\epsilon = 5\\% = 0.05$\n",
    "\n",
    "$\\delta = 10\\% = 0.10$ \n",
    "\n",
    "number of inputs = r = 2\n",
    "\n",
    "Substituting in above equation:\n"
   ]
  },
  {
   "cell_type": "code",
   "execution_count": 4,
   "metadata": {},
   "outputs": [
    {
     "name": "stdout",
     "output_type": "stream",
     "text": [
      "Number of training examples will be equal or greater than  4196.0\n"
     ]
    }
   ],
   "source": [
    "import numpy as np\n",
    "epsilon = 0.05\n",
    "delta = 0.10\n",
    "r = 2\n",
    "m = (4 * np.log2(2/delta) + 8*(r + 1) * np.log2(13/epsilon))/epsilon\n",
    "print \"Number of training examples will be equal or greater than \", round(m)"
   ]
  }
 ],
 "metadata": {
  "anaconda-cloud": {},
  "kernelspec": {
   "display_name": "Python [default]",
   "language": "python",
   "name": "python2"
  },
  "language_info": {
   "codemirror_mode": {
    "name": "ipython",
    "version": 2
   },
   "file_extension": ".py",
   "mimetype": "text/x-python",
   "name": "python",
   "nbconvert_exporter": "python",
   "pygments_lexer": "ipython2",
   "version": "2.7.13"
  }
 },
 "nbformat": 4,
 "nbformat_minor": 2
}
