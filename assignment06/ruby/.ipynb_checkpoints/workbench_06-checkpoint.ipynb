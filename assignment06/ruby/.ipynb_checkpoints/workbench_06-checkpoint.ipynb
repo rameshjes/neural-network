{
 "cells": [
  {
   "cell_type": "code",
   "execution_count": 169,
   "metadata": {
    "collapsed": true
   },
   "outputs": [],
   "source": [
    "import numpy as np\n",
    "import sympy as sp"
   ]
  },
  {
   "cell_type": "code",
   "execution_count": 283,
   "metadata": {},
   "outputs": [],
   "source": [
    "class Backpropagation:\n",
    "\n",
    "    def __init__(self,\n",
    "                 _no_input_neuron,\n",
    "                 _hidden_config,\n",
    "                 _no_output_neuron,\n",
    "                 _input_data_set,\n",
    "                 _desired_output,\n",
    "                 _epoch):\n",
    "        self.epochs = _epoch\n",
    "\n",
    "        self.no_of_input_neurons = _no_input_neuron\n",
    "        self._hidden_config = _hidden_config\n",
    "        self.no_of_layers = len(_hidden_config)\n",
    "        self.no_of_hidden_neurons = _hidden_config[0]\n",
    "        self.no_of_output_neurons = _no_output_neuron\n",
    "\n",
    "        self.input_data_set = _input_data_set\n",
    "        self.desired_output = _desired_output\n",
    "        \n",
    "        self.eta = 0.03\n",
    "        \n",
    "    def generate_weight(self,is_random,_size):\n",
    "        return np.random.uniform(size=_size) if is_random else np.zeros(_size)\n",
    "        \n",
    "    def sigmoid (self,x): \n",
    "        return 1/(1 + np.exp(-x)) \n",
    "    \n",
    "    def derivative_(self,x): \n",
    "        return x * (1 - x)\n",
    "    \n",
    "    def local_field(self,x,w):\n",
    "        return np.dot(x,w)\n",
    "    \n",
    "    def error(self,y):\n",
    "        return self.desired_output - y\n",
    "    \n",
    "    def delta(self,sigma_tic,summed_error,flag = False):\n",
    "        return summed_error * sigma_tic        \n",
    "#         return np.dot(sigma_tic,summed_error) if flag else sigma_tic*summed_error"
   ]
  },
  {
   "cell_type": "code",
   "execution_count": 338,
   "metadata": {},
   "outputs": [
    {
     "name": "stdout",
     "output_type": "stream",
     "text": [
      "[[-0.03263721]\n",
      " [ 0.06896294]\n",
      " [ 0.06896296]\n",
      " [-0.09196158]]\n"
     ]
    }
   ],
   "source": [
    "bp = Backpropagation(2,\n",
    "                     [2],\n",
    "                     1,\n",
    "                     np.array([[0,0],[0,1],[1,0],[1,1]]),\n",
    "                     np.array([[0],[1],[1],[0]]),\n",
    "                     5000)\n",
    "Wh = np.random.uniform(size=(bp.no_of_input_neurons, bp._hidden_config[0]))\n",
    "Wz = np.random.uniform(size=(bp._hidden_config[0],bp.no_of_output_neurons))\n",
    "\n",
    "for i in range(100000):\n",
    "    H = bp.sigmoid(np.dot(bp.input_data_set, Wh))                  # hidden layer results\n",
    "    Z = bp.sigmoid(np.dot(H, Wz))                  # output layer results\n",
    "    E = bp.desired_output - Z\n",
    "#     print E\n",
    "    dZ = E * bp.derivative_(Z) \n",
    "    dH = dZ.dot(Wz.T) * bp.derivative_(H)             # delta H\n",
    "    Wz +=  0.1 * H.T.dot(dZ)                          # update output layer weights\n",
    "    Wh +=  0.1 * bp.input_data_set.T.dot(dH) \n",
    "# print Wh,Wz\n",
    "print E"
   ]
  },
  {
   "cell_type": "code",
   "execution_count": 313,
   "metadata": {},
   "outputs": [
    {
     "name": "stdout",
     "output_type": "stream",
     "text": [
      "[array([[0, 0],\n",
      "       [0, 1],\n",
      "       [1, 0],\n",
      "       [1, 1]]), array([[ 0.5       ,  0.5       ],\n",
      "       [ 0.70586895,  0.56045832],\n",
      "       [ 0.62795598,  0.59158447],\n",
      "       [ 0.80200326,  0.64874829]]), array([[ 0.71498575],\n",
      "       [ 0.76423733],\n",
      "       [ 0.75482003],\n",
      "       [ 0.79352178]])]\n"
     ]
    },
    {
     "ename": "ValueError",
     "evalue": "shapes (4,2) and (4,2) not aligned: 2 (dim 1) != 4 (dim 0)",
     "output_type": "error",
     "traceback": [
      "\u001b[0;31m---------------------------------------------------------------------------\u001b[0m",
      "\u001b[0;31mValueError\u001b[0m                                Traceback (most recent call last)",
      "\u001b[0;32m<ipython-input-313-ea6d3ac52d34>\u001b[0m in \u001b[0;36m<module>\u001b[0;34m()\u001b[0m\n\u001b[1;32m     49\u001b[0m         \u001b[0msummed_error\u001b[0m \u001b[0;34m=\u001b[0m \u001b[0mdelta_j\u001b[0m\u001b[0;34m.\u001b[0m\u001b[0mdot\u001b[0m\u001b[0;34m(\u001b[0m\u001b[0mtemp_weight\u001b[0m\u001b[0;34m.\u001b[0m\u001b[0mT\u001b[0m\u001b[0;34m)\u001b[0m\u001b[0;34m\u001b[0m\u001b[0m\n\u001b[1;32m     50\u001b[0m \u001b[0;34m\u001b[0m\u001b[0m\n\u001b[0;32m---> 51\u001b[0;31m         \u001b[0mdelta_j\u001b[0m \u001b[0;34m=\u001b[0m \u001b[0mbp\u001b[0m\u001b[0;34m.\u001b[0m\u001b[0mdelta\u001b[0m\u001b[0;34m(\u001b[0m\u001b[0msigmoid_tic_j\u001b[0m\u001b[0;34m,\u001b[0m\u001b[0msummed_error\u001b[0m\u001b[0;34m,\u001b[0m\u001b[0mTrue\u001b[0m\u001b[0;34m)\u001b[0m\u001b[0;34m\u001b[0m\u001b[0m\n\u001b[0m\u001b[1;32m     52\u001b[0m         \u001b[0mdelta_w_ji\u001b[0m \u001b[0;34m=\u001b[0m \u001b[0;34m(\u001b[0m\u001b[0mbp\u001b[0m\u001b[0;34m.\u001b[0m\u001b[0meta\u001b[0m\u001b[0;34m)\u001b[0m \u001b[0;34m*\u001b[0m \u001b[0;34m(\u001b[0m\u001b[0mall_inputs\u001b[0m\u001b[0;34m[\u001b[0m\u001b[0mi\u001b[0m\u001b[0;34m]\u001b[0m\u001b[0;34m.\u001b[0m\u001b[0mT\u001b[0m\u001b[0;34m)\u001b[0m\u001b[0;34m.\u001b[0m\u001b[0mdot\u001b[0m\u001b[0;34m(\u001b[0m\u001b[0mdelta_j\u001b[0m\u001b[0;34m)\u001b[0m\u001b[0;34m\u001b[0m\u001b[0m\n\u001b[1;32m     53\u001b[0m \u001b[0;31m#         print delta_w_ji\u001b[0m\u001b[0;34m\u001b[0m\u001b[0;34m\u001b[0m\u001b[0m\n",
      "\u001b[0;32m<ipython-input-283-4ee3968a46d0>\u001b[0m in \u001b[0;36mdelta\u001b[0;34m(self, sigma_tic, summed_error, flag)\u001b[0m\n\u001b[1;32m     37\u001b[0m \u001b[0;34m\u001b[0m\u001b[0m\n\u001b[1;32m     38\u001b[0m     \u001b[0;32mdef\u001b[0m \u001b[0mdelta\u001b[0m\u001b[0;34m(\u001b[0m\u001b[0mself\u001b[0m\u001b[0;34m,\u001b[0m\u001b[0msigma_tic\u001b[0m\u001b[0;34m,\u001b[0m\u001b[0msummed_error\u001b[0m\u001b[0;34m,\u001b[0m\u001b[0mflag\u001b[0m \u001b[0;34m=\u001b[0m \u001b[0mFalse\u001b[0m\u001b[0;34m)\u001b[0m\u001b[0;34m:\u001b[0m\u001b[0;34m\u001b[0m\u001b[0m\n\u001b[0;32m---> 39\u001b[0;31m         \u001b[0;32mreturn\u001b[0m \u001b[0mnp\u001b[0m\u001b[0;34m.\u001b[0m\u001b[0mdot\u001b[0m\u001b[0;34m(\u001b[0m\u001b[0msigma_tic\u001b[0m\u001b[0;34m,\u001b[0m\u001b[0msummed_error\u001b[0m\u001b[0;34m)\u001b[0m \u001b[0;32mif\u001b[0m \u001b[0mflag\u001b[0m \u001b[0;32melse\u001b[0m \u001b[0msigma_tic\u001b[0m\u001b[0;34m*\u001b[0m\u001b[0msummed_error\u001b[0m\u001b[0;34m\u001b[0m\u001b[0m\n\u001b[0m",
      "\u001b[0;31mValueError\u001b[0m: shapes (4,2) and (4,2) not aligned: 2 (dim 1) != 4 (dim 0)"
     ]
    }
   ],
   "source": [
    "bp = Backpropagation(2,\n",
    "                     [2],\n",
    "                     1,\n",
    "                     np.array([[0,0],[0,1],[1,0],[1,1]]),\n",
    "                     np.array([[0],[1],[1],[0]]),\n",
    "                     5000)\n",
    "\n",
    "current_input = bp.input_data_set\n",
    "# stacking a column of ones to represent the bias\n",
    "# current_input = np.column_stack((np.ones((current_input.shape[0],1)),current_input))\n",
    "# print current_input\n",
    "all_weights = []\n",
    "all_inputs = []\n",
    "all_sigmoids = []\n",
    "all_inputs.append(current_input)\n",
    "\n",
    "for i in range(bp.no_of_layers+1):  \n",
    "    #generating weights for synapsis for hidden layers\n",
    "    hidden_weights = bp.generate_weight(True,(current_input.shape[1],\n",
    "                                              bp.no_of_output_neurons if (i == bp.no_of_layers) else bp._hidden_config[i]))\n",
    "    all_weights.append(hidden_weights)\n",
    "    \n",
    "    #computing local field and output of each hidden neuron\n",
    "    local_field = bp.local_field(current_input,hidden_weights)\n",
    "    sigmoid = bp.sigmoid(local_field)\n",
    "    all_sigmoids.append(sigmoid)\n",
    "    \n",
    "    current_input = sigmoid\n",
    "    # stacking a column of ones to represent the bias\n",
    "#     current_input = np.column_stack((np.ones((sigmoid.shape[0],1)),sigmoid))\n",
    "    all_inputs.append(current_input)\n",
    "\n",
    "error = bp.desired_output - all_sigmoids[-1]\n",
    "\n",
    "all_derivatives = []\n",
    "print all_inputs\n",
    "for i in range(bp.no_of_layers+1,0,-1):\n",
    "    sigmoid_tic_j= bp.derivative_(all_inputs[i])\n",
    "#     print sigmoid_tic_j\n",
    "    all_derivatives.append(sigmoid_tic_j)\n",
    "    \n",
    "    if i==bp.no_of_layers+1:\n",
    "        delta_j = bp.delta(sigmoid_tic_j,error)\n",
    "\n",
    "        delta_w_ji = (bp.eta) * (all_inputs[i].T).dot(delta_j)\n",
    "        temp_weight = all_weights[i-1]\n",
    "        all_weights[i-1] = all_weights[i-1].T + delta_w_ji\n",
    "    else:\n",
    "        summed_error = delta_j.dot(temp_weight.T)\n",
    "\n",
    "        delta_j = bp.delta(sigmoid_tic_j,summed_error,True)\n",
    "        delta_w_ji = (bp.eta) * (all_inputs[i].T).dot(delta_j)\n",
    "#         print delta_w_ji\n",
    "#         print delta_j\n",
    "#         delta_w_ji = ((bp.eta * delta_j) * all_inputs[i-1].T).T\n",
    "\n",
    "#         temp_weight = all_weights[i-1]\n",
    "#         all_weights[i-1] = all_weights[i-1].T + delta_w_ji\n",
    "    \n",
    "#     sigma_tic =\n",
    "#     summed_error =\n",
    "#     delta(self,sigma_tic,summed_error)"
   ]
  },
  {
   "cell_type": "code",
   "execution_count": 192,
   "metadata": {},
   "outputs": [
    {
     "name": "stdout",
     "output_type": "stream",
     "text": [
      "[3, 2, 1, 0]\n"
     ]
    }
   ],
   "source": [
    "for i in range(6,1):\n",
    "    print i\n",
    "print range(3,-1,-1)"
   ]
  },
  {
   "cell_type": "code",
   "execution_count": null,
   "metadata": {
    "collapsed": true
   },
   "outputs": [],
   "source": [
    "# output_weights = bp.generate_weight(True,(current_input.shape[1],bp.no_of_output_neurons))\n",
    "# all_weights.append(output_weights)\n",
    "\n",
    "# local_field = bp.local_field(current_input,output_weights)\n",
    "# y_k = bp.sigmoid(local_field)\n",
    "# all_sigmoids.append(y_k)\n",
    "# print all_sigmoids"
   ]
  },
  {
   "cell_type": "code",
   "execution_count": 132,
   "metadata": {},
   "outputs": [
    {
     "name": "stdout",
     "output_type": "stream",
     "text": [
      "[[ 0.89447008  0.09125759  0.67917874]\n",
      " [ 0.07006443  0.47297002  0.48245074]]\n"
     ]
    },
    {
     "ename": "ValueError",
     "evalue": "shapes (4,3) and (2,3) not aligned: 3 (dim 1) != 2 (dim 0)",
     "output_type": "error",
     "traceback": [
      "\u001b[0;31m---------------------------------------------------------------------------\u001b[0m",
      "\u001b[0;31mValueError\u001b[0m                                Traceback (most recent call last)",
      "\u001b[0;32m<ipython-input-132-ebe69b917699>\u001b[0m in \u001b[0;36m<module>\u001b[0;34m()\u001b[0m\n\u001b[1;32m      7\u001b[0m \u001b[0;34m\u001b[0m\u001b[0m\n\u001b[1;32m      8\u001b[0m \u001b[0;32mprint\u001b[0m \u001b[0mhidden_weights\u001b[0m\u001b[0;34m\u001b[0m\u001b[0m\n\u001b[0;32m----> 9\u001b[0;31m \u001b[0mh_localfield\u001b[0m \u001b[0;34m=\u001b[0m \u001b[0mbp\u001b[0m\u001b[0;34m.\u001b[0m\u001b[0mlocal_field\u001b[0m\u001b[0;34m(\u001b[0m\u001b[0mbp\u001b[0m\u001b[0;34m.\u001b[0m\u001b[0minput_data_set\u001b[0m\u001b[0;34m,\u001b[0m\u001b[0mhidden_weights\u001b[0m\u001b[0;34m)\u001b[0m\u001b[0;34m\u001b[0m\u001b[0m\n\u001b[0m\u001b[1;32m     10\u001b[0m \u001b[0my_j\u001b[0m \u001b[0;34m=\u001b[0m \u001b[0mbp\u001b[0m\u001b[0;34m.\u001b[0m\u001b[0msigmoid\u001b[0m\u001b[0;34m(\u001b[0m\u001b[0mh_localfield\u001b[0m\u001b[0;34m)\u001b[0m\u001b[0;34m\u001b[0m\u001b[0m\n\u001b[1;32m     11\u001b[0m \u001b[0;34m\u001b[0m\u001b[0m\n",
      "\u001b[0;32m<ipython-input-94-a68e0a5dd01a>\u001b[0m in \u001b[0;36mlocal_field\u001b[0;34m(self, x, w)\u001b[0m\n\u001b[1;32m     21\u001b[0m \u001b[0;34m\u001b[0m\u001b[0m\n\u001b[1;32m     22\u001b[0m     \u001b[0;32mdef\u001b[0m \u001b[0mlocal_field\u001b[0m\u001b[0;34m(\u001b[0m\u001b[0mself\u001b[0m\u001b[0;34m,\u001b[0m\u001b[0mx\u001b[0m\u001b[0;34m,\u001b[0m\u001b[0mw\u001b[0m\u001b[0;34m)\u001b[0m\u001b[0;34m:\u001b[0m\u001b[0;34m\u001b[0m\u001b[0m\n\u001b[0;32m---> 23\u001b[0;31m         \u001b[0;32mreturn\u001b[0m \u001b[0mnp\u001b[0m\u001b[0;34m.\u001b[0m\u001b[0mdot\u001b[0m\u001b[0;34m(\u001b[0m\u001b[0mx\u001b[0m\u001b[0;34m,\u001b[0m\u001b[0mw\u001b[0m\u001b[0;34m)\u001b[0m\u001b[0;34m\u001b[0m\u001b[0m\n\u001b[0m\u001b[1;32m     24\u001b[0m \u001b[0;34m\u001b[0m\u001b[0m\n\u001b[1;32m     25\u001b[0m     \u001b[0;32mdef\u001b[0m \u001b[0merror\u001b[0m\u001b[0;34m(\u001b[0m\u001b[0mself\u001b[0m\u001b[0;34m,\u001b[0m\u001b[0my\u001b[0m\u001b[0;34m)\u001b[0m\u001b[0;34m:\u001b[0m\u001b[0;34m\u001b[0m\u001b[0m\n",
      "\u001b[0;31mValueError\u001b[0m: shapes (4,3) and (2,3) not aligned: 3 (dim 1) != 2 (dim 0)"
     ]
    }
   ],
   "source": [
    "bp = Backpropagation([2,2,1],\n",
    "                     np.array([[0,0],[0,1],[1,0],[1,1]]),\n",
    "                     np.array([[0],[1],[1],[0]]),\n",
    "                     5000)\n",
    "hidden_weights = bp.generate_weight(True,(bp.no_of_input_neurons,bp.no_of_hidden_neurons+1))\n",
    "output_weights = bp.generate_weight(True,(1,bp.no_of_hidden_neurons,bp.no_of_output_neurons+1))\n",
    "\n",
    "print hidden_weights\n",
    "h_localfield = bp.local_field(bp.input_data_set,hidden_weights)\n",
    "y_j = bp.sigmoid(h_localfield)\n",
    "\n",
    "o_local_field = bp.local_field(y_j,output_weights)\n",
    "y_k = bp.sigmoid(o_local_field)\n",
    "e = bp.error(y_k)\n",
    "print e"
   ]
  },
  {
   "cell_type": "code",
   "execution_count": null,
   "metadata": {
    "collapsed": true
   },
   "outputs": [],
   "source": []
  }
 ],
 "metadata": {
  "kernelspec": {
   "display_name": "Python 2",
   "language": "python",
   "name": "python2"
  },
  "language_info": {
   "codemirror_mode": {
    "name": "ipython",
    "version": 2
   },
   "file_extension": ".py",
   "mimetype": "text/x-python",
   "name": "python",
   "nbconvert_exporter": "python",
   "pygments_lexer": "ipython2",
   "version": "2.7.14"
  }
 },
 "nbformat": 4,
 "nbformat_minor": 2
}
