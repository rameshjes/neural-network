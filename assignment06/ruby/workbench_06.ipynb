{
 "cells": [
  {
   "cell_type": "code",
   "execution_count": 8,
   "metadata": {
    "collapsed": true
   },
   "outputs": [],
   "source": [
    "import numpy as np\n",
    "import sympy as sp\n",
    "import matplotlib.pyplot as plt\n",
    "%matplotlib inline"
   ]
  },
  {
   "cell_type": "markdown",
   "metadata": {},
   "source": [
    "# Exercise 2\n",
    "For this task you have to program the back-propogation (BP) for multi layered perceptron (MLP). Design your implementation for general NN with arbitrary many hidden layers. The test case is as follows:  2-2-1 multi layered perceptron (MLP) with sigmoid activation function on XOR data. \n",
    "\n",
    "a. Experiments with initial weights\n",
    "\n",
    "i. Train the network with zero initial weights i.e. wij = 0.\n",
    "\n",
    "ii. Train with random initial weights"
   ]
  },
  {
   "cell_type": "code",
   "execution_count": 9,
   "metadata": {
    "collapsed": true
   },
   "outputs": [],
   "source": [
    "class NeuralNetwork:\n",
    "\n",
    "    def __init__(self,\n",
    "                 _no_input_neuron,\n",
    "                 _hidden_config,\n",
    "                 _no_output_neuron,\n",
    "                 _input_data_set,\n",
    "                 _desired_output,\n",
    "                 _learning_rate,\n",
    "                 _random_initial_weight):\n",
    "\n",
    "        self.no_of_input_neurons = _no_input_neuron\n",
    "        self._hidden_config = _hidden_config\n",
    "        self.no_of_layers = len(_hidden_config)\n",
    "        self.no_of_hidden_neurons = _hidden_config[0]\n",
    "        self.no_of_output_neurons = _no_output_neuron\n",
    "\n",
    "        self.input_data_set = _input_data_set\n",
    "        self.desired_output = _desired_output\n",
    "        \n",
    "        self.learning_rate = _learning_rate\n",
    "        self.random_initial_weight = _random_initial_weight\n",
    "        \n",
    "    def generate_weight(self,is_random,_size):\n",
    "        return np.random.uniform(size=_size) if is_random else np.zeros(_size)\n",
    "        \n",
    "    def sigmoid (self,x): \n",
    "        return 1/(1 + np.exp(-x)) \n",
    "    \n",
    "    def derivative_(self,x): \n",
    "        return x * (1 - x)\n",
    "    \n",
    "    def local_field(self,x,w):\n",
    "        return np.dot(x,w)\n",
    "    \n",
    "    def error(self,y):\n",
    "        return self.desired_output - y\n",
    "    \n",
    "    def delta(self,sigma_tic,summed_error,flag = False):\n",
    "        return summed_error * sigma_tic        \n",
    "#         return np.dot(sigma_tic,summed_error) if flag else sigma_tic*summed_error\n",
    "\n",
    "    def backpropagation(self,fig_title):\n",
    "        \n",
    "        # weights from input layer to hidden layer\n",
    "        Wh = self.generate_weight(self.random_initial_weight,(self.no_of_input_neurons, self._hidden_config[0]))\n",
    "        # weights from hidden layer to output layer\n",
    "        Wz = self.generate_weight(self.random_initial_weight,(self._hidden_config[0],self.no_of_output_neurons))\n",
    "        \n",
    "        w_0 = []\n",
    "        w_1 = []\n",
    "        \n",
    "        avg_error = float('inf')\n",
    "        epochs = 0\n",
    "        \n",
    "        # In zero initial weight case the error will be always same,\n",
    "        # so we need to break the loop after some maximum epoch limit\n",
    "        while avg_error > 0.01 and epochs < 1000000:\n",
    "            #activation result from hidden layer neurons\n",
    "            H = self.sigmoid(np.dot(bp.input_data_set, Wh))\n",
    "            #activatiion result from output neurons\n",
    "            Z = self.sigmoid(np.dot(H, Wz))  \n",
    "            #error calculation\n",
    "            E = self.desired_output - Z\n",
    "            #calculating delta_j for output neuron\n",
    "            dZ = E * self.derivative_(Z) \n",
    "            #calculating delta_j for hidden neuron\n",
    "            dH = dZ.dot(Wz.T) * self.derivative_(H)\n",
    "            \n",
    "            #updating weights using backpropagation\n",
    "            Wz +=  self.learning_rate * H.T.dot(dZ)\n",
    "            Wh +=  self.learning_rate * self.input_data_set.T.dot(dH) \n",
    "            \n",
    "            w_0.append(Wz[0,:][0])\n",
    "            w_1.append(Wz[1,:][0])\n",
    "            avg_error = (np.average(E**2))\n",
    "            epochs += 1\n",
    "            \n",
    "        w_0 = np.asarray(w_0)\n",
    "        w_1 = np.asarray(w_1)\n",
    "        \n",
    "        plt.plot(w_0,w_1)\n",
    "        plt.xlabel('w0 -->')\n",
    "        plt.ylabel('w1 -->')\n",
    "        plt.title(fig_title)\n",
    "        return E,Wh,Wz,epochs"
   ]
  },
  {
   "cell_type": "code",
   "execution_count": 10,
   "metadata": {},
   "outputs": [
    {
     "data": {
      "text/plain": [
       "'\\nparameters required to init NeuralNetwork class:\\n    1. number of input layer\\n    2. number of hidden neurons in each hidden layers\\n    3. input data set\\n    4. desired output set\\n    5. learning rate\\n    6. Random initial weight or zero initial weight (True or False)\\n'"
      ]
     },
     "execution_count": 10,
     "metadata": {},
     "output_type": "execute_result"
    }
   ],
   "source": [
    "\"\"\"\n",
    "parameters required to init NeuralNetwork class:\n",
    "    1. number of input layer\n",
    "    2. number of hidden neurons in each hidden layers\n",
    "    3. input data set\n",
    "    4. desired output set\n",
    "    5. learning rate\n",
    "    6. Random initial weight or zero initial weight (True or False)\n",
    "\"\"\""
   ]
  },
  {
   "cell_type": "code",
   "execution_count": 12,
   "metadata": {
    "scrolled": true
   },
   "outputs": [
    {
     "name": "stdout",
     "output_type": "stream",
     "text": [
      "Error : \n",
      "[[-0.5]\n",
      " [ 0.5]\n",
      " [ 0.5]\n",
      " [-0.5]]\n",
      "weights from input to hidden layer : \n",
      "[[ 0.  0.]\n",
      " [ 0.  0.]]\n",
      "weights from hidden to output layer : \n",
      "[[ 0.]\n",
      " [ 0.]]\n",
      "Number of epochs :  1000000\n"
     ]
    },
    {
     "data": {
      "image/png": "[encoded data removed]",
      "text/plain": [
       "<matplotlib.figure.Figure at 0x7fc205551190>"
      ]
     },
     "metadata": {},
     "output_type": "display_data"
    }
   ],
   "source": [
    "\"\"\"\n",
    "case 1: start with zero weights\n",
    "    If we start with zero weights, then all hidden neurons will get zero signal \n",
    "    even the real input is some non-zero number.\n",
    "    By using the given sample input, observed that the error is always same and the weight vector is always zero.\n",
    "    To avoid this symmetry condition, we always start learning process with random weights initialization \n",
    "    since the error is always same, we breaking the learning process after some number of epochs (100000000)\n",
    "\"\"\"\n",
    "bp = NeuralNetwork(2,\n",
    "                     [2],\n",
    "                     1,\n",
    "                     np.array([[0,0],[0,1],[1,0],[1,1]]),\n",
    "                     np.array([[0],[1],[1],[0]]),\n",
    "                     0.1,False)\n",
    "\n",
    "error,weights_hidden_layer,weights_output_layer,epochs = bp.backpropagation(\"weight plot with zero initial weight\")\n",
    "print \"Error : \\n\", error\n",
    "print \"weights from input to hidden layer : \\n\", weights_hidden_layer\n",
    "print \"weights from hidden to output layer : \\n\", weights_output_layer\n",
    "print \"Number of epochs : \", epochs"
   ]
  },
  {
   "cell_type": "code",
   "execution_count": 13,
   "metadata": {
    "scrolled": true
   },
   "outputs": [
    {
     "name": "stdout",
     "output_type": "stream",
     "text": [
      "Error : \n",
      "[[-0.05269252]\n",
      " [ 0.09943544]\n",
      " [ 0.09943568]\n",
      " [-0.13209317]]\n",
      "weights from input to hidden layer : \n",
      "[[ 0.90718746  7.35385204]\n",
      " [ 0.90717725  7.34991048]]\n",
      "weights from hidden to output layer : \n",
      "[[-27.80466028]\n",
      " [ 22.0263288 ]]\n",
      "Number of epochs :  53181\n"
     ]
    },
    {
     "data": {
      "image/png": "[encoded data removed]",
      "text/plain": [
       "<matplotlib.figure.Figure at 0x7fc1f2cb11d0>"
      ]
     },
     "metadata": {},
     "output_type": "display_data"
    }
   ],
   "source": [
    "\"\"\"\n",
    "case 2: start with random weights\n",
    "        If we start with random weights the error is reducing proportional to the learning rate\n",
    "\"\"\"\n",
    "bp = NeuralNetwork(2,\n",
    "                     [2],\n",
    "                     1,\n",
    "                     np.array([[0,0],[0,1],[1,0],[1,1]]),\n",
    "                     np.array([[0],[1],[1],[0]]),\n",
    "                     0.1,True)\n",
    "\n",
    "error,weights_hidden_layer,weights_output_layer,epochs = bp.backpropagation(\"weight plot with random initial weight\")\n",
    "print \"Error : \\n\", error\n",
    "print \"weights from input to hidden layer : \\n\", weights_hidden_layer\n",
    "print \"weights from hidden to output layer : \\n\", weights_output_layer\n",
    "print \"Number of epochs : \", epochs"
   ]
  },
  {
   "cell_type": "markdown",
   "metadata": {},
   "source": [
    "Compare and comment on the convergence.\n",
    "\n",
    "b. Experiment with different learning rates e.g. 0.1, 0.3, 0.5, 0.9..\n",
    "\n",
    "Compare the convergence and plot some resulting surfaces. You are not allowed to use any neural network toolbox for this solution."
   ]
  },
  {
   "cell_type": "code",
   "execution_count": 14,
   "metadata": {},
   "outputs": [
    {
     "name": "stdout",
     "output_type": "stream",
     "text": [
      "Error : \n",
      "[[-0.05269241]\n",
      " [ 0.09943539]\n",
      " [ 0.09943512]\n",
      " [-0.13209275]]\n",
      "weights from input to hidden layer : \n",
      "[[ 7.34996298  0.90717624]\n",
      " [ 7.35468409  0.90718847]]\n",
      "weights from hidden to output layer : \n",
      "[[ 22.02632994]\n",
      " [-27.80466579]]\n",
      "Number of epochs :  51332\n"
     ]
    },
    {
     "data": {
      "image/png": "[encoded data removed]",
      "text/plain": [
       "<matplotlib.figure.Figure at 0x7fc1fab3db10>"
      ]
     },
     "metadata": {},
     "output_type": "display_data"
    }
   ],
   "source": [
    "\"\"\"\n",
    "case b (i): start with random weights and learning rate is 0.1\n",
    "\"\"\"\n",
    "bp = NeuralNetwork(2,\n",
    "                     [2],\n",
    "                     1,\n",
    "                     np.array([[0,0],[0,1],[1,0],[1,1]]),\n",
    "                     np.array([[0],[1],[1],[0]]),\n",
    "                     0.1,True)\n",
    "error,weights_hidden_layer,weights_output_layer,epochs = bp.backpropagation(\"random weight with learning rate 0.1\")\n",
    "print \"Error : \\n\", error\n",
    "print \"weights from input to hidden layer : \\n\", weights_hidden_layer\n",
    "print \"weights from hidden to output layer : \\n\", weights_output_layer\n",
    "print \"Number of epochs : \", epochs"
   ]
  },
  {
   "cell_type": "code",
   "execution_count": 15,
   "metadata": {},
   "outputs": [
    {
     "name": "stdout",
     "output_type": "stream",
     "text": [
      "Error : \n",
      "[[-0.0526904 ]\n",
      " [ 0.09943258]\n",
      " [ 0.09943261]\n",
      " [-0.13208929]]\n",
      "weights from input to hidden layer : \n",
      "[[ 0.90718634  7.35197211]\n",
      " [ 0.90718506  7.35147656]]\n",
      "weights from hidden to output layer : \n",
      "[[-27.80544949]\n",
      " [ 22.02697059]]\n",
      "Number of epochs :  18242\n"
     ]
    },
    {
     "data": {
      "image/png": "[encoded data removed]",
      "text/plain": [
       "<matplotlib.figure.Figure at 0x7fc1fab05250>"
      ]
     },
     "metadata": {},
     "output_type": "display_data"
    }
   ],
   "source": [
    "\"\"\"\n",
    "case b (i): start with random weights and learning rate is 0.3\n",
    "\"\"\"\n",
    "bp = NeuralNetwork(2,\n",
    "                     [2],\n",
    "                     1,\n",
    "                     np.array([[0,0],[0,1],[1,0],[1,1]]),\n",
    "                     np.array([[0],[1],[1],[0]]),\n",
    "                     0.3,True)\n",
    "\n",
    "error,weights_hidden_layer,weights_output_layer,epochs = bp.backpropagation(\"random weight with learning rate 0.3\")\n",
    "print \"Error : \\n\", error\n",
    "print \"weights from input to hidden layer : \\n\", weights_hidden_layer\n",
    "print \"weights from hidden to output layer : \\n\", weights_output_layer\n",
    "print \"Number of epochs : \", epochs"
   ]
  },
  {
   "cell_type": "code",
   "execution_count": 16,
   "metadata": {
    "scrolled": true
   },
   "outputs": [
    {
     "name": "stdout",
     "output_type": "stream",
     "text": [
      "Error : \n",
      "[[-0.05269229]\n",
      " [ 0.09943524]\n",
      " [ 0.09943538]\n",
      " [-0.13209285]]\n",
      "weights from input to hidden layer : \n",
      "[[ 7.35288931  0.90718848]\n",
      " [ 7.35051739  0.90718233]]\n",
      "weights from hidden to output layer : \n",
      "[[ 22.026913  ]\n",
      " [-27.80537836]]\n",
      "Number of epochs :  11912\n"
     ]
    },
    {
     "data": {
      "image/png": "[encoded data removed]",
      "text/plain": [
       "<matplotlib.figure.Figure at 0x7fc1faabdfd0>"
      ]
     },
     "metadata": {},
     "output_type": "display_data"
    }
   ],
   "source": [
    "\"\"\"\n",
    "case b (i): start with random weights and learning rate is 0.5\n",
    "\"\"\"\n",
    "bp = NeuralNetwork(2,\n",
    "                     [2],\n",
    "                     1,\n",
    "                     np.array([[0,0],[0,1],[1,0],[1,1]]),\n",
    "                     np.array([[0],[1],[1],[0]]),\n",
    "                     0.5,True)\n",
    "\n",
    "error,weights_hidden_layer,weights_output_layer,epochs = bp.backpropagation(\"random weight with learning rate 0.5\")\n",
    "print \"Error : \\n\", error\n",
    "print \"weights from input to hidden layer : \\n\", weights_hidden_layer\n",
    "print \"weights from hidden to output layer : \\n\", weights_output_layer\n",
    "print \"Number of epochs : \", epochs"
   ]
  },
  {
   "cell_type": "code",
   "execution_count": 17,
   "metadata": {},
   "outputs": [
    {
     "name": "stdout",
     "output_type": "stream",
     "text": [
      "Error : \n",
      "[[-0.05269351]\n",
      " [ 0.09943465]\n",
      " [ 0.09943594]\n",
      " [-0.13209267]]\n",
      "weights from input to hidden layer : \n",
      "[[ 7.36797856  0.90721451]\n",
      " [ 7.34588472  0.90715754]]\n",
      "weights from hidden to output layer : \n",
      "[[ 22.02703362]\n",
      " [-27.80557484]]\n",
      "Number of epochs :  6567\n"
     ]
    },
    {
     "data": {
      "image/png": "[encoded data removed]",
      "text/plain": [
       "<matplotlib.figure.Figure at 0x7fc1faa78850>"
      ]
     },
     "metadata": {},
     "output_type": "display_data"
    }
   ],
   "source": [
    "\"\"\"\n",
    "case b (i): start with random weights and learning rate is 0.9\n",
    "\"\"\"\n",
    "bp = NeuralNetwork(2,\n",
    "                     [2],\n",
    "                     1,\n",
    "                     np.array([[0,0],[0,1],[1,0],[1,1]]),\n",
    "                     np.array([[0],[1],[1],[0]]),\n",
    "                     0.9,True)\n",
    "\n",
    "error,weights_hidden_layer,weights_output_layer,epochs = bp.backpropagation(\"random weight with learning rate 0.9\")\n",
    "print \"Error : \\n\", error\n",
    "print \"weights from input to hidden layer : \\n\", weights_hidden_layer\n",
    "print \"weights from hidden to output layer : \\n\", weights_output_layer\n",
    "print \"Number of epochs : \", epochs"
   ]
  },
  {
   "cell_type": "markdown",
   "metadata": {},
   "source": [
    "# observations with different learning rate\n",
    "\n",
    "By increasing the learning rate, observed that error and number of epochs is reducing significantly faster. In case one, with learning rate 0.1 the error is [[-0.03347088] [ 0.07031518] [ 0.07031523] [-0.09374767]] and with learning rate 0.9 the error is reduced to [[-0.00719604]\n",
    " [ 0.02115464]\n",
    " [ 0.02115463]\n",
    " [-0.02845579]].\n",
    " \n",
    "But we are not sure, the network found the optimal solution with the huge learning rate or it stuck with local minima."
   ]
  }
 ],
 "metadata": {
  "kernelspec": {
   "display_name": "Python 2",
   "language": "python",
   "name": "python2"
  },
  "language_info": {
   "codemirror_mode": {
    "name": "ipython",
    "version": 2
   },
   "file_extension": ".py",
   "mimetype": "text/x-python",
   "name": "python",
   "nbconvert_exporter": "python",
   "pygments_lexer": "ipython2",
   "version": "2.7.14"
  }
 },
 "nbformat": 4,
 "nbformat_minor": 2
}
