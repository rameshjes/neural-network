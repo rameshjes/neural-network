{
 "cells": [
  {
   "cell_type": "code",
   "execution_count": 234,
   "metadata": {
    "collapsed": true
   },
   "outputs": [],
   "source": [
    "import numpy as np\n",
    "import sympy as sp\n",
    "import matplotlib.pyplot as plt\n",
    "%matplotlib inline"
   ]
  },
  {
   "cell_type": "code",
   "execution_count": 235,
   "metadata": {
    "collapsed": true
   },
   "outputs": [],
   "source": [
    "class NeuralNetwork:\n",
    "\n",
    "    def __init__(self,\n",
    "                 _no_input_neuron,\n",
    "                 _hidden_config,\n",
    "                 _no_output_neuron,\n",
    "                 _input_data_set,\n",
    "                 _desired_output,\n",
    "                 _learning_rate,\n",
    "                 _random_initial_weight):\n",
    "\n",
    "        self.no_of_input_neurons = _no_input_neuron\n",
    "        self._hidden_config = _hidden_config\n",
    "        self.no_of_layers = len(_hidden_config)\n",
    "        self.no_of_hidden_neurons = _hidden_config[0]\n",
    "        self.no_of_output_neurons = _no_output_neuron\n",
    "\n",
    "        self.input_data_set = _input_data_set\n",
    "        self.desired_output = _desired_output\n",
    "        \n",
    "        self.learning_rate = _learning_rate\n",
    "        self.random_initial_weight = _random_initial_weight\n",
    "        \n",
    "    def generate_weight(self,is_random,_size):\n",
    "        return np.random.uniform(size=_size) if is_random else np.zeros(_size)\n",
    "        \n",
    "    def sigmoid (self,x): \n",
    "        return 1/(1 + np.exp(-x)) \n",
    "    \n",
    "    def derivative_(self,x): \n",
    "        return x * (1 - x)\n",
    "    \n",
    "    def local_field(self,x,w):\n",
    "        return np.dot(x,w)\n",
    "    \n",
    "    def error(self,y):\n",
    "        return self.desired_output - y\n",
    "    \n",
    "    def delta(self,sigma_tic,summed_error,flag = False):\n",
    "        return summed_error * sigma_tic        \n",
    "#         return np.dot(sigma_tic,summed_error) if flag else sigma_tic*summed_error\n",
    "\n",
    "    def backpropagation(self):\n",
    "        \n",
    "        # weights from input layer to hidden layer\n",
    "        Wh = self.generate_weight(self.random_initial_weight,(self.no_of_input_neurons, self._hidden_config[0]))\n",
    "        # weights from hidden layer to output layer\n",
    "        Wz = self.generate_weight(self.random_initial_weight,(self._hidden_config[0],self.no_of_output_neurons))\n",
    "        \n",
    "        w_0 = []\n",
    "        w_1 = []\n",
    "        \n",
    "        avg_error = float('inf')\n",
    "        epochs = 0\n",
    "        \n",
    "        # In zero initial weight case the error will be always same,\n",
    "        # so we need to break the loop after some maximum epoch limit\n",
    "        while avg_error > 0.01 and epochs < 100000000:\n",
    "            #activation result from hidden layer neurons\n",
    "            H = self.sigmoid(np.dot(bp.input_data_set, Wh))\n",
    "            #activatiion result from output neurons\n",
    "            Z = self.sigmoid(np.dot(H, Wz))  \n",
    "            #error calculation\n",
    "            E = self.desired_output - Z\n",
    "            #calculating delta_j for output neuron\n",
    "            dZ = E * self.derivative_(Z) \n",
    "            #calculating delta_j for hidden neuron\n",
    "            dH = dZ.dot(Wz.T) * self.derivative_(H)\n",
    "            \n",
    "            #updating weights using backpropagation\n",
    "            Wz +=  self.learning_rate * H.T.dot(dZ)\n",
    "            Wh +=  self.learning_rate * self.input_data_set.T.dot(dH) \n",
    "            \n",
    "            w_0.append(Wz[0,:][0])\n",
    "            w_1.append(Wz[1,:][0])\n",
    "            avg_error = (np.average(E**2))\n",
    "            epochs += 1\n",
    "            \n",
    "        w_0 = np.asarray(w_0)\n",
    "        w_1 = np.asarray(w_1)\n",
    "        \n",
    "        plt.plot(w_0,w_1)\n",
    "        plt.xlabel('w0 -->')\n",
    "        plt.ylabel('w1 -->')\n",
    "        return E,Wh,Wz,epochs"
   ]
  },
  {
   "cell_type": "code",
   "execution_count": 221,
   "metadata": {},
   "outputs": [
    {
     "data": {
      "text/plain": [
       "'\\nparameters required to init NeuralNetwork class:\\n    1. number of input layer\\n    2. number of hidden neurons in each hidden layers\\n    3. input data set\\n    4. desired output set\\n    5. learning rate\\n    6. Random initial weight or zero initial weight (True or False)\\n'"
      ]
     },
     "execution_count": 221,
     "metadata": {},
     "output_type": "execute_result"
    }
   ],
   "source": [
    "\"\"\"\n",
    "parameters required to init NeuralNetwork class:\n",
    "    1. number of input layer\n",
    "    2. number of hidden neurons in each hidden layers\n",
    "    3. input data set\n",
    "    4. desired output set\n",
    "    5. learning rate\n",
    "    6. Random initial weight or zero initial weight (True or False)\n",
    "\"\"\""
   ]
  },
  {
   "cell_type": "code",
   "execution_count": 236,
   "metadata": {
    "scrolled": true
   },
   "outputs": [
    {
     "name": "stdout",
     "output_type": "stream",
     "text": [
      "Error : \n",
      "[[-0.5]\n",
      " [ 0.5]\n",
      " [ 0.5]\n",
      " [-0.5]]\n",
      "weights from input to hidden layer : \n",
      "[[ 0.  0.]\n",
      " [ 0.  0.]]\n",
      "weights from hidden to output layer : \n",
      "[[ 0.]\n",
      " [ 0.]]\n",
      "Number of epochs :  1000\n"
     ]
    },
    {
     "data": {
      "image/png": "[encoded data removed]",
      "text/plain": [
       "<matplotlib.figure.Figure at 0x7f7b27a442d0>"
      ]
     },
     "metadata": {},
     "output_type": "display_data"
    }
   ],
   "source": [
    "\"\"\"\n",
    "case 1: start with zero weights\n",
    "    If we start with zero weights, then all hidden neurons will get zero signal \n",
    "    even the real input is some non-zero number.\n",
    "    By using the given sample input, observed that the error is always same and the weight vector is always zero.\n",
    "    To avoid this symmetry condition, we always start learning process with random weights initialization \n",
    "    since the error is always same, we breaking the learning process after some number of epochs (100000000)\n",
    "\"\"\"\n",
    "bp = NeuralNetwork(2,\n",
    "                     [2],\n",
    "                     1,\n",
    "                     np.array([[0,0],[0,1],[1,0],[1,1]]),\n",
    "                     np.array([[0],[1],[1],[0]]),\n",
    "                     0.1,False)\n",
    "\n",
    "error,weights_hidden_layer,weights_output_layer,epochs = bp.backpropagation()\n",
    "print \"Error : \\n\", error\n",
    "print \"weights from input to hidden layer : \\n\", weights_hidden_layer\n",
    "print \"weights from hidden to output layer : \\n\", weights_output_layer\n",
    "print \"Number of epochs : \", epochs"
   ]
  },
  {
   "cell_type": "code",
   "execution_count": 226,
   "metadata": {},
   "outputs": [
    {
     "name": "stdout",
     "output_type": "stream",
     "text": [
      "Error : \n",
      "[[-0.05269229]\n",
      " [ 0.09943506]\n",
      " [ 0.0994345 ]\n",
      " [-0.1320921 ]]\n",
      "weights from input to hidden layer : \n",
      "[[ 7.34835239  0.9071697 ]\n",
      " [ 7.35807468  0.90719487]]\n",
      "weights from hidden to output layer : \n",
      "[[ 22.02631569]\n",
      " [-27.8046564 ]]\n",
      "Number of epochs :  52078\n"
     ]
    },
    {
     "data": {
      "image/png": "[encoded data removed]",
      "text/plain": [
       "<matplotlib.figure.Figure at 0x7f7b27a13290>"
      ]
     },
     "metadata": {},
     "output_type": "display_data"
    }
   ],
   "source": [
    "\"\"\"\n",
    "case 2: start with random weights\n",
    "        If we start with random weights the error is reducing proportional to the learning rate\n",
    "\"\"\"\n",
    "bp = NeuralNetwork(2,\n",
    "                     [2],\n",
    "                     1,\n",
    "                     np.array([[0,0],[0,1],[1,0],[1,1]]),\n",
    "                     np.array([[0],[1],[1],[0]]),\n",
    "                     0.1,True)\n",
    "\n",
    "error,weights_hidden_layer,weights_output_layer,epochs = bp.backpropagation()\n",
    "print \"Error : \\n\", error\n",
    "print \"weights from input to hidden layer : \\n\", weights_hidden_layer\n",
    "print \"weights from hidden to output layer : \\n\", weights_output_layer\n",
    "print \"Number of epochs : \", epochs"
   ]
  },
  {
   "cell_type": "code",
   "execution_count": 228,
   "metadata": {},
   "outputs": [
    {
     "name": "stdout",
     "output_type": "stream",
     "text": [
      "Error : \n",
      "[[-0.05269194]\n",
      " [ 0.09943473]\n",
      " [ 0.09943474]\n",
      " [-0.13209209]]\n",
      "weights from input to hidden layer : \n",
      "[[ 7.35189527  0.90718301]\n",
      " [ 7.35180254  0.90718277]]\n",
      "weights from hidden to output layer : \n",
      "[[ 22.02643134]\n",
      " [-27.80478632]]\n",
      "Number of epochs :  50902\n"
     ]
    },
    {
     "data": {
      "image/png": "[encoded data removed]",
      "text/plain": [
       "<matplotlib.figure.Figure at 0x7f7b1884d590>"
      ]
     },
     "metadata": {},
     "output_type": "display_data"
    }
   ],
   "source": [
    "\"\"\"\n",
    "case b (i): start with random weights and learning rate is 0.1\n",
    "\"\"\"\n",
    "bp = NeuralNetwork(2,\n",
    "                     [2],\n",
    "                     1,\n",
    "                     np.array([[0,0],[0,1],[1,0],[1,1]]),\n",
    "                     np.array([[0],[1],[1],[0]]),\n",
    "                     0.1,True)\n",
    "error,weights_hidden_layer,weights_output_layer,epochs = bp.backpropagation()\n",
    "print \"Error : \\n\", error\n",
    "print \"weights from input to hidden layer : \\n\", weights_hidden_layer\n",
    "print \"weights from hidden to output layer : \\n\", weights_output_layer\n",
    "print \"Number of epochs : \", epochs"
   ]
  },
  {
   "cell_type": "code",
   "execution_count": 229,
   "metadata": {},
   "outputs": [
    {
     "name": "stdout",
     "output_type": "stream",
     "text": [
      "Error : \n",
      "[[-0.05269202]\n",
      " [ 0.09943488]\n",
      " [ 0.09943493]\n",
      " [-0.13209232]]\n",
      "weights from input to hidden layer : \n",
      "[[ 7.35217712  0.90718544]\n",
      " [ 7.35125529  0.90718305]]\n",
      "weights from hidden to output layer : \n",
      "[[ 22.02669106]\n",
      " [-27.80510506]]\n",
      "Number of epochs :  18915\n"
     ]
    },
    {
     "data": {
      "image/png": "[encoded data removed]",
      "text/plain": [
       "<matplotlib.figure.Figure at 0x7f7b189d6390>"
      ]
     },
     "metadata": {},
     "output_type": "display_data"
    }
   ],
   "source": [
    "\"\"\"\n",
    "case b (i): start with random weights and learning rate is 0.3\n",
    "\"\"\"\n",
    "bp = NeuralNetwork(2,\n",
    "                     [2],\n",
    "                     1,\n",
    "                     np.array([[0,0],[0,1],[1,0],[1,1]]),\n",
    "                     np.array([[0],[1],[1],[0]]),\n",
    "                     0.3,True)\n",
    "\n",
    "error,weights_hidden_layer,weights_output_layer,epochs = bp.backpropagation()\n",
    "print \"Error : \\n\", error\n",
    "print \"weights from input to hidden layer : \\n\", weights_hidden_layer\n",
    "print \"weights from hidden to output layer : \\n\", weights_output_layer\n",
    "print \"Number of epochs : \", epochs"
   ]
  },
  {
   "cell_type": "code",
   "execution_count": 230,
   "metadata": {
    "scrolled": true
   },
   "outputs": [
    {
     "name": "stdout",
     "output_type": "stream",
     "text": [
      "Error : \n",
      "[[-0.05269257]\n",
      " [ 0.09943474]\n",
      " [ 0.09943544]\n",
      " [-0.1320925 ]]\n",
      "weights from input to hidden layer : \n",
      "[[ 0.90720025  7.35952373]\n",
      " [ 0.90716928  7.3475537 ]]\n",
      "weights from hidden to output layer : \n",
      "[[-27.80524542]\n",
      " [ 22.02679139]]\n",
      "Number of epochs :  10862\n"
     ]
    },
    {
     "data": {
      "image/png": "[encoded data removed]",
      "text/plain": [
       "<matplotlib.figure.Figure at 0x7f7b27bdc510>"
      ]
     },
     "metadata": {},
     "output_type": "display_data"
    }
   ],
   "source": [
    "\"\"\"\n",
    "case b (i): start with random weights and learning rate is 0.5\n",
    "\"\"\"\n",
    "bp = NeuralNetwork(2,\n",
    "                     [2],\n",
    "                     1,\n",
    "                     np.array([[0,0],[0,1],[1,0],[1,1]]),\n",
    "                     np.array([[0],[1],[1],[0]]),\n",
    "                     0.5,True)\n",
    "\n",
    "error,weights_hidden_layer,weights_output_layer,epochs = bp.backpropagation()\n",
    "print \"Error : \\n\", error\n",
    "print \"weights from input to hidden layer : \\n\", weights_hidden_layer\n",
    "print \"weights from hidden to output layer : \\n\", weights_output_layer\n",
    "print \"Number of epochs : \", epochs"
   ]
  },
  {
   "cell_type": "code",
   "execution_count": 231,
   "metadata": {},
   "outputs": [
    {
     "name": "stdout",
     "output_type": "stream",
     "text": [
      "Error : \n",
      "[[-0.05268739]\n",
      " [ 0.09942805]\n",
      " [ 0.09942746]\n",
      " [-0.13208288]]\n",
      "weights from input to hidden layer : \n",
      "[[ 7.34836596  0.90717901]\n",
      " [ 7.35860018  0.90720549]]\n",
      "weights from hidden to output layer : \n",
      "[[ 22.02822552]\n",
      " [-27.80701173]]\n",
      "Number of epochs :  5776\n"
     ]
    },
    {
     "data": {
      "image/png": "[encoded data removed]",
      "text/plain": [
       "<matplotlib.figure.Figure at 0x7f7b18709150>"
      ]
     },
     "metadata": {},
     "output_type": "display_data"
    }
   ],
   "source": [
    "\"\"\"\n",
    "case b (i): start with random weights and learning rate is 0.9\n",
    "\"\"\"\n",
    "bp = NeuralNetwork(2,\n",
    "                     [2],\n",
    "                     1,\n",
    "                     np.array([[0,0],[0,1],[1,0],[1,1]]),\n",
    "                     np.array([[0],[1],[1],[0]]),\n",
    "                     0.9,True)\n",
    "\n",
    "error,weights_hidden_layer,weights_output_layer,epochs = bp.backpropagation()\n",
    "print \"Error : \\n\", error\n",
    "print \"weights from input to hidden layer : \\n\", weights_hidden_layer\n",
    "print \"weights from hidden to output layer : \\n\", weights_output_layer\n",
    "print \"Number of epochs : \", epochs"
   ]
  },
  {
   "cell_type": "markdown",
   "metadata": {},
   "source": [
    "# observations with different learning rate\n",
    "\n",
    "By increasing the learning rate, observed that error and number of epochs is reducing significantly faster. In case one, with learning rate 0.1 the error is [[-0.03347088] [ 0.07031518] [ 0.07031523] [-0.09374767]] and with learning rate 0.9 the error is reduced to [[-0.00719604]\n",
    " [ 0.02115464]\n",
    " [ 0.02115463]\n",
    " [-0.02845579]].\n",
    " \n",
    "But we are not sure, the network found the optimal solution with the huge learning rate or it stuck with local minima."
   ]
  }
 ],
 "metadata": {
  "kernelspec": {
   "display_name": "Python 2",
   "language": "python",
   "name": "python2"
  },
  "language_info": {
   "codemirror_mode": {
    "name": "ipython",
    "version": 2
   },
   "file_extension": ".py",
   "mimetype": "text/x-python",
   "name": "python",
   "nbconvert_exporter": "python",
   "pygments_lexer": "ipython2",
   "version": "2.7.14"
  }
 },
 "nbformat": 4,
 "nbformat_minor": 2
}
