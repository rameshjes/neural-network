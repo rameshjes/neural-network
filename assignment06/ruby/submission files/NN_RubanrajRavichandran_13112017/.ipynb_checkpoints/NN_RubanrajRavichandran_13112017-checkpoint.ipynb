{
 "cells": [
  {
   "cell_type": "code",
   "execution_count": 8,
   "metadata": {
    "collapsed": true
   },
   "outputs": [],
   "source": [
    "import numpy as np\n",
    "import sympy as sp\n",
    "import matplotlib.pyplot as plt\n",
    "import random\n",
    "%matplotlib inline"
   ]
  },
  {
   "cell_type": "markdown",
   "metadata": {},
   "source": [
    "# Exercise 2\n",
    "For this task you have to program the back-propogation (BP) for multi layered perceptron (MLP). Design your implementation for general NN with arbitrary many hidden layers. The test case is as follows:  2-2-1 multi layered perceptron (MLP) with sigmoid activation function on XOR data. \n",
    "\n",
    "a. Experiments with initial weights\n",
    "\n",
    "i. Train the network with zero initial weights i.e. wij = 0.\n",
    "\n",
    "ii. Train with random initial weights"
   ]
  },
  {
   "cell_type": "code",
   "execution_count": 9,
   "metadata": {
    "collapsed": true
   },
   "outputs": [],
   "source": [
    "class NeuralNetwork:\n",
    "\n",
    "    def __init__(self,\n",
    "                 _no_input_neuron,\n",
    "                 _hidden_config,\n",
    "                 _no_output_neuron,\n",
    "                 _input_data_set,\n",
    "                 _desired_output,\n",
    "                 _learning_rate,\n",
    "                 _random_initial_weight):\n",
    "\n",
    "        self.no_of_input_neurons = _no_input_neuron\n",
    "        self._hidden_config = _hidden_config\n",
    "        self.no_of_layers = len(_hidden_config)\n",
    "        self.no_of_hidden_neurons = _hidden_config[0]\n",
    "        self.no_of_output_neurons = _no_output_neuron\n",
    "\n",
    "        self.input_data_set = _input_data_set\n",
    "        self.desired_output = _desired_output\n",
    "        \n",
    "        self.learning_rate = _learning_rate\n",
    "        self.random_initial_weight = _random_initial_weight\n",
    "        \n",
    "    def generate_weight(self,is_random,_size):\n",
    "        return np.random.uniform(size=_size) if is_random else np.zeros(_size)\n",
    "        \n",
    "    def sigmoid (self,x): \n",
    "        return 1/(1 + np.exp(-x)) \n",
    "    \n",
    "    def derivative_(self,x): \n",
    "        return x * (1 - x)\n",
    "    \n",
    "    def local_field(self,x,w):\n",
    "        return np.dot(x,w)\n",
    "    \n",
    "    def error(self,y):\n",
    "        return self.desired_output - y\n",
    "    \n",
    "    def delta(self,sigma_tic,summed_error,flag = False):\n",
    "        return summed_error * sigma_tic        \n",
    "#         return np.dot(sigma_tic,summed_error) if flag else sigma_tic*summed_error\n",
    "\n",
    "    def backpropagation(self,fig_title):\n",
    "        \n",
    "        # weights from input layer to hidden layer\n",
    "        Wh = self.generate_weight(self.random_initial_weight,(self.no_of_input_neurons, \n",
    "                                                              self._hidden_config[0]))\n",
    "        # weights from hidden layer to output layer\n",
    "        Wz = self.generate_weight(self.random_initial_weight,(self._hidden_config[0],\n",
    "                                                              self.no_of_output_neurons))\n",
    "        \n",
    "        w_0 = []\n",
    "        w_1 = []\n",
    "        \n",
    "        avg_error = float('inf')\n",
    "        epochs = 0\n",
    "        \n",
    "        # In zero initial weight case the error will be always same,\n",
    "        # so we need to break the loop after some maximum epoch limit\n",
    "        while avg_error > 0.01 and epochs < 1000000:\n",
    "            #activation result from hidden layer neurons\n",
    "            H = self.sigmoid(np.dot(bp.input_data_set, Wh))\n",
    "            #activatiion result from output neurons\n",
    "            Z = self.sigmoid(np.dot(H, Wz))  \n",
    "            #error calculation\n",
    "            E = self.desired_output - Z\n",
    "            #calculating delta_j for output neuron\n",
    "            dZ = E * self.derivative_(Z) \n",
    "            #calculating delta_j for hidden neuron\n",
    "            dH = dZ.dot(Wz.T) * self.derivative_(H)\n",
    "            \n",
    "            #updating weights using backpropagation\n",
    "            Wz +=  self.learning_rate * H.T.dot(dZ)\n",
    "            Wh +=  self.learning_rate * self.input_data_set.T.dot(dH) \n",
    "            \n",
    "            w_0.append(Wz[0,:][0])\n",
    "            w_1.append(Wz[1,:][0])\n",
    "            avg_error = (np.average(E**2))\n",
    "            epochs += 1\n",
    "            \n",
    "        w_0 = np.asarray(w_0)\n",
    "        w_1 = np.asarray(w_1)\n",
    "        \n",
    "        plt.plot(w_0,w_1)\n",
    "        plt.xlabel('w0 -->')\n",
    "        plt.ylabel('w1 -->')\n",
    "        plt.title(fig_title)\n",
    "        return E,Wh,Wz,epochs"
   ]
  },
  {
   "cell_type": "code",
   "execution_count": 10,
   "metadata": {},
   "outputs": [
    {
     "data": {
      "text/plain": [
       "'\\nparameters required to init NeuralNetwork class:\\n    1. number of input layer\\n    2. number of hidden neurons in each hidden layers\\n    3. input data set\\n    4. desired output set\\n    5. learning rate\\n    6. Random initial weight or zero initial weight (True or False)\\n'"
      ]
     },
     "execution_count": 10,
     "metadata": {},
     "output_type": "execute_result"
    }
   ],
   "source": [
    "\"\"\"\n",
    "parameters required to init NeuralNetwork class:\n",
    "    1. number of input layer\n",
    "    2. number of hidden neurons in each hidden layers\n",
    "    3. input data set\n",
    "    4. desired output set\n",
    "    5. learning rate\n",
    "    6. Random initial weight or zero initial weight (True or False)\n",
    "\"\"\""
   ]
  },
  {
   "cell_type": "code",
   "execution_count": 56,
   "metadata": {
    "scrolled": true
   },
   "outputs": [
    {
     "data": {
      "image/png": "[encoded data removed]",
      "text/plain": [
       "<matplotlib.figure.Figure at 0x7f6bf36b7f50>"
      ]
     },
     "metadata": {},
     "output_type": "display_data"
    }
   ],
   "source": [
    "\"\"\"\n",
    "case 1: start with zero weights\n",
    "\n",
    "    If we start with zero weights, then all hidden neurons will get zero signal \n",
    "    even the real input is some non-zero number.\n",
    "    By using the given sample input, observed that the error is always same \n",
    "    and the weight vector is always zero.\n",
    "    To avoid this symmetry condition, we always start learning process with \n",
    "    random weights initialization \n",
    "    Since the error is always same, we breaking the learning process after \n",
    "    some number of epochs (100000000)\n",
    "\"\"\"\n",
    "bp = NeuralNetwork(2,\n",
    "                     [2],\n",
    "                     1,\n",
    "                     np.array([[0,0],[0,1],[1,0],[1,1]]),\n",
    "                     np.array([[0],[1],[1],[0]]),\n",
    "                     0.1,False)\n",
    "\n",
    "error,weights_hidden_layer,weights_output_layer,epochs = bp.backpropagation(\n",
    "                                    \"weight plot with zero initial weight\")"
   ]
  },
  {
   "cell_type": "code",
   "execution_count": 57,
   "metadata": {},
   "outputs": [
    {
     "name": "stdout",
     "output_type": "stream",
     "text": [
      "Error : \n",
      "[[-0.5]\n",
      " [ 0.5]\n",
      " [ 0.5]\n",
      " [-0.5]]\n",
      "weights from input to hidden layer : \n",
      "[[ 0.  0.]\n",
      " [ 0.  0.]]\n",
      "weights from hidden to output layer : \n",
      "[[ 0.]\n",
      " [ 0.]]\n",
      "Number of epochs :  1000000\n"
     ]
    }
   ],
   "source": [
    "print \"Error : \\n\", error\n",
    "print \"weights from input to hidden layer : \\n\", weights_hidden_layer\n",
    "print \"weights from hidden to output layer : \\n\", weights_output_layer\n",
    "print \"Number of epochs : \", epochs"
   ]
  },
  {
   "cell_type": "code",
   "execution_count": 54,
   "metadata": {
    "scrolled": true
   },
   "outputs": [
    {
     "data": {
      "image/png": "[encoded data removed]",
      "text/plain": [
       "<matplotlib.figure.Figure at 0x7f6beb402490>"
      ]
     },
     "metadata": {},
     "output_type": "display_data"
    }
   ],
   "source": [
    "\"\"\"\n",
    "case 2: start with random weights\n",
    "        If we start with random weights the error is reducing proportional \n",
    "        to the learning rate\n",
    "\"\"\"\n",
    "bp = NeuralNetwork(2,\n",
    "                     [2],\n",
    "                     1,\n",
    "                     np.array([[0,0],[0,1],[1,0],[1,1]]),\n",
    "                     np.array([[0],[1],[1],[0]]),\n",
    "                     0.1,True)\n",
    "\n",
    "error,weights_hidden_layer,weights_output_layer,epochs = bp.backpropagation(\n",
    "                                    \"weight plot with random initial weight\")"
   ]
  },
  {
   "cell_type": "code",
   "execution_count": 55,
   "metadata": {},
   "outputs": [
    {
     "name": "stdout",
     "output_type": "stream",
     "text": [
      "Error : \n",
      "[[-0.0526921 ]\n",
      " [ 0.09943491]\n",
      " [ 0.09943502]\n",
      " [-0.13209239]]\n",
      "weights from input to hidden layer : \n",
      "[[ 7.35276046  0.90718504]\n",
      " [ 7.35098096  0.90718043]]\n",
      "weights from hidden to output layer : \n",
      "[[ 22.02640191]\n",
      " [-27.80475027]]\n",
      "Number of epochs :  52120\n"
     ]
    }
   ],
   "source": [
    "print \"Error : \\n\", error\n",
    "print \"weights from input to hidden layer : \\n\", weights_hidden_layer\n",
    "print \"weights from hidden to output layer : \\n\", weights_output_layer\n",
    "print \"Number of epochs : \", epochs"
   ]
  },
  {
   "cell_type": "markdown",
   "metadata": {},
   "source": [
    "Compare and comment on the convergence.\n",
    "\n",
    "b. Experiment with different learning rates e.g. 0.1, 0.3, 0.5, 0.9..\n",
    "\n",
    "Compare the convergence and plot some resulting surfaces. You are not allowed to use any neural network toolbox for this solution."
   ]
  },
  {
   "cell_type": "code",
   "execution_count": 30,
   "metadata": {},
   "outputs": [
    {
     "data": {
      "image/png": "[encoded data removed]",
      "text/plain": [
       "<matplotlib.figure.Figure at 0x7f6bf363ec90>"
      ]
     },
     "metadata": {},
     "output_type": "display_data"
    }
   ],
   "source": [
    "\"\"\"\n",
    "case b (i): start with random weights and learning rate is 0.1\n",
    "\"\"\"\n",
    "bp = NeuralNetwork(2,\n",
    "                     [2],\n",
    "                     1,\n",
    "                     np.array([[0,0],[0,1],[1,0],[1,1]]),\n",
    "                     np.array([[0],[1],[1],[0]]),\n",
    "                     0.1,True)\n",
    "error,weights_hidden_layer,weights_output_layer,epochs = bp.backpropagation(\n",
    "                                    \"random weight with learning rate 0.1\")"
   ]
  },
  {
   "cell_type": "code",
   "execution_count": 31,
   "metadata": {},
   "outputs": [
    {
     "name": "stdout",
     "output_type": "stream",
     "text": [
      "Error : \n",
      "[[-0.05269191]\n",
      " [ 0.09943465]\n",
      " [ 0.09943461]\n",
      " [-0.13209194]]\n",
      "weights from input to hidden layer : \n",
      "[[ 0.90718192  7.35169621]\n",
      " [ 0.90718381  7.35242463]]\n",
      "weights from hidden to output layer : \n",
      "[[-27.80478279]\n",
      " [ 22.02642687]]\n",
      "Number of epochs :  51702\n"
     ]
    }
   ],
   "source": [
    "print \"Error : \\n\", error\n",
    "print \"weights from input to hidden layer : \\n\", weights_hidden_layer\n",
    "print \"weights from hidden to output layer : \\n\", weights_output_layer\n",
    "print \"Number of epochs : \", epochs"
   ]
  },
  {
   "cell_type": "code",
   "execution_count": 32,
   "metadata": {},
   "outputs": [
    {
     "data": {
      "image/png": "[encoded data removed]",
      "text/plain": [
       "<matplotlib.figure.Figure at 0x7f6c1468f050>"
      ]
     },
     "metadata": {},
     "output_type": "display_data"
    }
   ],
   "source": [
    "\"\"\"\n",
    "case b (i): start with random weights and learning rate is 0.3\n",
    "\"\"\"\n",
    "bp = NeuralNetwork(2,\n",
    "                     [2],\n",
    "                     1,\n",
    "                     np.array([[0,0],[0,1],[1,0],[1,1]]),\n",
    "                     np.array([[0],[1],[1],[0]]),\n",
    "                     0.3,True)\n",
    "\n",
    "error,weights_hidden_layer,weights_output_layer,epochs = bp.backpropagation(\n",
    "                                    \"random weight with learning rate 0.3\")"
   ]
  },
  {
   "cell_type": "code",
   "execution_count": 33,
   "metadata": {},
   "outputs": [
    {
     "name": "stdout",
     "output_type": "stream",
     "text": [
      "Error : \n",
      "[[-0.05269187]\n",
      " [ 0.09943471]\n",
      " [ 0.09943442]\n",
      " [-0.13209185]]\n",
      "weights from input to hidden layer : \n",
      "[[ 0.90717796  7.34964572]\n",
      " [ 0.90719064  7.35453819]]\n",
      "weights from hidden to output layer : \n",
      "[[-27.80512237]\n",
      " [ 22.02670231]]\n",
      "Number of epochs :  18444\n"
     ]
    }
   ],
   "source": [
    "print \"Error : \\n\", error\n",
    "print \"weights from input to hidden layer : \\n\", weights_hidden_layer\n",
    "print \"weights from hidden to output layer : \\n\", weights_output_layer\n",
    "print \"Number of epochs : \", epochs"
   ]
  },
  {
   "cell_type": "code",
   "execution_count": 34,
   "metadata": {
    "scrolled": true
   },
   "outputs": [
    {
     "data": {
      "image/png": "[encoded data removed]",
      "text/plain": [
       "<matplotlib.figure.Figure at 0x7f6beb56b610>"
      ]
     },
     "metadata": {},
     "output_type": "display_data"
    }
   ],
   "source": [
    "\"\"\"\n",
    "case b (i): start with random weights and learning rate is 0.5\n",
    "\"\"\"\n",
    "bp = NeuralNetwork(2,\n",
    "                     [2],\n",
    "                     1,\n",
    "                     np.array([[0,0],[0,1],[1,0],[1,1]]),\n",
    "                     np.array([[0],[1],[1],[0]]),\n",
    "                     0.5,True)\n",
    "error,weights_hidden_layer,weights_output_layer,epochs = bp.backpropagation(\n",
    "                                    \"random weight with learning rate 0.5\")"
   ]
  },
  {
   "cell_type": "code",
   "execution_count": 35,
   "metadata": {},
   "outputs": [
    {
     "name": "stdout",
     "output_type": "stream",
     "text": [
      "Error : \n",
      "[[-0.05268999]\n",
      " [ 0.09943201]\n",
      " [ 0.0994319 ]\n",
      " [-0.13208844]]\n",
      "weights from input to hidden layer : \n",
      "[[ 0.90718501  7.35099816]\n",
      " [ 0.90718984  7.35286328]]\n",
      "weights from hidden to output layer : \n",
      "[[-27.80585887]\n",
      " [ 22.02730133]]\n",
      "Number of epochs :  10752\n"
     ]
    }
   ],
   "source": [
    "print \"Error : \\n\", error\n",
    "print \"weights from input to hidden layer : \\n\", weights_hidden_layer\n",
    "print \"weights from hidden to output layer : \\n\", weights_output_layer\n",
    "print \"Number of epochs : \", epochs"
   ]
  },
  {
   "cell_type": "code",
   "execution_count": 36,
   "metadata": {},
   "outputs": [
    {
     "data": {
      "image/png": "[encoded data removed]",
      "text/plain": [
       "<matplotlib.figure.Figure at 0x7f6beb4c1f90>"
      ]
     },
     "metadata": {},
     "output_type": "display_data"
    }
   ],
   "source": [
    "\"\"\"\n",
    "case b (i): start with random weights and learning rate is 0.9\n",
    "\"\"\"\n",
    "bp = NeuralNetwork(2,\n",
    "                     [2],\n",
    "                     1,\n",
    "                     np.array([[0,0],[0,1],[1,0],[1,1]]),\n",
    "                     np.array([[0],[1],[1],[0]]),\n",
    "                     0.9,True)\n",
    "\n",
    "error,weights_hidden_layer,weights_output_layer,epochs = bp.backpropagation(\n",
    "                                    \"random weight with learning rate 0.9\")"
   ]
  },
  {
   "cell_type": "code",
   "execution_count": 37,
   "metadata": {},
   "outputs": [
    {
     "name": "stdout",
     "output_type": "stream",
     "text": [
      "Error : \n",
      "[[-0.05269155]\n",
      " [ 0.09943413]\n",
      " [ 0.09943414]\n",
      " [-0.13209129]]\n",
      "weights from input to hidden layer : \n",
      "[[ 7.352197    0.90718899]\n",
      " [ 7.35204041  0.90718858]]\n",
      "weights from hidden to output layer : \n",
      "[[ 22.02756127]\n",
      " [-27.80618086]]\n",
      "Number of epochs :  5752\n"
     ]
    }
   ],
   "source": [
    "print \"Error : \\n\", error\n",
    "print \"weights from input to hidden layer : \\n\", weights_hidden_layer\n",
    "print \"weights from hidden to output layer : \\n\", weights_output_layer\n",
    "print \"Number of epochs : \", epochs"
   ]
  },
  {
   "cell_type": "markdown",
   "metadata": {},
   "source": [
    "# observations with different learning rate\n",
    "\n",
    "By increasing the learning rate, observed that error and number of epochs is reducing significantly faster. In case one, with learning rate 0.1 the error is [[-0.03347088] [ 0.07031518] [ 0.07031523] [-0.09374767]] and with learning rate 0.9 the error is reduced to [[-0.00719604]\n",
    " [ 0.02115464]\n",
    " [ 0.02115463]\n",
    " [-0.02845579]].\n",
    " \n",
    "But we are not sure, the network found the optimal solution with the huge learning rate or it stuck with local minima."
   ]
  },
  {
   "cell_type": "markdown",
   "metadata": {},
   "source": [
    "# Exercise 3\n",
    "Investigate the use of back-propagation learning using a sigmoidal nonlinearity to achieve one-toone mappings, as described here:\n",
    "\n",
    "1. F(x) = 1/x 1<=x<=100\n",
    "\n",
    "2. F(x) = log10(x) 1<=x<=10\n",
    "\n",
    "3. F(x) = exp(-x) 1<=x<=10\n",
    "\n",
    "4. F(x) = sin(x) 0<=x<=pi/2\n",
    "\n",
    "(a) Set up two sets of data, one for network training, and the other for testing.\n",
    "\n",
    "(b) Use the training data set to compute the synaptic weights of the network, assumed to have a single hidden layer."
   ]
  },
  {
   "cell_type": "code",
   "execution_count": 39,
   "metadata": {
    "collapsed": true
   },
   "outputs": [],
   "source": [
    "bp = NeuralNetwork(2,\n",
    "                     [2],\n",
    "                     1,\n",
    "                     np.array([[0,0],[0,1],[1,0],[1,1]]),\n",
    "                     np.array([[0],[1],[1],[0]]),\n",
    "                     0.1,True)"
   ]
  },
  {
   "cell_type": "code",
   "execution_count": 40,
   "metadata": {
    "collapsed": true
   },
   "outputs": [],
   "source": [
    "# Generate data based on minimum and maximum value, n is no. of samples\n",
    "def get_data(minimum,maximum,n):\n",
    "    data = np.zeros((1,n))\n",
    "    for i in range(n):\n",
    "        data[0,i] = random.uniform(minimum, maximum)\n",
    "    return data\n",
    "    \n",
    "#Training phase\n",
    "#Wh and Wz are hidden and output layer weights\n",
    "def training(training_set,desired,Wh,Wz):\n",
    "    \n",
    "    epoch_e = []\n",
    "    squared_error = []\n",
    "    epoch_count = 0\n",
    "    while(True):\n",
    "        #Forward pass\n",
    "        vh = bp.local_field(training_set.T,Wh)\n",
    "        sigmoid = bp.sigmoid(vh)\n",
    "        vo = bp.local_field(sigmoid,Wz)\n",
    "        y = bp.sigmoid(vo)\n",
    "        e = desired.T - y\n",
    "        epoch_e.append(e)\n",
    "    \n",
    "        #Backward pass\n",
    "        dZ = e * bp.derivative_(y) \n",
    "        dH = dZ.dot(Wz.T) * bp.derivative_(sigmoid)\n",
    "        Wz +=  -eta * np.dot(sigmoid.T,dZ)\n",
    "        Wh +=  -eta * training_set.dot(dH)\n",
    "        \n",
    "        if epoch_count>0:\n",
    "            squared_error.append((epoch_e[epoch_count]**2-epoch_e[epoch_count-1]**2))\n",
    "            # If average squared error is less than 0.01, we stop adjustment\n",
    "            if  (np.average(squared_error[epoch_count-1])) < 0.01:\n",
    "                break\n",
    "\n",
    "        epoch_count +=1\n",
    "    print \"Training phase\"\n",
    "    print \"Number of epochs it took: \", epoch_count\n",
    "    return (Wh,Wz)\n",
    "\n",
    "# Test data using weight adjusted during training phase\n",
    "def testing(test_data,Wh,Wz):\n",
    "    print \"Testing\"\n",
    "    test_vh = bp.local_field(test_data.T,Wh)\n",
    "    test_sigmoid = bp.sigmoid(test_vh)\n",
    "    test_vo = bp.local_field(test_sigmoid,Wz)\n",
    "    output_mapping = bp.sigmoid(test_vo)\n",
    "    return output_mapping\n",
    "\n",
    "\n",
    "'''\n",
    "To compute accuracy: \n",
    "    i. We check how much test data is classified correctly, \n",
    "     based on weights adjusted during training phase\n",
    "'''\n",
    "def compute_accuracy(training_data,test_set,\n",
    "                     desired,expected,\n",
    "                     nHidden,nOutput):\n",
    "    \n",
    "    \n",
    "    Wh = np.random.rand(1, nHidden)\n",
    "    Wz = np.random.rand(nHidden,nOutput)\n",
    "\n",
    "    Wh,Wz = training(training_data,desired,Wh,Wz)\n",
    "    print \"Adjusted weights from training phase :\"\n",
    "    print \"hidden weights \", Wh\n",
    "    print \"Output weights \", Wz\n",
    "    #we use sample weights for testing\n",
    "    actual = testing(test_set,Wh,Wz)\n",
    "    \n",
    "    \n",
    "    "
   ]
  },
  {
   "cell_type": "code",
   "execution_count": 41,
   "metadata": {},
   "outputs": [],
   "source": [
    "#Generate Training data\n",
    "\n",
    "#get_data takens minimum, maximum, number_of_samples\n",
    "#f(x) = 1/x\n",
    "training_set1 = get_data(1,100,200)\n",
    "desired1 = np.asarray([1.0/x for x in training_set1])\n",
    "\n",
    "#f(x) = log_10(x)\n",
    "training_set2 = get_data(1,10,20)\n",
    "desired2 = np.asarray([np.log10(x) for x in training_set2])\n",
    "\n",
    "#f(x) = exp(-x)\n",
    "training_set3 = get_data(1,10,20)\n",
    "desired3 = np.asarray([np.exp(-x) for x in training_set3])\n",
    "\n",
    "#f(x) = sin(x)\n",
    "training_set4 = get_data(1,45,20)\n",
    "desired4 = np.asarray([np.sin(x) for x in training_set4])\n",
    "\n",
    "#Generate Test sets\n",
    "# we generate half numebr of samples for test as compare to training\n",
    "test_set1 = get_data(1,100,100)\n",
    "expected1 = np.asarray([1.0/x for x in test_set1])\n",
    "\n",
    "test_set2 = get_data(1,10,10)\n",
    "expected2 = np.asarray([np.log10(x) for x in test_set2])\n",
    "\n",
    "test_set3 = get_data(1,10,10)\n",
    "expected3 = np.asarray([np.exp(-x) for x in test_set3])\n",
    "\n",
    "test_set4 = get_data(1,45,10)\n",
    "expected4 = np.asarray([np.sin(np.radians(x)) for x in test_set4])\n",
    "\n",
    "\n",
    "nHLayers = 1 #hidden layers\n",
    "nOutput = 1 #hidden neurons\n",
    "eta = 0.3 #learning rate\n",
    "nHidden = [3] # number of hidden  neurons"
   ]
  },
  {
   "cell_type": "markdown",
   "metadata": {},
   "source": [
    "(c) Evaluate the computation accuracy of the network by using the test data. Use a single hidden layer but with a variable number of hidden neurons. Investigate how the network performance is affected by varying the size of the hidden layer."
   ]
  },
  {
   "cell_type": "code",
   "execution_count": 42,
   "metadata": {},
   "outputs": [
    {
     "name": "stdout",
     "output_type": "stream",
     "text": [
      "Training phase\n",
      "Number of epochs it took:  2\n",
      "Adjusted weights from training phase :\n",
      "hidden weights  [[ 0.60347235  3.94090292  1.13123281]]\n",
      "Output weights  [[ 7.94291958]\n",
      " [ 6.8479807 ]\n",
      " [ 7.94948768]]\n",
      "Testing\n"
     ]
    }
   ],
   "source": [
    "#i) f(x) = 1/x\n",
    "for i in range(len(nHidden)):\n",
    "    compute_accuracy(training_set1,test_set1,desired1,expected1,nHidden[i],nOutput)"
   ]
  },
  {
   "cell_type": "code",
   "execution_count": 43,
   "metadata": {},
   "outputs": [
    {
     "name": "stdout",
     "output_type": "stream",
     "text": [
      "Training phase\n",
      "Number of epochs it took:  1\n",
      "Adjusted weights from training phase :\n",
      "hidden weights  [[ 0.75769781  0.99959185  0.44084522]]\n",
      "Output weights  [[ 0.90777845]\n",
      " [ 0.20905923]\n",
      " [ 0.86811297]]\n",
      "Testing\n"
     ]
    }
   ],
   "source": [
    "#i) f(x) = log(x)\n",
    "for i in range(len(nHidden)):\n",
    "    compute_accuracy(training_set2,test_set2,desired2,expected2,nHidden[i],nOutput)"
   ]
  },
  {
   "cell_type": "code",
   "execution_count": 44,
   "metadata": {},
   "outputs": [
    {
     "name": "stdout",
     "output_type": "stream",
     "text": [
      "Training phase\n",
      "Number of epochs it took:  5\n",
      "Adjusted weights from training phase :\n",
      "hidden weights  [[ 0.76421993  0.80474788  0.58514857]]\n",
      "Output weights  [[ 1.74636817]\n",
      " [ 1.88717087]\n",
      " [ 1.25108536]]\n",
      "Testing\n"
     ]
    }
   ],
   "source": [
    "#i) f(x) = exp(-x)\n",
    "for i in range(len(nHidden)):\n",
    "    compute_accuracy(training_set3,test_set3,desired3,expected3,nHidden[i],nOutput)"
   ]
  },
  {
   "cell_type": "code",
   "execution_count": 45,
   "metadata": {},
   "outputs": [
    {
     "name": "stdout",
     "output_type": "stream",
     "text": [
      "Training phase\n",
      "Number of epochs it took:  3\n",
      "Adjusted weights from training phase :\n",
      "hidden weights  [[ 0.55568158  0.86125208  1.00000122]]\n",
      "Output weights  [[ 1.76624946]\n",
      " [ 1.60054639]\n",
      " [ 1.08855542]]\n",
      "Testing\n"
     ]
    }
   ],
   "source": [
    "#i) f(x) = sin(x)\n",
    "for i in range(len(nHidden)):\n",
    "    compute_accuracy(training_set4,test_set4,desired4,expected4,nHidden[i],nOutput)"
   ]
  }
 ],
 "metadata": {
  "kernelspec": {
   "display_name": "Python 2",
   "language": "python",
   "name": "python2"
  },
  "language_info": {
   "codemirror_mode": {
    "name": "ipython",
    "version": 2
   },
   "file_extension": ".py",
   "mimetype": "text/x-python",
   "name": "python",
   "nbconvert_exporter": "python",
   "pygments_lexer": "ipython2",
   "version": "2.7.14"
  }
 },
 "nbformat": 4,
 "nbformat_minor": 2
}
