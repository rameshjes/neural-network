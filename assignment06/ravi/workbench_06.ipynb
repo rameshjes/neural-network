{
 "cells": [
  {
   "cell_type": "code",
   "execution_count": 1,
   "metadata": {
    "collapsed": true
   },
   "outputs": [],
   "source": [
    "import numpy as np\n",
    "import sympy as sp\n",
    "import matplotlib.pyplot as plt\n",
    "%matplotlib inline"
   ]
  },
  {
   "cell_type": "code",
   "execution_count": 5,
   "metadata": {
    "collapsed": true
   },
   "outputs": [],
   "source": [
    "class Backpropagation:\n",
    "\n",
    "    def __init__(self,\n",
    "                 _no_input_neuron,\n",
    "                 _hidden_config,\n",
    "                 _no_output_neuron,\n",
    "                 _input_data_set,\n",
    "                 _desired_output,\n",
    "                 _epoch):\n",
    "        self.epochs = _epoch\n",
    "\n",
    "        self.no_of_input_neurons = _no_input_neuron\n",
    "        self._hidden_config = _hidden_config\n",
    "        self.no_of_layers = len(_hidden_config)\n",
    "        self.no_of_hidden_neurons = _hidden_config[0]\n",
    "        self.no_of_output_neurons = _no_output_neuron\n",
    "\n",
    "        self.input_data_set = _input_data_set\n",
    "        self.desired_output = _desired_output\n",
    "        \n",
    "        self.eta = 0.03\n",
    "        \n",
    "    def generate_weight(self,is_random,_size):\n",
    "        return np.random.uniform(size=_size) if is_random else np.zeros(_size)\n",
    "        \n",
    "    def sigmoid (self,x): \n",
    "        return 1/(1 + np.exp(-x)) \n",
    "    \n",
    "    def derivative_(self,x): \n",
    "        return x * (1 - x)\n",
    "    \n",
    "    def local_field(self,x,w):\n",
    "        return np.dot(x,w)\n",
    "    \n",
    "    def error(self,y):\n",
    "        return self.desired_output - y\n",
    "    \n",
    "    def delta(self,sigma_tic,summed_error,flag = False):\n",
    "        return summed_error * sigma_tic        \n",
    "#         return np.dot(sigma_tic,summed_error) if flag else sigma_tic*summed_error"
   ]
  },
  {
   "cell_type": "code",
   "execution_count": 6,
   "metadata": {},
   "outputs": [],
   "source": [
    "bp = Backpropagation(2,\n",
    "                     [2],\n",
    "                     1,\n",
    "                     np.array([[0,0],[0,1],[1,0],[1,1]]),\n",
    "                     np.array([[0],[1],[1],[0]]),\n",
    "                     5000)\n",
    "Wh = np.random.uniform(size=(bp.no_of_input_neurons, bp._hidden_config[0]))\n",
    "Wz = np.random.uniform(size=(bp._hidden_config[0],bp.no_of_output_neurons))\n",
    "\n",
    "for i in range(bp.epochs):\n",
    "    H = bp.sigmoid(np.dot(bp.input_data_set, Wh))                  # hidden layer results\n",
    "    Z = bp.sigmoid(np.dot(H, Wz))                  # output layer results\n",
    "    E = bp.desired_output - Z\n",
    "#     print E\n",
    "    dZ = E * bp.derivative_(Z) \n",
    "    dH = dZ.dot(Wz.T) * bp.derivative_(H)             # delta H\n",
    "    Wz +=  0.1 * H.T.dot(dZ)                          # update output layer weights\n",
    "    Wh +=  0.1 * bp.input_data_set.T.dot(dH) \n",
    "\n"
   ]
  },
  {
   "cell_type": "markdown",
   "metadata": {
    "collapsed": true
   },
   "source": [
    "# Exercise 3"
   ]
  },
  {
   "cell_type": "code",
   "execution_count": 7,
   "metadata": {},
   "outputs": [],
   "source": [
    "def get_data(min,max,n):\n",
    "    data = np.zeros((1,n))\n",
    "    for i in range(n):\n",
    "        data[0,i] = random.uniform(min, max)\n",
    "    return data\n",
    "    \n",
    "def training(training_set,desired,Wh,Wz):\n",
    "    epoch_e = []\n",
    "    squared_error = []\n",
    "    epoch_count = 0\n",
    "    while(True):\n",
    "        #Forward pass\n",
    "        vh = bp.local_field(training_set.T,Wh)\n",
    "        sigmoid = bp.sigmoid(vh)\n",
    "        vo = bp.local_field(sigmoid,Wz)\n",
    "        y = bp.sigmoid(vo)\n",
    "        e = desired.T - y\n",
    "        epoch_e.append(e)\n",
    "    \n",
    "        #Backward pass\n",
    "        dZ = e * bp.derivative_(y) \n",
    "        dH = dZ.dot(Wz.T) * bp.derivative_(sigmoid)\n",
    "        Wz +=  -eta * np.dot(sigmoid.T,dZ)\n",
    "        Wh +=  -eta * training_set.dot(dH)\n",
    "    \n",
    "        if epoch_count>0:\n",
    "            squared_error.append((epoch_e[epoch_count]-epoch_e[epoch_count-1])**2)\n",
    "            if np.all(squared_error[epoch_count-1]) < 0.1:\n",
    "                break\n",
    "        epoch_count +=1\n",
    "    return (Wh,Wz)\n",
    "\n",
    "def testing(test_data,Wh,Wz):\n",
    "    test_vh = bp.local_field(test_data.T,Wh)\n",
    "    test_sigmoid = bp.sigmoid(test_vh)\n",
    "    test_vo = bp.local_field(test_sigmoid,Wz)\n",
    "    output_mapping = bp.sigmoid(test_vo)\n",
    "    return output_mapping\n",
    "\n",
    "def compute_accuracy(training_data,test_set,\n",
    "                     desired,expected,\n",
    "                     nHidden,nOutput):\n",
    "    \n",
    "    \n",
    "    Wh = np.random.rand(1, nHidden)\n",
    "    Wz = np.random.rand(nHidden,nOutput)\n",
    "\n",
    "    Wh,Wz = training(training_data,desired,Wh,Wz)\n",
    "    actual = testing(test_set,Wh,Wz)\n",
    "        \n",
    "#     accuracy = expected - actual.T\n",
    "#     print accuracy\n",
    "#     x = np.linspace(0,test_set.shape[1],20)\n",
    "#     plt.plot(x , accuracy.T)"
   ]
  },
  {
   "cell_type": "code",
   "execution_count": 8,
   "metadata": {},
   "outputs": [],
   "source": [
    "import random\n",
    "training_set1 = get_data(1,100,200)\n",
    "desired1 = np.asarray([1.0/x for x in training_set1])\n",
    "\n",
    "training_set2 = get_data(1,100,200)\n",
    "desired2 = np.asarray([np.log10(x) for x in training_set2])\n",
    "\n",
    "training_set3 = get_data(1,100,200)\n",
    "desired3 = np.asarray([np.exp(-x) for x in training_set3])\n",
    "\n",
    "training_set4 = get_data(1,100,200)\n",
    "desired4 = np.asarray([np.sin(x) for x in training_set4])\n",
    "\n",
    "\n",
    "test_set1 = get_data(1,100,20)\n",
    "expected1 = np.asarray([1.0/x for x in test_set1])\n",
    "\n",
    "test_set2 = get_data(1,10,20)\n",
    "expected2 = np.asarray([np.log10(x) for x in test_set2])\n",
    "\n",
    "test_set3 = get_data(1,10,20)\n",
    "expected3 = np.asarray([np.exp(-x) for x in test_set3])\n",
    "\n",
    "test_set4 = get_data(1,45,20)\n",
    "expected4 = np.asarray([np.sin(np.radians(x)) for x in test_set4])\n",
    "\n",
    "\n",
    "nHLayers = 1\n",
    "nOutput = 1\n",
    "eta = 0.1\n",
    "nHidden = [2,3,4,5]"
   ]
  },
  {
   "cell_type": "code",
   "execution_count": 9,
   "metadata": {},
   "outputs": [
    {
     "ename": "KeyboardInterrupt",
     "evalue": "",
     "output_type": "error",
     "traceback": [
      "\u001b[0;31m---------------------------------------------------------------------------\u001b[0m",
      "\u001b[0;31mKeyboardInterrupt\u001b[0m                         Traceback (most recent call last)",
      "\u001b[0;32m<ipython-input-9-74bb62803bf4>\u001b[0m in \u001b[0;36m<module>\u001b[0;34m()\u001b[0m\n\u001b[1;32m      1\u001b[0m \u001b[0;31m#i) f(x) = 1/x\u001b[0m\u001b[0;34m\u001b[0m\u001b[0;34m\u001b[0m\u001b[0m\n\u001b[1;32m      2\u001b[0m \u001b[0;32mfor\u001b[0m \u001b[0mi\u001b[0m \u001b[0;32min\u001b[0m \u001b[0mrange\u001b[0m\u001b[0;34m(\u001b[0m\u001b[0mlen\u001b[0m\u001b[0;34m(\u001b[0m\u001b[0mnHidden\u001b[0m\u001b[0;34m)\u001b[0m\u001b[0;34m)\u001b[0m\u001b[0;34m:\u001b[0m\u001b[0;34m\u001b[0m\u001b[0m\n\u001b[0;32m----> 3\u001b[0;31m     \u001b[0mcompute_accuracy\u001b[0m\u001b[0;34m(\u001b[0m\u001b[0mtraining_set1\u001b[0m\u001b[0;34m,\u001b[0m\u001b[0mtest_set1\u001b[0m\u001b[0;34m,\u001b[0m\u001b[0mdesired1\u001b[0m\u001b[0;34m,\u001b[0m\u001b[0mexpected1\u001b[0m\u001b[0;34m,\u001b[0m\u001b[0mnHidden\u001b[0m\u001b[0;34m[\u001b[0m\u001b[0mi\u001b[0m\u001b[0;34m]\u001b[0m\u001b[0;34m,\u001b[0m\u001b[0mnOutput\u001b[0m\u001b[0;34m)\u001b[0m\u001b[0;34m\u001b[0m\u001b[0m\n\u001b[0m",
      "\u001b[0;32m<ipython-input-7-8a772369c6fc>\u001b[0m in \u001b[0;36mcompute_accuracy\u001b[0;34m(training_data, test_set, desired, expected, nHidden, nOutput)\u001b[0m\n\u001b[1;32m     46\u001b[0m     \u001b[0mWz\u001b[0m \u001b[0;34m=\u001b[0m \u001b[0mnp\u001b[0m\u001b[0;34m.\u001b[0m\u001b[0mrandom\u001b[0m\u001b[0;34m.\u001b[0m\u001b[0mrand\u001b[0m\u001b[0;34m(\u001b[0m\u001b[0mnHidden\u001b[0m\u001b[0;34m,\u001b[0m\u001b[0mnOutput\u001b[0m\u001b[0;34m)\u001b[0m\u001b[0;34m\u001b[0m\u001b[0m\n\u001b[1;32m     47\u001b[0m \u001b[0;34m\u001b[0m\u001b[0m\n\u001b[0;32m---> 48\u001b[0;31m     \u001b[0mWh\u001b[0m\u001b[0;34m,\u001b[0m\u001b[0mWz\u001b[0m \u001b[0;34m=\u001b[0m \u001b[0mtraining\u001b[0m\u001b[0;34m(\u001b[0m\u001b[0mtraining_data\u001b[0m\u001b[0;34m,\u001b[0m\u001b[0mdesired\u001b[0m\u001b[0;34m,\u001b[0m\u001b[0mWh\u001b[0m\u001b[0;34m,\u001b[0m\u001b[0mWz\u001b[0m\u001b[0;34m)\u001b[0m\u001b[0;34m\u001b[0m\u001b[0m\n\u001b[0m\u001b[1;32m     49\u001b[0m     \u001b[0mactual\u001b[0m \u001b[0;34m=\u001b[0m \u001b[0mtesting\u001b[0m\u001b[0;34m(\u001b[0m\u001b[0mtest_set\u001b[0m\u001b[0;34m,\u001b[0m\u001b[0mWh\u001b[0m\u001b[0;34m,\u001b[0m\u001b[0mWz\u001b[0m\u001b[0;34m)\u001b[0m\u001b[0;34m\u001b[0m\u001b[0m\n\u001b[1;32m     50\u001b[0m \u001b[0;34m\u001b[0m\u001b[0m\n",
      "\u001b[0;32m<ipython-input-7-8a772369c6fc>\u001b[0m in \u001b[0;36mtraining\u001b[0;34m(training_set, desired, Wh, Wz)\u001b[0m\n\u001b[1;32m     26\u001b[0m         \u001b[0;32mif\u001b[0m \u001b[0mepoch_count\u001b[0m\u001b[0;34m>\u001b[0m\u001b[0;36m0\u001b[0m\u001b[0;34m:\u001b[0m\u001b[0;34m\u001b[0m\u001b[0m\n\u001b[1;32m     27\u001b[0m             \u001b[0msquared_error\u001b[0m\u001b[0;34m.\u001b[0m\u001b[0mappend\u001b[0m\u001b[0;34m(\u001b[0m\u001b[0;34m(\u001b[0m\u001b[0mepoch_e\u001b[0m\u001b[0;34m[\u001b[0m\u001b[0mepoch_count\u001b[0m\u001b[0;34m]\u001b[0m\u001b[0;34m-\u001b[0m\u001b[0mepoch_e\u001b[0m\u001b[0;34m[\u001b[0m\u001b[0mepoch_count\u001b[0m\u001b[0;34m-\u001b[0m\u001b[0;36m1\u001b[0m\u001b[0;34m]\u001b[0m\u001b[0;34m)\u001b[0m\u001b[0;34m**\u001b[0m\u001b[0;36m2\u001b[0m\u001b[0;34m)\u001b[0m\u001b[0;34m\u001b[0m\u001b[0m\n\u001b[0;32m---> 28\u001b[0;31m             \u001b[0;32mif\u001b[0m \u001b[0mnp\u001b[0m\u001b[0;34m.\u001b[0m\u001b[0mall\u001b[0m\u001b[0;34m(\u001b[0m\u001b[0msquared_error\u001b[0m\u001b[0;34m[\u001b[0m\u001b[0mepoch_count\u001b[0m\u001b[0;34m-\u001b[0m\u001b[0;36m1\u001b[0m\u001b[0;34m]\u001b[0m\u001b[0;34m)\u001b[0m \u001b[0;34m<\u001b[0m \u001b[0;36m0.1\u001b[0m\u001b[0;34m:\u001b[0m\u001b[0;34m\u001b[0m\u001b[0m\n\u001b[0m\u001b[1;32m     29\u001b[0m                 \u001b[0;32mbreak\u001b[0m\u001b[0;34m\u001b[0m\u001b[0m\n\u001b[1;32m     30\u001b[0m         \u001b[0mepoch_count\u001b[0m \u001b[0;34m+=\u001b[0m\u001b[0;36m1\u001b[0m\u001b[0;34m\u001b[0m\u001b[0m\n",
      "\u001b[0;32m/home/ruby/anaconda2/lib/python2.7/site-packages/numpy/core/fromnumeric.pyc\u001b[0m in \u001b[0;36mall\u001b[0;34m(a, axis, out, keepdims)\u001b[0m\n\u001b[1;32m   2045\u001b[0m     \"\"\"\n\u001b[1;32m   2046\u001b[0m     \u001b[0marr\u001b[0m \u001b[0;34m=\u001b[0m \u001b[0masanyarray\u001b[0m\u001b[0;34m(\u001b[0m\u001b[0ma\u001b[0m\u001b[0;34m)\u001b[0m\u001b[0;34m\u001b[0m\u001b[0m\n\u001b[0;32m-> 2047\u001b[0;31m     \u001b[0mkwargs\u001b[0m \u001b[0;34m=\u001b[0m \u001b[0;34m{\u001b[0m\u001b[0;34m}\u001b[0m\u001b[0;34m\u001b[0m\u001b[0m\n\u001b[0m\u001b[1;32m   2048\u001b[0m     \u001b[0;32mif\u001b[0m \u001b[0mkeepdims\u001b[0m \u001b[0;32mis\u001b[0m \u001b[0;32mnot\u001b[0m \u001b[0mnp\u001b[0m\u001b[0;34m.\u001b[0m\u001b[0m_NoValue\u001b[0m\u001b[0;34m:\u001b[0m\u001b[0;34m\u001b[0m\u001b[0m\n\u001b[1;32m   2049\u001b[0m         \u001b[0mkwargs\u001b[0m\u001b[0;34m[\u001b[0m\u001b[0;34m'keepdims'\u001b[0m\u001b[0;34m]\u001b[0m \u001b[0;34m=\u001b[0m \u001b[0mkeepdims\u001b[0m\u001b[0;34m\u001b[0m\u001b[0m\n",
      "\u001b[0;31mKeyboardInterrupt\u001b[0m: "
     ]
    }
   ],
   "source": [
    "#i) f(x) = 1/x\n",
    "for i in range(len(nHidden)):\n",
    "    compute_accuracy(training_set1,test_set1,desired1,expected1,nHidden[i],nOutput)"
   ]
  },
  {
   "cell_type": "code",
   "execution_count": null,
   "metadata": {
    "collapsed": true
   },
   "outputs": [],
   "source": [
    "#i) f(x) = log(x)\n",
    "for i in range(len(nHidden)):\n",
    "    compute_accuracy(training_set2,test_set2,desired2,expected2,nHidden[i],nOutput)"
   ]
  },
  {
   "cell_type": "code",
   "execution_count": null,
   "metadata": {
    "collapsed": true
   },
   "outputs": [],
   "source": [
    "#i) f(x) = exp(-x)\n",
    "for i in range(len(nHidden)):\n",
    "    compute_accuracy(training_set3,test_set3,desired3,expected3,nHidden[i],nOutput)"
   ]
  },
  {
   "cell_type": "code",
   "execution_count": null,
   "metadata": {
    "collapsed": true
   },
   "outputs": [],
   "source": [
    "#i) f(x) = sin(x)\n",
    "for i in range(len(nHidden)):\n",
    "    compute_accuracy(training_set4,test_set4,desired4,expected4,nHidden[i],nOutput)"
   ]
  }
 ],
 "metadata": {
  "kernelspec": {
   "display_name": "Python 2",
   "language": "python",
   "name": "python2"
  },
  "language_info": {
   "codemirror_mode": {
    "name": "ipython",
    "version": 2
   },
   "file_extension": ".py",
   "mimetype": "text/x-python",
   "name": "python",
   "nbconvert_exporter": "python",
   "pygments_lexer": "ipython2",
   "version": "2.7.14"
  }
 },
 "nbformat": 4,
 "nbformat_minor": 2
}
