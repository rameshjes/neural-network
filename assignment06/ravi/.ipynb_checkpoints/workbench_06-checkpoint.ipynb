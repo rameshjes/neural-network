{
 "cells": [
  {
   "cell_type": "code",
   "execution_count": 169,
   "metadata": {
    "collapsed": true
   },
   "outputs": [],
   "source": [
    "import numpy as np\n",
    "import sympy as sp"
   ]
  },
  {
   "cell_type": "code",
   "execution_count": 283,
   "metadata": {
    "collapsed": true
   },
   "outputs": [],
   "source": [
    "class Backpropagation:\n",
    "\n",
    "    def __init__(self,\n",
    "                 _no_input_neuron,\n",
    "                 _hidden_config,\n",
    "                 _no_output_neuron,\n",
    "                 _input_data_set,\n",
    "                 _desired_output,\n",
    "                 _epoch):\n",
    "        self.epochs = _epoch\n",
    "\n",
    "        self.no_of_input_neurons = _no_input_neuron\n",
    "        self._hidden_config = _hidden_config\n",
    "        self.no_of_layers = len(_hidden_config)\n",
    "        self.no_of_hidden_neurons = _hidden_config[0]\n",
    "        self.no_of_output_neurons = _no_output_neuron\n",
    "\n",
    "        self.input_data_set = _input_data_set\n",
    "        self.desired_output = _desired_output\n",
    "        \n",
    "        self.eta = 0.03\n",
    "        \n",
    "    def generate_weight(self,is_random,_size):\n",
    "        return np.random.uniform(size=_size) if is_random else np.zeros(_size)\n",
    "        \n",
    "    def sigmoid (self,x): \n",
    "        return 1/(1 + np.exp(-x)) \n",
    "    \n",
    "    def derivative_(self,x): \n",
    "        return x * (1 - x)\n",
    "    \n",
    "    def local_field(self,x,w):\n",
    "        return np.dot(x,w)\n",
    "    \n",
    "    def error(self,y):\n",
    "        return self.desired_output - y\n",
    "    \n",
    "    def delta(self,sigma_tic,summed_error,flag = False):\n",
    "        return summed_error * sigma_tic        \n",
    "#         return np.dot(sigma_tic,summed_error) if flag else sigma_tic*summed_error"
   ]
  },
  {
   "cell_type": "code",
   "execution_count": 338,
   "metadata": {
    "collapsed": false
   },
   "outputs": [
    {
     "name": "stdout",
     "output_type": "stream",
     "text": [
      "[[-0.03263721]\n",
      " [ 0.06896294]\n",
      " [ 0.06896296]\n",
      " [-0.09196158]]\n"
     ]
    }
   ],
   "source": [
    "bp = Backpropagation(2,\n",
    "                     [2],\n",
    "                     1,\n",
    "                     np.array([[0,0],[0,1],[1,0],[1,1]]),\n",
    "                     np.array([[0],[1],[1],[0]]),\n",
    "                     5000)\n",
    "Wh = np.random.uniform(size=(bp.no_of_input_neurons, bp._hidden_config[0]))\n",
    "Wz = np.random.uniform(size=(bp._hidden_config[0],bp.no_of_output_neurons))\n",
    "\n",
    "for i in range(100000):\n",
    "    H = bp.sigmoid(np.dot(bp.input_data_set, Wh))                  # hidden layer results\n",
    "    Z = bp.sigmoid(np.dot(H, Wz))                  # output layer results\n",
    "    E = bp.desired_output - Z\n",
    "#     print E\n",
    "    dZ = E * bp.derivative_(Z) \n",
    "    dH = dZ.dot(Wz.T) * bp.derivative_(H)             # delta H\n",
    "    Wz +=  0.1 * H.T.dot(dZ)                          # update output layer weights\n",
    "    Wh +=  0.1 * bp.input_data_set.T.dot(dH) \n",
    "# print Wh,Wz\n",
    "print E"
   ]
  },
  {
   "cell_type": "markdown",
   "metadata": {
    "collapsed": true
   },
   "source": [
    "# Exercise 3"
   ]
  },
  {
   "cell_type": "code",
   "execution_count": null,
   "metadata": {
    "collapsed": true
   },
   "outputs": [],
   "source": [
    "num_hid"
   ]
  }
 ],
 "metadata": {
  "kernelspec": {
   "display_name": "Python [Root]",
   "language": "python",
   "name": "Python [Root]"
  },
  "language_info": {
   "codemirror_mode": {
    "name": "ipython",
    "version": 2
   },
   "file_extension": ".py",
   "mimetype": "text/x-python",
   "name": "python",
   "nbconvert_exporter": "python",
   "pygments_lexer": "ipython2",
   "version": "2.7.12"
  }
 },
 "nbformat": 4,
 "nbformat_minor": 2
}
