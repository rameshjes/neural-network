{
 "cells": [
  {
   "cell_type": "markdown",
   "metadata": {},
   "source": [
    "# Exercise 2\n",
    "Show that in the SOM algorithm the winner neuron for an input x is that neuron k whose weight\n",
    "vector wk maximizes the inner product < wk; x > of x and wk, take x and wk as normalized."
   ]
  },
  {
   "cell_type": "markdown",
   "metadata": {},
   "source": [
    "Let A and B be two vector and $\\theta$ be the angle between them as shown in the figure."
   ]
  },
  {
   "cell_type": "code",
   "execution_count": 7,
   "metadata": {
    "collapsed": false
   },
   "outputs": [
    {
     "data": {
      "image/png": "[encoded data removed]",
      "text/plain": [
       "<IPython.core.display.Image object>"
      ]
     },
     "execution_count": 7,
     "metadata": {},
     "output_type": "execute_result"
    }
   ],
   "source": [
    "Image(filename ='1.png')"
   ]
  },
  {
   "cell_type": "markdown",
   "metadata": {},
   "source": [
    "\n",
    "Then the inner product or dot product of these 2 vectors is equivalent to : $$ \\textbf{A}.\\textbf{B} = ||\\textbf{A}||\\ ||\\textbf{B}||\\ cos(\\theta)$$. Maximising this inner product implies $cos(\\theta) = 1$ or $\\theta = 0$. In other words, the euclidean distance between the 2 vectors is minimised. Since we need to minimize the distance between a winning neuron and the input vector, hence the inner product $\\textit{< wk; x > }$ needs to be maximised"
   ]
  },
  {
   "cell_type": "code",
   "execution_count": 3,
   "metadata": {
    "collapsed": true
   },
   "outputs": [],
   "source": [
    "import numpy as np\n",
    "from IPython.display import Image"
   ]
  },
  {
   "cell_type": "code",
   "execution_count": 14,
   "metadata": {
    "collapsed": false
   },
   "outputs": [],
   "source": [
    "class SOM:\n",
    "    def __init__(self,input_,num_of_nodes,eta,initial_wts,threshold):\n",
    "        self.input_ = input_\n",
    "        self.num_of_nodes = num_of_nodes\n",
    "        self.eta = eta\n",
    "        self.current_wts = initial_wts\n",
    "        self.t2 = 1000\n",
    "        self.threshold = threshold\n",
    "    \n",
    "    def euclidean_distance_1d(self,x,y):\n",
    "        return abs(x - y)\n",
    "    \n",
    "    def get_winning_neuron(self,x,W):\n",
    "        winner = min([(self.euclidean_distance_1d(x,w), index) for index,w in enumerate(W)])[1]\n",
    "        return winner\n",
    "    \n",
    "    def d_ij(self,winner):\n",
    "        distance = [self.euclidean_distance_1d(self.current_wts[winner],\\\n",
    "                                               self.current_wts[i])\\\n",
    "                    for i in range(len(self.current_wts))]\n",
    "        return distance\n",
    "    \n",
    "    def gaussian(self,sigma,distance):\n",
    "        h = [np.exp(-(d**2)/(2*sigma**2)) for d in distance]\n",
    "        return h\n",
    "    \n",
    "    def compute_width(self,initial_sigma,n,t1):\n",
    "        return initial_sigma*np.exp(-n/t1)\n",
    "    \n",
    "    def weight_adaptation(self,current_wt,eta,h,x):\n",
    "        new_wts = [(w + (eta*h*(x-w))) for w in current_wt]\n",
    "        return new_wts\n",
    "    \n",
    "    def exponential_decay_update(self,initial_eta,n,t2):\n",
    "        return initial_eta*np.exp(-n/t2)\n",
    "    \n",
    "    def compute_t1(self,t2):\n",
    "        sigma=2\n",
    "        return t2/np.log(sigma)\n",
    "    \n",
    "    def stopping_criteria(self,w_old,w_new):\n",
    "        result = 0\n",
    "        for i,w in enumerate(w_old):\n",
    "            result += abs(w - w_new[i])\n",
    "        \n",
    "        return True if (result < self.threshold) else False\n",
    "    \n",
    "    def train(self):\n",
    "        sigma = 2\n",
    "        t1 = self.compute_t1(self.t2)\n",
    "        n = 1\n",
    "        for x in self.input_:\n",
    "            while(True):\n",
    "                win_idx = self.get_winning_neuron(x,self.current_wts)                \n",
    "                print \"\\nWinner neuron index : \"+str(win_idx)+\", weight :\"+str(self.current_wts[win_idx])\n",
    "                lateral_dist = self.d_ij(win_idx)\n",
    "                h = self.gaussian(sigma,lateral_dist)\n",
    "                updates_wts = self.weight_adaptation(self.current_wts,self.eta,h[win_idx],x)\n",
    "                print \"Updated weights :\",updates_wts\n",
    "                if not self.stopping_criteria(self.current_wts,updates_wts):\n",
    "                    self.current_wts =  np.array(updates_wts)\n",
    "                    self.eta = self.exponential_decay_update(self.eta,n,self.t2)\n",
    "                    n += 1 \n",
    "                else:\n",
    "                    break\n",
    "        print \"\\nFinal adjusted weights :\",self.current_wts"
   ]
  },
  {
   "cell_type": "code",
   "execution_count": 15,
   "metadata": {
    "collapsed": false
   },
   "outputs": [],
   "source": [
    "initial_wts = np.array([[0.15,0.45],\n",
    "                        [0.3,0.9]])\n",
    "inputs = [0.1,0.2,0.4,0.5]"
   ]
  },
  {
   "cell_type": "code",
   "execution_count": 18,
   "metadata": {
    "collapsed": false
   },
   "outputs": [
    {
     "name": "stdout",
     "output_type": "stream",
     "text": [
      "\n",
      "Winner neuron index : 0, weight :0.15\n",
      "Updated weights : [0.14499999999999999, 0.41500000000000004]\n",
      "\n",
      "Winner neuron index : 0, weight :0.145\n",
      "Updated weights : [0.1433445425147285, 0.40341179760309959]\n",
      "\n",
      "Winner neuron index : 0, weight :0.143344542515\n",
      "Updated weights : [0.14275793792092928, 0.39930556544650508]\n",
      "\n",
      "Winner neuron index : 0, weight :0.143344542515\n",
      "Updated weights : [0.1441112907532954, 0.40065891827887118]\n",
      "\n",
      "Winner neuron index : 1, weight :0.403411797603\n",
      "Updated weights : [0.14681799641802767, 0.40336562394360342]\n",
      "\n",
      "Winner neuron index : 1, weight :0.403411797603\n",
      "Updated weights : [0.1481713492503938, 0.40471897677596957]\n",
      "\n",
      "Final adjusted weights : [ 0.14334454  0.4034118 ]\n"
     ]
    }
   ],
   "source": [
    "\"\"\"\n",
    "Initial weights : [0.15 , 0.45]\n",
    "\"\"\"\n",
    "som = SOM(inputs,2,0.1,initial_wts[0],0.01)\n",
    "som.train()"
   ]
  },
  {
   "cell_type": "code",
   "execution_count": 19,
   "metadata": {
    "collapsed": false
   },
   "outputs": [
    {
     "name": "stdout",
     "output_type": "stream",
     "text": [
      "\n",
      "Winner neuron index : 0, weight :0.3\n",
      "Updated weights : [0.27999999999999997, 0.82000000000000006]\n",
      "\n",
      "Winner neuron index : 0, weight :0.28\n",
      "Updated weights : [0.27337817005891402, 0.79351268023565624]\n",
      "\n",
      "Winner neuron index : 0, weight :0.273378170059\n",
      "Updated weights : [0.27103175168371713, 0.78412700673486879]\n",
      "\n",
      "Winner neuron index : 0, weight :0.271031751684\n",
      "Updated weights : [0.27018023473230185, 0.78072093892920769]\n",
      "\n",
      "Winner neuron index : 0, weight :0.271031751684\n",
      "Updated weights : [0.27067810541598047, 0.78121880961288637]\n",
      "\n",
      "Winner neuron index : 0, weight :0.271031751684\n",
      "Updated weights : [0.27167384678333778, 0.78221455098024362]\n",
      "\n",
      "Winner neuron index : 0, weight :0.271031751684\n",
      "Updated weights : [0.27217171746701641, 0.7827124216639223]\n",
      "\n",
      "Final adjusted weights : [ 0.27103175  0.78412701]\n"
     ]
    }
   ],
   "source": [
    "\"\"\"\n",
    "Initial weights : [0.3,0.9]\n",
    "\"\"\"\n",
    "som = SOM(inputs,2,0.1,initial_wts[1],0.01)\n",
    "som.train()"
   ]
  }
 ],
 "metadata": {
  "kernelspec": {
   "display_name": "Python [Root]",
   "language": "python",
   "name": "Python [Root]"
  },
  "language_info": {
   "codemirror_mode": {
    "name": "ipython",
    "version": 2
   },
   "file_extension": ".py",
   "mimetype": "text/x-python",
   "name": "python",
   "nbconvert_exporter": "python",
   "pygments_lexer": "ipython2",
   "version": "2.7.12"
  }
 },
 "nbformat": 4,
 "nbformat_minor": 1
}
