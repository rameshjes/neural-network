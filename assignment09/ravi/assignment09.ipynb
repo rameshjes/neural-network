{
 "cells": [
  {
   "cell_type": "code",
   "execution_count": 1,
   "metadata": {
    "collapsed": true
   },
   "outputs": [],
   "source": [
    "import numpy as np"
   ]
  },
  {
   "cell_type": "code",
   "execution_count": 4,
   "metadata": {
    "collapsed": true
   },
   "outputs": [],
   "source": [
    "class SOM:\n",
    "    def __init__(self,input_,num_of_nodes,eta,initial_wts,threshold):\n",
    "        self.input_ = input_\n",
    "        self.num_of_nodes = num_of_nodes\n",
    "        self.eta = eta\n",
    "        self.current_wts = initial_wts\n",
    "        self.t2 = 1000\n",
    "        self.threshold = threshold\n",
    "    \n",
    "    def euclidean_distance_1d(self,x,y):\n",
    "        return abs(x - y)\n",
    "    \n",
    "    def get_winning_neuron(self,x,W):\n",
    "        winner = min([(self.euclidean_distance_1d(x,w), index) for index,w in enumerate(W)])[1]\n",
    "        return winner\n",
    "    \n",
    "    def d_ij(self,winner):\n",
    "        distance = [self.euclidean_distance_1d(self.current_wts[winner],\\\n",
    "                                               self.current_wts[i])\\\n",
    "                    for i in range(len(self.current_wts))]\n",
    "        return distance\n",
    "    \n",
    "    def gaussian(self,sigma,distance):\n",
    "        h = [np.exp(-(d**2)/(2*sigma**2)) for d in distance]\n",
    "        return h\n",
    "    \n",
    "    def compute_width(self,initial_sigma,n,t1):\n",
    "        return initial_sigma*np.exp(-n/t1)\n",
    "    \n",
    "    def weight_adaptation(self,current_wt,eta,h,x):\n",
    "        print \"current wt type \", type(current_wt)\n",
    "        new_wts = [(w + (eta*h*(x-w))) for w in current_wt]\n",
    "        return new_wts\n",
    "    \n",
    "    def exponential_decay_update(self,initial_eta,n,t2):\n",
    "        return initial_eta*np.exp(-n/t2)\n",
    "    \n",
    "    def compute_t1(self,t2):\n",
    "        sigma=2\n",
    "        return t2/np.log(sigma)\n",
    "    \n",
    "    def stopping_criteria(self,w_old,w_new):\n",
    "        result = 0\n",
    "        for i,w in enumerate(w_old):\n",
    "            result += abs(w - w_new[i])\n",
    "        \n",
    "        return True if (result < self.threshold) else False\n",
    "    \n",
    "    def train(self):\n",
    "        sigma = 2\n",
    "        t1 = self.compute_t1(self.t2)\n",
    "        n = 1\n",
    "        for x in self.input_:\n",
    "            while(True):\n",
    "                winning_neuron_idx = self.get_winning_neuron(x,self.current_wts)\n",
    "                lateral_dist = self.d_ij(winning_neuron_idx)\n",
    "                h = self.gaussian(sigma,lateral_dist)\n",
    "                print \"self.current wts \", type(self.current_wts)\n",
    "                updates_wts = self.weight_adaptation(self.current_wts,self.eta,h[winning_neuron_idx],x)\n",
    "\n",
    "                if not self.stopping_criteria(self.current_wts,updates_wts):\n",
    "                    self.current_wts = updates_wts\n",
    "                    self.eta = (self.eta,n,self.t2)\n",
    "                    n += 1 \n",
    "                else:\n",
    "                    break\n"
   ]
  },
  {
   "cell_type": "code",
   "execution_count": 5,
   "metadata": {},
   "outputs": [
    {
     "name": "stdout",
     "output_type": "stream",
     "text": [
      "self.current wts  <type 'numpy.ndarray'>\n",
      "current wt type  <type 'numpy.ndarray'>\n",
      "self.current wts  <type 'list'>\n",
      "current wt type  <type 'list'>\n"
     ]
    },
    {
     "ename": "TypeError",
     "evalue": "'numpy.float64' object cannot be interpreted as an index",
     "output_type": "error",
     "traceback": [
      "\u001b[0;31m---------------------------------------------------------------------------\u001b[0m",
      "\u001b[0;31mTypeError\u001b[0m                                 Traceback (most recent call last)",
      "\u001b[0;32m<ipython-input-5-effef8d221a3>\u001b[0m in \u001b[0;36m<module>\u001b[0;34m()\u001b[0m\n\u001b[1;32m      3\u001b[0m \u001b[0minputs\u001b[0m \u001b[0;34m=\u001b[0m \u001b[0;34m[\u001b[0m\u001b[0;36m0.1\u001b[0m\u001b[0;34m,\u001b[0m\u001b[0;36m0.2\u001b[0m\u001b[0;34m,\u001b[0m\u001b[0;36m0.4\u001b[0m\u001b[0;34m,\u001b[0m\u001b[0;36m0.5\u001b[0m\u001b[0;34m]\u001b[0m\u001b[0;34m\u001b[0m\u001b[0m\n\u001b[1;32m      4\u001b[0m \u001b[0msom\u001b[0m \u001b[0;34m=\u001b[0m \u001b[0mSOM\u001b[0m\u001b[0;34m(\u001b[0m\u001b[0minputs\u001b[0m\u001b[0;34m,\u001b[0m\u001b[0;36m2\u001b[0m\u001b[0;34m,\u001b[0m\u001b[0;36m0.1\u001b[0m\u001b[0;34m,\u001b[0m\u001b[0minitial_wts\u001b[0m\u001b[0;34m[\u001b[0m\u001b[0;36m0\u001b[0m\u001b[0;34m]\u001b[0m\u001b[0;34m,\u001b[0m\u001b[0;36m0.01\u001b[0m\u001b[0;34m)\u001b[0m\u001b[0;34m\u001b[0m\u001b[0m\n\u001b[0;32m----> 5\u001b[0;31m \u001b[0msom\u001b[0m\u001b[0;34m.\u001b[0m\u001b[0mtrain\u001b[0m\u001b[0;34m(\u001b[0m\u001b[0;34m)\u001b[0m\u001b[0;34m\u001b[0m\u001b[0m\n\u001b[0m",
      "\u001b[0;32m<ipython-input-4-b597128693bd>\u001b[0m in \u001b[0;36mtrain\u001b[0;34m(self)\u001b[0m\n\u001b[1;32m     55\u001b[0m                 \u001b[0mh\u001b[0m \u001b[0;34m=\u001b[0m \u001b[0mself\u001b[0m\u001b[0;34m.\u001b[0m\u001b[0mgaussian\u001b[0m\u001b[0;34m(\u001b[0m\u001b[0msigma\u001b[0m\u001b[0;34m,\u001b[0m\u001b[0mlateral_dist\u001b[0m\u001b[0;34m)\u001b[0m\u001b[0;34m\u001b[0m\u001b[0m\n\u001b[1;32m     56\u001b[0m                 \u001b[0;32mprint\u001b[0m \u001b[0;34m\"self.current wts \"\u001b[0m\u001b[0;34m,\u001b[0m \u001b[0mtype\u001b[0m\u001b[0;34m(\u001b[0m\u001b[0mself\u001b[0m\u001b[0;34m.\u001b[0m\u001b[0mcurrent_wts\u001b[0m\u001b[0;34m)\u001b[0m\u001b[0;34m\u001b[0m\u001b[0m\n\u001b[0;32m---> 57\u001b[0;31m                 \u001b[0mupdates_wts\u001b[0m \u001b[0;34m=\u001b[0m \u001b[0mself\u001b[0m\u001b[0;34m.\u001b[0m\u001b[0mweight_adaptation\u001b[0m\u001b[0;34m(\u001b[0m\u001b[0mself\u001b[0m\u001b[0;34m.\u001b[0m\u001b[0mcurrent_wts\u001b[0m\u001b[0;34m,\u001b[0m\u001b[0mself\u001b[0m\u001b[0;34m.\u001b[0m\u001b[0meta\u001b[0m\u001b[0;34m,\u001b[0m\u001b[0mh\u001b[0m\u001b[0;34m[\u001b[0m\u001b[0mwinning_neuron_idx\u001b[0m\u001b[0;34m]\u001b[0m\u001b[0;34m,\u001b[0m\u001b[0mx\u001b[0m\u001b[0;34m)\u001b[0m\u001b[0;34m\u001b[0m\u001b[0m\n\u001b[0m\u001b[1;32m     58\u001b[0m \u001b[0;34m\u001b[0m\u001b[0m\n\u001b[1;32m     59\u001b[0m                 \u001b[0;32mif\u001b[0m \u001b[0;32mnot\u001b[0m \u001b[0mself\u001b[0m\u001b[0;34m.\u001b[0m\u001b[0mstopping_criteria\u001b[0m\u001b[0;34m(\u001b[0m\u001b[0mself\u001b[0m\u001b[0;34m.\u001b[0m\u001b[0mcurrent_wts\u001b[0m\u001b[0;34m,\u001b[0m\u001b[0mupdates_wts\u001b[0m\u001b[0;34m)\u001b[0m\u001b[0;34m:\u001b[0m\u001b[0;34m\u001b[0m\u001b[0m\n",
      "\u001b[0;32m<ipython-input-4-b597128693bd>\u001b[0m in \u001b[0;36mweight_adaptation\u001b[0;34m(self, current_wt, eta, h, x)\u001b[0m\n\u001b[1;32m     28\u001b[0m     \u001b[0;32mdef\u001b[0m \u001b[0mweight_adaptation\u001b[0m\u001b[0;34m(\u001b[0m\u001b[0mself\u001b[0m\u001b[0;34m,\u001b[0m\u001b[0mcurrent_wt\u001b[0m\u001b[0;34m,\u001b[0m\u001b[0meta\u001b[0m\u001b[0;34m,\u001b[0m\u001b[0mh\u001b[0m\u001b[0;34m,\u001b[0m\u001b[0mx\u001b[0m\u001b[0;34m)\u001b[0m\u001b[0;34m:\u001b[0m\u001b[0;34m\u001b[0m\u001b[0m\n\u001b[1;32m     29\u001b[0m         \u001b[0;32mprint\u001b[0m \u001b[0;34m\"current wt type \"\u001b[0m\u001b[0;34m,\u001b[0m \u001b[0mtype\u001b[0m\u001b[0;34m(\u001b[0m\u001b[0mcurrent_wt\u001b[0m\u001b[0;34m)\u001b[0m\u001b[0;34m\u001b[0m\u001b[0m\n\u001b[0;32m---> 30\u001b[0;31m         \u001b[0mnew_wts\u001b[0m \u001b[0;34m=\u001b[0m \u001b[0;34m[\u001b[0m\u001b[0;34m(\u001b[0m\u001b[0mw\u001b[0m \u001b[0;34m+\u001b[0m \u001b[0;34m(\u001b[0m\u001b[0meta\u001b[0m\u001b[0;34m*\u001b[0m\u001b[0mh\u001b[0m\u001b[0;34m*\u001b[0m\u001b[0;34m(\u001b[0m\u001b[0mx\u001b[0m\u001b[0;34m-\u001b[0m\u001b[0mw\u001b[0m\u001b[0;34m)\u001b[0m\u001b[0;34m)\u001b[0m\u001b[0;34m)\u001b[0m \u001b[0;32mfor\u001b[0m \u001b[0mw\u001b[0m \u001b[0;32min\u001b[0m \u001b[0mcurrent_wt\u001b[0m\u001b[0;34m]\u001b[0m\u001b[0;34m\u001b[0m\u001b[0m\n\u001b[0m\u001b[1;32m     31\u001b[0m         \u001b[0;32mreturn\u001b[0m \u001b[0mnew_wts\u001b[0m\u001b[0;34m\u001b[0m\u001b[0m\n\u001b[1;32m     32\u001b[0m \u001b[0;34m\u001b[0m\u001b[0m\n",
      "\u001b[0;31mTypeError\u001b[0m: 'numpy.float64' object cannot be interpreted as an index"
     ]
    }
   ],
   "source": [
    "initial_wts = np.array([[0.15,0.45],\n",
    "                        [0.3,0.9]])\n",
    "inputs = [0.1,0.2,0.4,0.5]\n",
    "som = SOM(inputs,2,0.1,initial_wts[0],0.01)\n",
    "som.train()"
   ]
  },
  {
   "cell_type": "code",
   "execution_count": null,
   "metadata": {
    "collapsed": true
   },
   "outputs": [],
   "source": []
  }
 ],
 "metadata": {
  "kernelspec": {
   "display_name": "Python 2",
   "language": "python",
   "name": "python2"
  },
  "language_info": {
   "codemirror_mode": {
    "name": "ipython",
    "version": 2
   },
   "file_extension": ".py",
   "mimetype": "text/x-python",
   "name": "python",
   "nbconvert_exporter": "python",
   "pygments_lexer": "ipython2",
   "version": "2.7.14"
  }
 },
 "nbformat": 4,
 "nbformat_minor": 1
}
