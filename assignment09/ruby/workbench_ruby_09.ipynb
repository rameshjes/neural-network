{
 "cells": [
  {
   "cell_type": "code",
   "execution_count": 1,
   "metadata": {
    "collapsed": true
   },
   "outputs": [],
   "source": [
    "import numpy as np\n",
    "import matplotlib.pyplot as plt\n",
    "import random\n",
    "from IPython.display import Image\n",
    "from sklearn import svm\n",
    "%matplotlib inline\n",
    "np.random.seed(7777)"
   ]
  },
  {
   "cell_type": "code",
   "execution_count": 66,
   "metadata": {},
   "outputs": [
    {
     "name": "stdout",
     "output_type": "stream",
     "text": [
      "[[2]\n",
      " [3]\n",
      " [4]\n",
      " [5]]\n"
     ]
    }
   ],
   "source": [
    "x = 1\n",
    "W = np.array([[2],[3],[4],[5]])\n",
    "print W"
   ]
  },
  {
   "cell_type": "code",
   "execution_count": 13,
   "metadata": {
    "collapsed": true
   },
   "outputs": [],
   "source": [
    "def diatance1d(x,w):\n",
    "    return abs(x-w)"
   ]
  },
  {
   "cell_type": "code",
   "execution_count": 20,
   "metadata": {},
   "outputs": [
    {
     "data": {
      "text/plain": [
       "0"
      ]
     },
     "execution_count": 20,
     "metadata": {},
     "output_type": "execute_result"
    }
   ],
   "source": [
    "min([(index,diatance1d(x,w)) for index,w in enumerate(W)])[0]"
   ]
  },
  {
   "cell_type": "code",
   "execution_count": null,
   "metadata": {
    "collapsed": true
   },
   "outputs": [],
   "source": [
    " min([(i, distance(city, neuron)) for i,\n",
    "                neuron in enumerate(neurons)], key=itemgetter(1))"
   ]
  },
  {
   "cell_type": "code",
   "execution_count": 22,
   "metadata": {},
   "outputs": [],
   "source": [
    "class TravellingSalesMan:\n",
    "    def __init__():\n",
    "        pass"
   ]
  },
  {
   "cell_type": "code",
   "execution_count": 28,
   "metadata": {
    "collapsed": true
   },
   "outputs": [],
   "source": [
    "def point_on_circle():\n",
    "    '''\n",
    "        Finding the x,y coordinates on circle, based on given angle\n",
    "    '''\n",
    "    from math import cos, sin, pi\n",
    "    #center of circle, angle in degree and radius of circle\n",
    "    center = [0,0]\n",
    "    angle = pi / 2\n",
    "    radius = 100\n",
    "    x = center[0] + (radius * cos(angle))\n",
    "    y = center[1] + (radius * sin(angle))\n",
    "\n",
    "    return x,y"
   ]
  },
  {
   "cell_type": "code",
   "execution_count": 27,
   "metadata": {},
   "outputs": [
    {
     "name": "stdout",
     "output_type": "stream",
     "text": [
      "(100.0, -2.4492935982947064e-14)\n",
      "(100.0, -2.4492935982947064e-14)\n",
      "(100.0, -2.4492935982947064e-14)\n",
      "(100.0, -2.4492935982947064e-14)\n",
      "(100.0, -2.4492935982947064e-14)\n",
      "(100.0, -2.4492935982947064e-14)\n",
      "(100.0, -2.4492935982947064e-14)\n",
      "(100.0, -2.4492935982947064e-14)\n",
      "(100.0, -2.4492935982947064e-14)\n",
      "(100.0, -2.4492935982947064e-14)\n"
     ]
    }
   ],
   "source": [
    "for i in range(10):\n",
    "    print point_on_circle()"
   ]
  },
  {
   "cell_type": "code",
   "execution_count": 3,
   "metadata": {},
   "outputs": [],
   "source": [
    "def get_city():\n",
    "    return [np.random.uniform(0.0,100.0),np.random.uniform(0.0,100.0)]\n",
    "\n",
    "def get_cities(num):\n",
    "    cities = np.empty((0,2))\n",
    "    for i in range(num):\n",
    "        cities = np.vstack([cities,get_city()])\n",
    "    return cities"
   ]
  },
  {
   "cell_type": "code",
   "execution_count": 15,
   "metadata": {},
   "outputs": [],
   "source": [
    "cities = get_cities(20)\n",
    "\n",
    "# plt.plot(cities[:,0:1],cities[:,1:2],'ro')"
   ]
  },
  {
   "cell_type": "code",
   "execution_count": null,
   "metadata": {
    "collapsed": true
   },
   "outputs": [],
   "source": []
  }
 ],
 "metadata": {
  "kernelspec": {
   "display_name": "Python 2",
   "language": "python",
   "name": "python2"
  },
  "language_info": {
   "codemirror_mode": {
    "name": "ipython",
    "version": 2
   },
   "file_extension": ".py",
   "mimetype": "text/x-python",
   "name": "python",
   "nbconvert_exporter": "python",
   "pygments_lexer": "ipython2",
   "version": "2.7.14"
  }
 },
 "nbformat": 4,
 "nbformat_minor": 2
}
