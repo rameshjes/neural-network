{
 "cells": [
  {
   "cell_type": "code",
   "execution_count": 1,
   "metadata": {
    "collapsed": false
   },
   "outputs": [],
   "source": [
    "import numpy as np\n",
    "\n",
    "num_visible = 2\n",
    "num_hidden = 3\n",
    "_eta = 0.1\n",
    "\n",
    "def logistic(v):\n",
    "    return 1.0/(1 + np.exp(-v))\n",
    "\n",
    "def training(training_data,weights,bias):\n",
    "    new_input = []\n",
    "    for input_ in training_data:\n",
    "        x1 = input_[0]\n",
    "        x2 = input_[1]\n",
    "    \n",
    "        a = []\n",
    "        for i in range(num_hidden):\n",
    "            w1 = weights.T[i]\n",
    "            res = ((x1*w1[0]) + (x2*w1[1])) + bias[i]\n",
    "            activation_val = logistic(res)\n",
    "            a.append(activation_val)\n",
    "        new_input.append(a)\n",
    "    new_input = np.asarray(new_input)\n",
    "    return new_input\n",
    "\n",
    "def reconstruction(new_input,weights,bias):\n",
    "    \n",
    "    list_ = []\n",
    "    for input_ in new_input:\n",
    "        h1 = input_[0]\n",
    "        h2 = input_[1]\n",
    "        h3 = input_[2]\n",
    "        a = []\n",
    "        for i in range(num_visible):\n",
    "            w1 = weights.T\n",
    "            wt = w1[:,i]\n",
    "            res = ((h1*wt[0]) + (h2*wt[1]) + (h3*wt[2])) + bias[i]\n",
    "            activation_val = logistic(res)\n",
    "            a.append(activation_val)\n",
    "        list_.append(a)\n",
    "    list_ = np.asarray(list_)\n",
    "    return list_\n"
   ]
  },
  {
   "cell_type": "code",
   "execution_count": 2,
   "metadata": {
    "collapsed": false
   },
   "outputs": [
    {
     "name": "stdout",
     "output_type": "stream",
     "text": [
      "Initial Training data: \n",
      "[[0 1]\n",
      " [1 0]]\n",
      "\n",
      "Initial Weight : \n",
      "[[ 0.07088979  0.50164408  0.23336418]\n",
      " [ 0.8282879   0.26804424  0.94415865]]\n",
      "\n",
      "First Reconstructed Input:  \n",
      "[[ 0.75407081  0.858215  ]\n",
      " [ 0.75123779  0.83066208]]\n",
      "\n",
      "Delta_w : \n",
      "[[-0.07540708  0.0141785 ]\n",
      " [ 0.02487622 -0.08306621]]\n",
      "\n",
      "Adjusted weights for input  [0.75407081049310576, 0.85821500140212958]\n",
      "\n",
      "[[-0.00451729  0.426237    0.1579571 ]\n",
      " [ 0.8424664   0.28222274  0.95833715]]\n",
      "\n",
      "Adjusted weights for input  [0.75123778913491357, 0.83066207634674205]\n",
      "\n",
      "[[ 0.02035893  0.45111322  0.18283332]\n",
      " [ 0.75940019  0.19915654  0.87527094]]\n"
     ]
    }
   ],
   "source": [
    "training_data = np.array([[0,1],[1,0]])\n",
    "weights = np.random.rand(num_visible, num_hidden)\n",
    "h_bias = np.random.rand(num_hidden)\n",
    "v_bias = np.random.rand(num_visible)\n",
    "new_input = training(training_data,weights,h_bias)\n",
    "\n",
    "reconstructed_input = reconstruction(new_input,weights,v_bias)\n",
    "print \"Initial Training data: \\n\",training_data\n",
    "print \"\\nInitial Weight : \\n\",weights\n",
    "print \"\\nFirst Reconstructed Input:  \\n\",reconstructed_input\n",
    "\n",
    "delta_w = _eta*(training_data - reconstructed_input)\n",
    "\n",
    "print \"\\nDelta_w : \\n\",delta_w\n",
    "\n",
    "for i in range(training_data.shape[0]):\n",
    "    print \"\\nAdjusted weights for input \",list(reconstructed_input[i])\n",
    "    weights[0] = weights[0] + delta_w[i][0]\n",
    "    weights[1] = weights[1] + delta_w[i][1]\n",
    "    print \"\\n\",weights"
   ]
  }
 ],
 "metadata": {
  "kernelspec": {
   "display_name": "Python [Root]",
   "language": "python",
   "name": "Python [Root]"
  },
  "language_info": {
   "codemirror_mode": {
    "name": "ipython",
    "version": 2
   },
   "file_extension": ".py",
   "mimetype": "text/x-python",
   "name": "python",
   "nbconvert_exporter": "python",
   "pygments_lexer": "ipython2",
   "version": "2.7.12"
  }
 },
 "nbformat": 4,
 "nbformat_minor": 0
}
