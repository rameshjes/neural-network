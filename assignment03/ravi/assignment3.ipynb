{
 "cells": [
  {
   "cell_type": "code",
   "execution_count": 42,
   "metadata": {
    "collapsed": false
   },
   "outputs": [],
   "source": [
    "import numpy as np\n",
    "num_visible = 2\n",
    "num_hidden = 3\n",
    "_eta = 0.1\n",
    "def logistic(v):\n",
    "    return 1.0/(1 + np.exp(-v))\n",
    "\n",
    "def training(weights,bias):\n",
    "    training_data = np.array([[0,1],[1,0]])\n",
    "\n",
    "\n",
    "\n",
    "    new_input = []\n",
    "    for input_ in training_data:\n",
    "        x1 = input_[0]\n",
    "        x2 = input_[1]\n",
    "    \n",
    "        a = []\n",
    "        for i in range(num_hidden):\n",
    "            w1 = weights.T[i]\n",
    "            res = ((x1*w1[0]) + (x2*w1[1])) + bias[i]\n",
    "            activation_val = logistic(res)\n",
    "            a.append(activation_val)\n",
    "        new_input.append(a)\n",
    "    new_input = np.asarray(new_input)\n",
    "    return new_input\n",
    "\n",
    "def reconstruction(new_input,weights,bias):\n",
    "    \n",
    "    list_ = []\n",
    "    for input_ in new_input:\n",
    "        h1 = input_[0]\n",
    "        h2 = input_[1]\n",
    "        h3 = input_[2]\n",
    "        a = []\n",
    "        for i in range(num_visible):\n",
    "            w1 = weights.T\n",
    "            wt = w1[:,i]\n",
    "            res = ((h1*wt[0]) + (h2*wt[1]) + (h1*wt[2])) + bias[i]\n",
    "            activation_val = logistic(res)\n",
    "            a.append(activation_val)\n",
    "        list_.append(a)\n",
    "    list_ = np.asarray(list_)\n",
    "    return list_\n",
    "\n",
    "#for inputs in training_data:\n",
    "    "
   ]
  },
  {
   "cell_type": "code",
   "execution_count": 43,
   "metadata": {
    "collapsed": false
   },
   "outputs": [
    {
     "name": "stdout",
     "output_type": "stream",
     "text": [
      "[[ 0.7153304   0.83397885  0.72258321]\n",
      " [ 0.77436547  0.709881    0.770015  ]]\n",
      "[[ 0.77777178  0.86919129]\n",
      " [ 0.78877164  0.86249266]]\n"
     ]
    }
   ],
   "source": [
    "weights = np.random.rand(num_visible, num_hidden)\n",
    "bias = np.random.rand(num_hidden)\n",
    "new_input = training(weights,bias)\n",
    "\n",
    "print new_input\n",
    "list_ = reconstruction(new_input,weights,bias)\n",
    "print list_"
   ]
  },
  {
   "cell_type": "code",
   "execution_count": null,
   "metadata": {
    "collapsed": true
   },
   "outputs": [],
   "source": []
  }
 ],
 "metadata": {
  "kernelspec": {
   "display_name": "Python [Root]",
   "language": "python",
   "name": "Python [Root]"
  },
  "language_info": {
   "codemirror_mode": {
    "name": "ipython",
    "version": 2
   },
   "file_extension": ".py",
   "mimetype": "text/x-python",
   "name": "python",
   "nbconvert_exporter": "python",
   "pygments_lexer": "ipython2",
   "version": "2.7.12"
  }
 },
 "nbformat": 4,
 "nbformat_minor": 0
}
