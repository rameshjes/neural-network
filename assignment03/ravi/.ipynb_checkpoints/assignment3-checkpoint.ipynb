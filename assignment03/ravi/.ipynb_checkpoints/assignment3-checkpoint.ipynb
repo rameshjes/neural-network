{
 "cells": [
  {
   "cell_type": "code",
   "execution_count": 1,
   "metadata": {
    "collapsed": false
   },
   "outputs": [],
   "source": [
    "import numpy as np\n",
    "\n",
    "num_visible = 2\n",
    "num_hidden = 3\n",
    "_eta = 0.1\n",
    "\n",
    "def logistic(v):\n",
    "    return 1.0/(1 + np.exp(-v))\n",
    "\n",
    "def training(training_data,weights,bias):\n",
    "    new_input = []\n",
    "    for input_ in training_data:\n",
    "        x1 = input_[0]\n",
    "        x2 = input_[1]\n",
    "    \n",
    "        a = []\n",
    "        for i in range(num_hidden):\n",
    "            w1 = weights.T[i]\n",
    "            res = ((x1*w1[0]) + (x2*w1[1])) + bias[i]\n",
    "            activation_val = logistic(res)\n",
    "            a.append(activation_val)\n",
    "        new_input.append(a)\n",
    "    new_input = np.asarray(new_input)\n",
    "    return new_input\n",
    "\n",
    "def reconstruction(new_input,weights,bias):\n",
    "    \n",
    "    list_ = []\n",
    "    for input_ in new_input:\n",
    "        h1 = input_[0]\n",
    "        h2 = input_[1]\n",
    "        h3 = input_[2]\n",
    "        a = []\n",
    "        for i in range(num_visible):\n",
    "            w1 = weights.T\n",
    "            wt = w1[:,i]\n",
    "            res = ((h1*wt[0]) + (h2*wt[1]) + (h1*wt[2])) + bias[i]\n",
    "            activation_val = logistic(res)\n",
    "            a.append(activation_val)\n",
    "        list_.append(a)\n",
    "    list_ = np.asarray(list_)\n",
    "    return list_\n"
   ]
  },
  {
   "cell_type": "code",
   "execution_count": 2,
   "metadata": {
    "collapsed": false
   },
   "outputs": [
    {
     "name": "stdout",
     "output_type": "stream",
     "text": [
      "Initial Training data: [[0 1]\n",
      " [1 0]]\n",
      "\n",
      "First Reconstructed Input: [[ 0.80302224  0.80238122]\n",
      " [ 0.79319218  0.79580306]]\n",
      "\n",
      "Initial Weight : [[ 0.33524447  0.27492961  0.70691733]\n",
      " [ 0.57625072  0.40355542  0.0174213 ]]\n",
      "\n",
      "Delta_w : [[-0.08030222  0.01976188]\n",
      " [ 0.02068078 -0.07958031]]\n",
      "\n",
      "Adjusted weights for input :  [0.80302224353206264, 0.8023812175465459]\n",
      "[[ 0.25494224  0.19462738  0.62661511]\n",
      " [ 0.5960126   0.42331729  0.03718318]]\n",
      "\n",
      "Adjusted weights for input :  [0.79319218234274147, 0.79580306237274812]\n",
      "[[ 0.27562302  0.21530817  0.64729589]\n",
      " [ 0.51643229  0.34373699 -0.04239713]]\n",
      "\n"
     ]
    }
   ],
   "source": [
    "training_data = np.array([[0,1],[1,0]])\n",
    "weights = np.random.rand(num_visible, num_hidden)\n",
    "h_bias = np.random.rand(num_hidden)\n",
    "v_bias = np.random.rand(num_visible)\n",
    "new_input = training(training_data,weights,h_bias)\n",
    "\n",
    "reconstructed_input = reconstruction(new_input,weights,v_bias)\n",
    "print \"Initial Training data:\",training_data\n",
    "print\n",
    "print \"First Reconstructed Input:\",reconstructed_input\n",
    "print\n",
    "\n",
    "delta_w = _eta*(training_data - reconstructed_input)\n",
    "\n",
    "print \"Initial Weight :\",weights\n",
    "print\n",
    "\n",
    "print \"Delta_w :\",delta_w\n",
    "print\n",
    "\n",
    "for i in range(training_data.shape[0]):\n",
    "    print \"Adjusted weights for input : \",list(reconstructed_input[i])\n",
    "    weights[0] = weights[0] + delta_w[i][0]\n",
    "    weights[1] = weights[1] + delta_w[i][1]\n",
    "    print weights\n",
    "    print"
   ]
  }
 ],
 "metadata": {
  "kernelspec": {
   "display_name": "Python [Root]",
   "language": "python",
   "name": "Python [Root]"
  },
  "language_info": {
   "codemirror_mode": {
    "name": "ipython",
    "version": 2
   },
   "file_extension": ".py",
   "mimetype": "text/x-python",
   "name": "python",
   "nbconvert_exporter": "python",
   "pygments_lexer": "ipython2",
   "version": "2.7.12"
  }
 },
 "nbformat": 4,
 "nbformat_minor": 0
}
