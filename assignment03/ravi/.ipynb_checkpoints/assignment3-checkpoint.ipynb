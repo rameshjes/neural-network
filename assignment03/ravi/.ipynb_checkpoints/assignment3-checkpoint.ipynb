{
 "cells": [
  {
   "cell_type": "code",
   "execution_count": 5,
   "metadata": {
    "collapsed": false
   },
   "outputs": [],
   "source": [
    "import numpy as np\n",
    "\n",
    "num_visible = 2\n",
    "num_hidden = 3\n",
    "_eta = 0.1\n",
    "\n",
    "def logistic(v):\n",
    "    return 1.0/(1 + np.exp(-v))\n",
    "\n",
    "def training(training_data,weights,bias):\n",
    "    new_input = []\n",
    "    for input_ in training_data:\n",
    "        x1 = input_[0]\n",
    "        x2 = input_[1]\n",
    "    \n",
    "        a = []\n",
    "        for i in range(num_hidden):\n",
    "            w1 = weights.T[i]\n",
    "            res = ((x1*w1[0]) + (x2*w1[1])) + bias[i]\n",
    "            activation_val = logistic(res)\n",
    "            a.append(activation_val)\n",
    "        new_input.append(a)\n",
    "    new_input = np.asarray(new_input)\n",
    "    return new_input\n",
    "\n",
    "def reconstruction(new_input,weights,bias):\n",
    "    \n",
    "    list_ = []\n",
    "    for input_ in new_input:\n",
    "        h1 = input_[0]\n",
    "        h2 = input_[1]\n",
    "        h3 = input_[2]\n",
    "        a = []\n",
    "        for i in range(num_visible):\n",
    "            w1 = weights.T\n",
    "            wt = w1[:,i]\n",
    "            res = ((h1*wt[0]) + (h2*wt[1]) + (h1*wt[2])) + bias[i]\n",
    "            activation_val = logistic(res)\n",
    "            a.append(activation_val)\n",
    "        list_.append(a)\n",
    "    list_ = np.asarray(list_)\n",
    "    return list_\n"
   ]
  },
  {
   "cell_type": "code",
   "execution_count": 22,
   "metadata": {
    "collapsed": false
   },
   "outputs": [
    {
     "name": "stdout",
     "output_type": "stream",
     "text": [
      "Initial Training data: [[0 1]\n",
      " [1 0]]\n",
      "\n",
      "First Reconstructed Input: [[ 0.89321781  0.94493302]\n",
      " [ 0.88827161  0.93897946]]\n",
      "\n",
      "Initial Weight : [[ 0.14222261  0.97678128  0.51577358]\n",
      " [ 0.63159754  0.91715237  0.68279633]]\n",
      "\n",
      "Delta_w : [[-0.08932178  0.0055067 ]\n",
      " [ 0.01117284 -0.09389795]]\n",
      "\n",
      "Adjusted weights for input :  [0, 1]\n",
      "[[ 0.05290083  0.8874595   0.4264518 ]\n",
      " [ 0.63710424  0.92265907  0.68830302]]\n",
      "\n",
      "Adjusted weights for input :  [1, 0]\n",
      "[[ 0.06407367  0.89863234  0.43762464]\n",
      " [ 0.54320629  0.82876112  0.59440508]]\n",
      "\n"
     ]
    }
   ],
   "source": [
    "training_data = np.array([[0,1],[1,0]])\n",
    "weights = np.random.rand(num_visible, num_hidden)\n",
    "h_bias = np.random.rand(num_hidden)\n",
    "v_bias = np.random.rand(num_visible)\n",
    "new_input = training(training_data,weights,h_bias)\n",
    "\n",
    "reconstructed_input = reconstruction(new_input,weights,v_bias)\n",
    "print \"Initial Training data:\",training_data\n",
    "print\n",
    "print \"First Reconstructed Input:\",reconstructed_input\n",
    "print\n",
    "\n",
    "delta_w = _eta*(training_data - reconstructed_input)\n",
    "\n",
    "print \"Initial Weight :\",weights\n",
    "print\n",
    "\n",
    "print \"Delta_w :\",delta_w\n",
    "print\n",
    "\n",
    "for i in range(training_data.shape[0]):\n",
    "    print \"Adjusted weights for input : \",list(training_data[i])\n",
    "    weights[0] = weights[0] + delta_w[i][0]\n",
    "    weights[1] = weights[1] + delta_w[i][1]\n",
    "    print weights\n",
    "    print"
   ]
  }
 ],
 "metadata": {
  "kernelspec": {
   "display_name": "Python [Root]",
   "language": "python",
   "name": "Python [Root]"
  },
  "language_info": {
   "codemirror_mode": {
    "name": "ipython",
    "version": 2
   },
   "file_extension": ".py",
   "mimetype": "text/x-python",
   "name": "python",
   "nbconvert_exporter": "python",
   "pygments_lexer": "ipython2",
   "version": "2.7.12"
  }
 },
 "nbformat": 4,
 "nbformat_minor": 0
}
