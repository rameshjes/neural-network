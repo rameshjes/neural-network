{
 "cells": [
  {
   "cell_type": "markdown",
   "metadata": {
    "collapsed": true
   },
   "source": [
    "# Exercise 3.4\n",
    "\n",
    "Given correlation matrix $R_x$ of the input vector $x(n)$ in the LMS algorithm $$\\mathbf{R_x} = \\left[\\begin{array}\n",
    "{rrr}\n",
    "1 & 0.5 \\\\\n",
    "0.5 & 1 \n",
    "\\end{array}\\right]\n",
    "$$\n",
    "\n",
    "Define the range of values for the learning-rate parameter $\\eta$ of the LMS algorithim for it to be convergent in the mean square."
   ]
  },
  {
   "cell_type": "markdown",
   "metadata": {},
   "source": [
    "# Solution\n",
    "\n",
    "The learning rate $\\eta$ and the input vector x(n) that determine the trasmittance of the feedback loop. So, the convergence behaviour of the LMS algorithm is influenced by the statistical characteristics behaviour of the input vector and the value of learning parameter $\\eta$. \n",
    "\n",
    "As shown in Haykin (2006), that the LMS is convergant in the mean square provided that $\\eta$ satisfies the following condition, $0<\\eta<\\frac{2}{\\lambda_{max}}$, where $\\lambda_{max}$ is the largest eigen value of the correlation matrix $R_x$. \n",
    "\n",
    "But in some typical applications of the LMS algorithm, the knowledge of $\\lambda_{max}$ is not available, so to avoid this problem we may take \n",
    "trace of $R_X$ which is a conservative estimate of $\\lambda_{max}$. So to be convergent in the mean square, the condition should be $0<\\eta<\\frac{2}{tr[R_x]}$"
   ]
  },
  {
   "cell_type": "code",
   "execution_count": 2,
   "metadata": {
    "collapsed": true
   },
   "outputs": [],
   "source": [
    "import numpy as np"
   ]
  },
  {
   "cell_type": "code",
   "execution_count": 9,
   "metadata": {},
   "outputs": [
    {
     "name": "stdout",
     "output_type": "stream",
     "text": [
      "Upper Range: 1.0\n"
     ]
    }
   ],
   "source": [
    "#using trace of correlation method\n",
    "correlation_matrix = np.array([[1,0.5],[0.5,1]])\n",
    "#trace calculation\n",
    "correlation_matrix_trace = np.trace(correlation_matrix)\n",
    "upper_range = 2/correlation_matrix_trace\n",
    "print \"Upper Range: \" + str(upper_range)"
   ]
  },
  {
   "cell_type": "markdown",
   "metadata": {},
   "source": [
    "For the given correlation matrix, the learning rate parameter range from $0 < \\eta < 1$"
   ]
  }
 ],
 "metadata": {
  "kernelspec": {
   "display_name": "Python 2",
   "language": "python",
   "name": "python2"
  },
  "language_info": {
   "codemirror_mode": {
    "name": "ipython",
    "version": 2
   },
   "file_extension": ".py",
   "mimetype": "text/x-python",
   "name": "python",
   "nbconvert_exporter": "python",
   "pygments_lexer": "ipython2",
   "version": "2.7.14"
  }
 },
 "nbformat": 4,
 "nbformat_minor": 2
}
