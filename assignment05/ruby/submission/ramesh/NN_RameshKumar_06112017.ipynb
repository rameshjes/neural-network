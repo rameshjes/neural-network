{
 "cells": [
  {
   "cell_type": "code",
   "execution_count": 1,
   "metadata": {
    "collapsed": true
   },
   "outputs": [],
   "source": [
    "import numpy as np\n",
    "import sympy as sp"
   ]
  },
  {
   "cell_type": "markdown",
   "metadata": {},
   "source": [
    "# Exercise 3.2 part (a)"
   ]
  },
  {
   "cell_type": "code",
   "execution_count": 24,
   "metadata": {},
   "outputs": [
    {
     "name": "stdout",
     "output_type": "stream",
     "text": [
      "The weight vector w =\n",
      "⎡w₀⎤\n",
      "⎢  ⎥\n",
      "⎣w₁⎦\n",
      "\n",
      " r_xd = \n",
      "⎡0.8182⎤\n",
      "⎢      ⎥\n",
      "⎣0.354 ⎦\n",
      "\n",
      "And R_x = \n",
      "⎡  1     0.8182⎤\n",
      "⎢              ⎥\n",
      "⎣0.8182    1   ⎦\n"
     ]
    }
   ],
   "source": [
    "wo,w1 = sp.symbols(\"w0,w1\")\n",
    "\n",
    "w = sp.Matrix([wo,w1])\n",
    "r = sp.Matrix([0.8182,0.354])\n",
    "R = sp.Matrix([[1,0.8182],\n",
    "               [0.8182,1]])\n",
    "print \"The weight vector w =\"\n",
    "sp.pprint(w)\n",
    "print \"\\n r_xd = \"\n",
    "sp.pprint(r)\n",
    "print \"\\nAnd R_x = \"\n",
    "sp.pprint(R)\n"
   ]
  },
  {
   "cell_type": "markdown",
   "metadata": {},
   "source": [
    "$\\xi(\\omega) = \\frac{1}{2}\\sigma^{2} - r_{xd}^T \\omega + \\frac{1}{2}\\omega^T R_x \\omega$.\n",
    "Substituting the values of $r_{xd}$ and $R_x$, the values of $r_{xd}^T \\omega$ and $\\frac{1}{2}\\omega^T R_x \\omega$ is :"
   ]
  },
  {
   "cell_type": "code",
   "execution_count": 13,
   "metadata": {},
   "outputs": [
    {
     "name": "stdout",
     "output_type": "stream",
     "text": [
      "[0.8182⋅w₀ + 0.354⋅w₁]\n"
     ]
    }
   ],
   "source": [
    "rw = r.T * w\n",
    "sp.pprint(rw)"
   ]
  },
  {
   "cell_type": "code",
   "execution_count": 14,
   "metadata": {},
   "outputs": [
    {
     "name": "stdout",
     "output_type": "stream",
     "text": [
      "[w₀⋅(0.5⋅w₀ + 0.4091⋅w₁) + w₁⋅(0.4091⋅w₀ + 0.5⋅w₁)]\n"
     ]
    }
   ],
   "source": [
    "w_tRw = 0.5*w.T*R*w\n",
    "sp.pprint(w_tRw)"
   ]
  },
  {
   "cell_type": "markdown",
   "metadata": {},
   "source": [
    "Thus $\\xi(\\omega) = \\frac{1}{2}\\sigma^{2} - [0.8182⋅\\omega_0 + 0.354⋅\\omega_1] + [\\omega_0⋅(0.5⋅\\omega_0 + 0.4091⋅\\omega_1) + \\omega_1⋅(0.4091⋅\\omega_0 + 0.5⋅\\omega_1)]$\n",
    "\n",
    " $\\xi(\\omega) = \\frac{1}{2}\\sigma^{2} + 0.5.\\omega_0^{2} + 0.5.\\omega_1^{2} + 0.8182.\\omega_0.\\omega_1 - 0.8182.\\omega_0 - 0.354.\\omega_1$\n",
    "\n"
   ]
  },
  {
   "cell_type": "code",
   "execution_count": 15,
   "metadata": {},
   "outputs": [
    {
     "name": "stdout",
     "output_type": "stream",
     "text": [
      "Gradient :\n",
      "⎡1.0⋅w₀ + 0.8182⋅w₁ - 0.8182⎤\n",
      "⎢                           ⎥\n",
      "⎣0.8182⋅w₀ + 1.0⋅w₁ - 0.354 ⎦\n"
     ]
    }
   ],
   "source": [
    "sigma = sp.Symbol('sigma')\n",
    "xi = 0.5*sigma**2 + (0.5*wo**2) + (0.5*w1**2) + (0.8182*wo*w1) - (0.8182*wo) - (0.354*w1)\n",
    "eqn1 = sp.diff(xi,wo)\n",
    "eqn2 = sp.diff(xi,w1)\n",
    "gradient = sp.Matrix([eqn1,eqn2])\n",
    "print \"Gradient :\"\n",
    "sp.pprint(gradient)"
   ]
  },
  {
   "cell_type": "code",
   "execution_count": 16,
   "metadata": {},
   "outputs": [
    {
     "name": "stdout",
     "output_type": "stream",
     "text": [
      "The optimal weight vector =  {w0: 1.59902944424901, w1: -0.954325891284541}\n"
     ]
    }
   ],
   "source": [
    "\n",
    "w_optimal = sp.solve([eqn1,eqn2],[wo,w1])\n",
    "print \"The optimal weight vector = \",w_optimal"
   ]
  },
  {
   "cell_type": "markdown",
   "metadata": {},
   "source": [
    "# Exercise 3.2 part (b)"
   ]
  },
  {
   "cell_type": "code",
   "execution_count": 17,
   "metadata": {
    "collapsed": true
   },
   "outputs": [],
   "source": [
    "import matplotlib.pyplot as plt\n",
    "%matplotlib inline\n",
    "\n",
    "\n",
    "def steepest_descent(eta, xi , gradient):\n",
    "    w_init = np.array([0,0])\n",
    "    \n",
    "    w_n = w_init.T\n",
    "    xi_n = xi.subs({wo:w_n[0],w1:w_n[1]})\n",
    "    gradient_n = gradient.subs({wo:w_n[0],w1:w_n[1]})\n",
    "    \n",
    "    w_0 = []\n",
    "    w_1 = []\n",
    "\n",
    "    for i in range(200):\n",
    "        eta_gn  =  np.asarray(eta*gradient_n)\n",
    "        w_new = w_n - np.array([eta_gn[0,0],eta_gn[1,0]])\n",
    "        #Update the weight vector, the gradient and corresponding value of xi\n",
    "        \n",
    "        gradient_n = gradient.subs({wo:w_new[0],w1:w_new[1]})\n",
    "        xi_new = xi.subs({wo:w_new[0],w1:w_new[1]})\n",
    "        \n",
    "        xi_n = xi_new\n",
    "        w_n = w_new\n",
    "        \n",
    "        w_0.append(w_n[0])\n",
    "        w_1.append(w_n[1])\n",
    "        \n",
    "    w_0 = np.asarray(w_0)\n",
    "    w_1 = np.asarray(w_1)\n",
    "    \n",
    "    plt.plot(w_0,w_1)\n",
    "    plt.xlabel('w0 -->')\n",
    "    plt.ylabel('w1 -->')\n",
    "    return w_n    "
   ]
  },
  {
   "cell_type": "code",
   "execution_count": 18,
   "metadata": {},
   "outputs": [
    {
     "name": "stdout",
     "output_type": "stream",
     "text": [
      "[1.59901227650625 -0.954308723541781]\n"
     ]
    },
    {
     "data": {
      "image/png": "[encoded data removed]",
      "text/plain": [
       "<matplotlib.figure.Figure at 0x7f6da03bfa50>"
      ]
     },
     "metadata": {},
     "output_type": "display_data"
    }
   ],
   "source": [
    "#Learning rate = 0.3\n",
    "sp.pprint(steepest_descent(0.3,xi,gradient))"
   ]
  },
  {
   "cell_type": "code",
   "execution_count": 19,
   "metadata": {
    "scrolled": true
   },
   "outputs": [
    {
     "name": "stdout",
     "output_type": "stream",
     "text": [
      "[1.59902944424901 -0.954325891284542]\n"
     ]
    },
    {
     "data": {
      "image/png": "[encoded data removed]",
      "text/plain": [
       "<matplotlib.figure.Figure at 0x7f6da037c5d0>"
      ]
     },
     "metadata": {},
     "output_type": "display_data"
    }
   ],
   "source": [
    "#Learning rate = 1.0\n",
    "sp.pprint(steepest_descent(1.0,xi,gradient))"
   ]
  },
  {
   "cell_type": "markdown",
   "metadata": {},
   "source": [
    "# Exercise 3.4\n",
    "\n",
    "Given correlation matrix $R_x$ of the input vector $x(n)$ in the LMS algorithm $$\\mathbf{R_x} = \\left[\\begin{array}\n",
    "{rrr}\n",
    "1 & 0.5 \\\\\n",
    "0.5 & 1 \n",
    "\\end{array}\\right]\n",
    "$$\n",
    "\n",
    "Define the range of values for the learning-rate parameter $\\eta$ of the LMS algorithim for it to be convergent in the mean square."
   ]
  },
  {
   "cell_type": "markdown",
   "metadata": {},
   "source": [
    "# Solution\n",
    "\n",
    "The learning rate $\\eta$ and the input vector x(n) that determine the trasmittance of the feedback loop. So, the convergence behaviour of the LMS algorithm is influenced by the statistical characteristics behaviour of the input vector and the value of learning parameter $\\eta$. \n",
    "\n",
    "As shown in Haykin (2006), that the LMS is convergant in the mean square provided that $\\eta$ satisfies the following condition, $0<\\eta<\\frac{2}{\\lambda_{max}}$, where $\\lambda_{max}$ is the largest eigen value of the correlation matrix $R_x$. \n",
    "\n",
    "But in some typical applications of the LMS algorithm, the knowledge of $\\lambda_{max}$ is not available, so to avoid this problem we may take \n",
    "trace of $R_X$ which is a conservative estimate of $\\lambda_{max}$. So to be convergent in the mean square, the condition should be $0<\\eta<\\frac{2}{tr[R_x]}$"
   ]
  },
  {
   "cell_type": "code",
   "execution_count": 21,
   "metadata": {},
   "outputs": [
    {
     "name": "stdout",
     "output_type": "stream",
     "text": [
      "Upper Range: 1.0\n"
     ]
    }
   ],
   "source": [
    "#using trace of correlation method\n",
    "correlation_matrix = np.array([[1,0.5],[0.5,1]])\n",
    "#trace calculation\n",
    "correlation_matrix_trace = np.trace(correlation_matrix)\n",
    "upper_range = 2/correlation_matrix_trace\n",
    "print \"Upper Range: \" + str(upper_range)"
   ]
  },
  {
   "cell_type": "markdown",
   "metadata": {},
   "source": [
    "For the given correlation matrix, the learning rate parameter range from $0 < \\eta < 1$"
   ]
  },
  {
   "cell_type": "code",
   "execution_count": null,
   "metadata": {
    "collapsed": true
   },
   "outputs": [],
   "source": []
  }
 ],
 "metadata": {
  "kernelspec": {
   "display_name": "Python 2",
   "language": "python",
   "name": "python2"
  },
  "language_info": {
   "codemirror_mode": {
    "name": "ipython",
    "version": 2
   },
   "file_extension": ".py",
   "mimetype": "text/x-python",
   "name": "python",
   "nbconvert_exporter": "python",
   "pygments_lexer": "ipython2",
   "version": "2.7.14"
  }
 },
 "nbformat": 4,
 "nbformat_minor": 1
}
