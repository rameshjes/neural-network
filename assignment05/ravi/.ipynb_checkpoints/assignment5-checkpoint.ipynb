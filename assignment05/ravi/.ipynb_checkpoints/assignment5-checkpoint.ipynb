{
 "cells": [
  {
   "cell_type": "code",
   "execution_count": 1,
   "metadata": {
    "collapsed": true
   },
   "outputs": [],
   "source": [
    "import numpy as np\n",
    "import sympy as sp"
   ]
  },
  {
   "cell_type": "markdown",
   "metadata": {},
   "source": [
    "# Exercise 3.1"
   ]
  },
  {
   "cell_type": "markdown",
   "metadata": {},
   "source": [
    "$\\xi(\\omega) = \\frac{1}{2} \\sigma^2 - r_{xd} \\omega + \\frac{1}{2}r_x \\omega^2$\n",
    "\n",
    "The gradient vector $g(n) = - r_{xd} + r_x \\omega$\n",
    "\n",
    "The cost function $\\xi(\\omega) (n+1)$ by the steepest descent algorithm is given by:\n",
    "\n",
    " $\\xi(\\omega (n+1)) = \\xi(\\omega(n)) - \\eta g(n)^2$. After substituting the value of $g(n)$, this is equal to:\n",
    " \n",
    " $\\xi(\\omega(n+1)) = \\xi(\\omega(n)) - \\eta (- r_{xd} + r_x \\omega(n))^2$\n",
    " \n",
    " = $ (\\frac{1}{2} \\sigma^2 - r_{xd} \\omega(n) + \\frac{1}{2}r_x \\omega(n)^2)-  \\eta (- r_{xd} + r_x \\omega(n))^2$\n",
    " \n",
    " =$ (\\eta r^{2}_x + \\frac{1}{2}r_x)\\omega(n)^2 -(2\\eta r_{xd}r_x  +r_{xd}) \\omega(n)+ (\\eta r^{2}_{xd} + \\frac{1}{2} \\sigma^2) $"
   ]
  },
  {
   "cell_type": "markdown",
   "metadata": {},
   "source": [
    "# Exercise 3.2"
   ]
  },
  {
   "cell_type": "code",
   "execution_count": 2,
   "metadata": {
    "collapsed": false
   },
   "outputs": [
    {
     "name": "stdout",
     "output_type": "stream",
     "text": [
      "The weight vector w =\n",
      "⎡w₀⎤\n",
      "⎢  ⎥\n",
      "⎣w₁⎦\n",
      "\n",
      " r_xd = \n",
      "⎡0.8182⎤\n",
      "⎢      ⎥\n",
      "⎣0.354 ⎦\n",
      "\n",
      "And R_x = \n",
      "⎡  1     0.8182⎤\n",
      "⎢              ⎥\n",
      "⎣0.8182    1   ⎦\n"
     ]
    }
   ],
   "source": [
    "wo,w1 = sp.symbols(\"w0,w1\")\n",
    "\n",
    "w = sp.Matrix([wo,w1])\n",
    "r = sp.Matrix([0.8182,0.354])\n",
    "R = sp.Matrix([[1,0.8182],\n",
    "               [0.8182,1]])\n",
    "print \"The weight vector w =\"\n",
    "sp.pprint(w)\n",
    "print \"\\n r_xd = \"\n",
    "sp.pprint(r)\n",
    "print \"\\nAnd R_x = \"\n",
    "sp.pprint(R)\n"
   ]
  },
  {
   "cell_type": "markdown",
   "metadata": {},
   "source": [
    "$\\xi(\\omega) = \\frac{1}{2}\\sigma^{2} - r_{xd}^T \\omega + \\frac{1}{2}\\omega^T R_x \\omega$.\n",
    "\n",
    "Substituting the values of $r_{xd}$ and $R_x$, the values of $ r_{xd}^T \\omega$ and $\\frac{1}{2}\\omega^T R_x \\omega$ is :"
   ]
  },
  {
   "cell_type": "code",
   "execution_count": 3,
   "metadata": {
    "collapsed": false
   },
   "outputs": [
    {
     "name": "stdout",
     "output_type": "stream",
     "text": [
      "[0.8182⋅w₀ + 0.354⋅w₁]\n"
     ]
    }
   ],
   "source": [
    "rw = r.T * w\n",
    "sp.pprint(rw)"
   ]
  },
  {
   "cell_type": "code",
   "execution_count": 4,
   "metadata": {
    "collapsed": false
   },
   "outputs": [
    {
     "name": "stdout",
     "output_type": "stream",
     "text": [
      "[w₀⋅(0.5⋅w₀ + 0.4091⋅w₁) + w₁⋅(0.4091⋅w₀ + 0.5⋅w₁)]\n"
     ]
    }
   ],
   "source": [
    "w_tRw = 0.5*w.T*R*w\n",
    "sp.pprint(w_tRw)"
   ]
  },
  {
   "cell_type": "markdown",
   "metadata": {},
   "source": [
    "Thus $\\xi(\\omega) = \\frac{1}{2}\\sigma^{2} - [0.8182⋅\\omega_0 + 0.354⋅\\omega_1] + [\\omega_0⋅(0.5⋅\\omega_0 + 0.4091⋅\\omega_1) + \\omega_1⋅(0.4091⋅\\omega_0 + 0.5⋅\\omega_1)]$\n",
    "\n",
    " $\\xi(\\omega) = \\frac{1}{2}\\sigma^{2} + 0.5.\\omega_0^{2} + 0.5.\\omega_1^{2} + 0.8182.\\omega_0.\\omega_1 - 0.8182.\\omega_0 - 0.354.\\omega_1$\n",
    "\n"
   ]
  },
  {
   "cell_type": "code",
   "execution_count": 5,
   "metadata": {
    "collapsed": false
   },
   "outputs": [
    {
     "name": "stdout",
     "output_type": "stream",
     "text": [
      "Gradient :\n",
      "⎡1.0⋅w₀ + 0.8182⋅w₁ - 0.8182⎤\n",
      "⎢                           ⎥\n",
      "⎣0.8182⋅w₀ + 1.0⋅w₁ - 0.354 ⎦\n"
     ]
    }
   ],
   "source": [
    "sigma = sp.Symbol('sigma')\n",
    "xi = 0.5*sigma**2 + (0.5*wo**2) + (0.5*w1**2) + (0.8182*wo*w1) - (0.8182*wo) - (0.354*w1)\n",
    "eqn1 = sp.diff(xi,wo)\n",
    "eqn2 = sp.diff(xi,w1)\n",
    "gradient = sp.Matrix([eqn1,eqn2])\n",
    "print \"Gradient :\"\n",
    "sp.pprint(gradient)"
   ]
  },
  {
   "cell_type": "code",
   "execution_count": 6,
   "metadata": {
    "collapsed": false
   },
   "outputs": [
    {
     "name": "stdout",
     "output_type": "stream",
     "text": [
      "The optimal weight vector =  {w0: 1.59902944424901, w1: -0.954325891284541}\n"
     ]
    }
   ],
   "source": [
    "\n",
    "w_optimal = sp.solve([eqn1,eqn2],[wo,w1])\n",
    "print \"The optimal weight vector = \",w_optimal"
   ]
  },
  {
   "cell_type": "markdown",
   "metadata": {},
   "source": [
    "# Part (b)"
   ]
  },
  {
   "cell_type": "code",
   "execution_count": 11,
   "metadata": {
    "collapsed": false
   },
   "outputs": [],
   "source": [
    "import matplotlib.pyplot as plt\n",
    "%matplotlib inline\n",
    "\n",
    "\n",
    "def steepest_descent(eta, xi , gradient):\n",
    "    w_init = np.array([0,0])\n",
    "    \n",
    "    w_n = w_init.T\n",
    "    xi_n = xi.subs({wo:w_n[0],w1:w_n[1]})\n",
    "    gradient_n = gradient.subs({wo:w_n[0],w1:w_n[1]})\n",
    "    \n",
    "    w_0 = []\n",
    "    w_1 = []\n",
    "\n",
    "    for i in range(200):\n",
    "        eta_gn  =  np.asarray(eta*gradient_n)\n",
    "        w_new = w_n - np.array([eta_gn[0,0],eta_gn[1,0]])\n",
    "        #Update the weight vector, the gradient and corresponding value of xi\n",
    "        \n",
    "        gradient_n = gradient.subs({wo:w_new[0],w1:w_new[1]})\n",
    "        xi_new = xi.subs({wo:w_new[0],w1:w_new[1]})\n",
    "        \n",
    "        xi_n = xi_new\n",
    "        w_n = w_new\n",
    "        \n",
    "        w_0.append(w_n[0])\n",
    "        w_1.append(w_n[1])\n",
    "        \n",
    "    w_0 = np.asarray(w_0)\n",
    "    w_1 = np.asarray(w_1)\n",
    "    \n",
    "    plt.plot(w_0,w_1)\n",
    "    plt.xlabel('w0 -->')\n",
    "    plt.ylabel('w1 -->')\n",
    "    return w_n    "
   ]
  },
  {
   "cell_type": "code",
   "execution_count": 12,
   "metadata": {
    "collapsed": false
   },
   "outputs": [
    {
     "name": "stdout",
     "output_type": "stream",
     "text": [
      "[1.59901227650625 -0.954308723541781]\n"
     ]
    },
    {
     "data": {
      "image/png": "[encoded data removed]",
      "text/plain": [
       "<matplotlib.figure.Figure at 0x7f176566b490>"
      ]
     },
     "metadata": {},
     "output_type": "display_data"
    }
   ],
   "source": [
    "#Learning rate = 0.3\n",
    "sp.pprint(steepest_descent(0.3,xi,gradient))"
   ]
  },
  {
   "cell_type": "code",
   "execution_count": 13,
   "metadata": {
    "collapsed": false
   },
   "outputs": [
    {
     "name": "stdout",
     "output_type": "stream",
     "text": [
      "[1.59902944424901 -0.954325891284542]\n"
     ]
    },
    {
     "data": {
      "image/png": "[encoded data removed]",
      "text/plain": [
       "<matplotlib.figure.Figure at 0x7f17656430d0>"
      ]
     },
     "metadata": {},
     "output_type": "display_data"
    }
   ],
   "source": [
    "#Learning rate = 1.0\n",
    "sp.pprint(steepest_descent(1.0,xi,gradient))"
   ]
  }
 ],
 "metadata": {
  "kernelspec": {
   "display_name": "Python [Root]",
   "language": "python",
   "name": "Python [Root]"
  },
  "language_info": {
   "codemirror_mode": {
    "name": "ipython",
    "version": 2
   },
   "file_extension": ".py",
   "mimetype": "text/x-python",
   "name": "python",
   "nbconvert_exporter": "python",
   "pygments_lexer": "ipython2",
   "version": "2.7.12"
  }
 },
 "nbformat": 4,
 "nbformat_minor": 0
}
