{
 "cells": [
  {
   "cell_type": "code",
   "execution_count": 3,
   "metadata": {
    "collapsed": true
   },
   "outputs": [],
   "source": [
    "import numpy as np\n",
    "import matplotlib.pyplot as plt\n",
    "%matplotlib inline"
   ]
  },
  {
   "cell_type": "code",
   "execution_count": 24,
   "metadata": {
    "collapsed": false
   },
   "outputs": [
    {
     "name": "stdout",
     "output_type": "stream",
     "text": [
      "[[1, -0.5, 1], [1, 0.5, -1], [1, 0, -1], [-1, 1.5, 1.5], [-1, 1.5, -1.5], [-1, -0.5, 1.5]]\n"
     ]
    }
   ],
   "source": [
    "w = np.array([1,0,0])\n",
    "\n",
    "#C1 = [[-1,1],[1,-1],[0,-1]]\n",
    "#C2 = [[-1,-1],[-1,1],[0.5,-1.5]]\n",
    "\n",
    "C1 = [[-0.5,1],[0.5,-1],[0,-1]]\n",
    "C2 = [[-1.5,-1.5],[-1.5,1.5],[0.5,-1.5]]\n",
    "learning_rate = 1\n",
    "\n",
    "for point in (C1):\n",
    "    i = C1.index(point)\n",
    "    C1[i] = [1]+ point \n",
    "for point in (C2):\n",
    "    j = C2.index(point)\n",
    "    C2[j] = [1]+ point \n",
    "    temp = C2[j]\n",
    "    C2[j] = [x * -1 for x in temp]\n",
    "\n",
    "adjusted_patterns = C1 + C2\n",
    "\n",
    "print adjusted_patterns"
   ]
  },
  {
   "cell_type": "code",
   "execution_count": 25,
   "metadata": {
    "collapsed": false
   },
   "outputs": [
    {
     "name": "stdout",
     "output_type": "stream",
     "text": [
      "Final weight= [ 2.   3.   2.5]\n",
      "Bias =  2.0\n"
     ]
    }
   ],
   "source": [
    "def weight_adjust(w_n,x_n,learning_rate):\n",
    "    y = np.dot(w_n,x_n)\n",
    "    \n",
    "    if y<=0:\n",
    "        return w_n + (learning_rate*x_n)\n",
    "    else:\n",
    "        return w_n\n",
    "\n",
    "_count = 0\n",
    "w_old = w\n",
    "\n",
    "while(True):   \n",
    "    if _count > 1:\n",
    "        break\n",
    "    for pattern in adjusted_patterns:\n",
    "        w_new = weight_adjust(w,pattern,learning_rate)\n",
    "        w = w_new\n",
    "   \n",
    "    if w.all() == w_old.all():\n",
    "        _count+=1\n",
    "    else:\n",
    "        w_old = w\n",
    "        \n",
    "print \"Final weight=\",w \n",
    "print \"Bias = \",w[0]"
   ]
  },
  {
   "cell_type": "code",
   "execution_count": 26,
   "metadata": {
    "collapsed": false
   },
   "outputs": [
    {
     "data": {
      "text/plain": [
       "[<matplotlib.lines.Line2D at 0x7f7eaf914390>]"
      ]
     },
     "execution_count": 26,
     "metadata": {},
     "output_type": "execute_result"
    },
    {
     "data": {
      "image/png": "[encoded data removed]",
      "text/plain": [
       "<matplotlib.figure.Figure at 0x7f7eaf8fb510>"
      ]
     },
     "metadata": {},
     "output_type": "display_data"
    }
   ],
   "source": [
    "for point1 in (C1): \n",
    "    plt.scatter(point1[1],point1[2], color= 'blue',s=200, facecolors='none',\n",
    "                marker='$\\\\ominus$')\n",
    "for point2 in (C2): \n",
    "    plt.scatter(point2[1],point2[2], color= 'red',s=200, facecolors='none',\n",
    "                marker='$\\\\bigoplus$')    \n",
    "\n",
    "x1 = np.linspace(-2.0, 2.0, num=10)\n",
    "x2 =  (-w[0]+(-w[1]*x1))/(w[2])\n",
    "plt.plot(x1,x2)"
   ]
  },
  {
   "cell_type": "code",
   "execution_count": null,
   "metadata": {
    "collapsed": true
   },
   "outputs": [],
   "source": []
  }
 ],
 "metadata": {
  "kernelspec": {
   "display_name": "Python [Root]",
   "language": "python",
   "name": "Python [Root]"
  },
  "language_info": {
   "codemirror_mode": {
    "name": "ipython",
    "version": 2
   },
   "file_extension": ".py",
   "mimetype": "text/x-python",
   "name": "python",
   "nbconvert_exporter": "python",
   "pygments_lexer": "ipython2",
   "version": "2.7.12"
  }
 },
 "nbformat": 4,
 "nbformat_minor": 0
}
