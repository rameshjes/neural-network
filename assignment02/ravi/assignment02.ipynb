{
 "cells": [
  {
   "cell_type": "code",
   "execution_count": 1,
   "metadata": {},
   "outputs": [],
   "source": [
    "import numpy as np\n",
    "import matplotlib.pyplot as plt\n",
    "%matplotlib inline"
   ]
  },
  {
   "cell_type": "code",
   "execution_count": 15,
   "metadata": {},
   "outputs": [
    {
     "name": "stdout",
     "output_type": "stream",
     "text": [
      "Epochs  0\n",
      "Epochs  1\n",
      "Epochs  2\n",
      "Epochs  3\n",
      "Epochs  4\n",
      "Final weight= [ 0.5   1.25  1.  ]\n",
      "Bias =  0.5\n"
     ]
    }
   ],
   "source": [
    "w = np.array([1,0,0])\n",
    "\n",
    "C1 = [[-0.5,1],[1.5,-1],[0.5,-1]]\n",
    "C2 = [[-1.5,-2],[-1.5,1],[0.5,-2]]\n",
    "learning_rate = 0.5\n",
    "\n",
    "C1_ = C1[:]\n",
    "C2_ = C2[:]\n",
    "\n",
    "for point in (C1):\n",
    "    i = C1.index(point)\n",
    "    C1_.append(C1[i])\n",
    "    C1[i] = [1]+ point \n",
    "for point in (C2):\n",
    "    j = C2.index(point)\n",
    "    C2_.append(C2[j])\n",
    "    C2[j] = [1]+ point \n",
    "    temp = C2[j]\n",
    "    C2[j] = [x * -1 for x in temp]\n",
    "\n",
    "adjusted_patterns = C1 + C2\n",
    "\n",
    "def weight_adjust(w_n,x_n,learning_rate):\n",
    "    y = np.dot(w_n,x_n)\n",
    "    \n",
    "    if y<=0:\n",
    "#         print \"x_n \", type(x_n)\n",
    "#         print \"learn r \", type(learning_rate)\n",
    "#         print \" \",(learning_rate*x_n)  \n",
    "        return w_n + (learning_rate*np.array(x_n))\n",
    "    else:\n",
    "        return w_n\n",
    "\n",
    "_count = 0\n",
    "w_old = w\n",
    "n = 0\n",
    "while(True):\n",
    "    print \"Epochs \", n\n",
    "    n += 1\n",
    "    if _count > 2:\n",
    "        break\n",
    "    for pattern in adjusted_patterns:\n",
    "        w_new = weight_adjust(w,pattern,learning_rate)\n",
    "        w = w_new\n",
    "   \n",
    "    if w.all() == w_old.all():\n",
    "        _count+=1\n",
    "    else:\n",
    "        w_old = w\n",
    "        \n",
    "print \"Final weight=\",w \n",
    "print \"Bias = \",w[0]"
   ]
  },
  {
   "cell_type": "code",
   "execution_count": 3,
   "metadata": {},
   "outputs": [
    {
     "data": {
      "text/plain": [
       "[<matplotlib.lines.Line2D at 0x7f2c21a94750>]"
      ]
     },
     "execution_count": 3,
     "metadata": {},
     "output_type": "execute_result"
    },
    {
     "data": {
      "image/png": "[encoded data removed]",
      "text/plain": [
       "<matplotlib.figure.Figure at 0x7f2c21a94790>"
      ]
     },
     "metadata": {},
     "output_type": "display_data"
    }
   ],
   "source": [
    "for point1 in (C1_): \n",
    "    plt.scatter(point1[0],point1[1], color= 'red',\n",
    "                s=200, facecolors='none',\n",
    "                marker='$\\\\bigoplus$')\n",
    "for point2 in (C2_): \n",
    "    plt.scatter(point2[0],point2[1], color= 'blue',\n",
    "                s=200, facecolors='none',\n",
    "                marker='$\\\\ominus$')    \n",
    "\n",
    "x1 = np.linspace(-2.0, 2.0, num=10)\n",
    "x2 =  (-w[0]+(-w[1]*x1))/(w[2])\n",
    "plt.plot(x1,x2)"
   ]
  },
  {
   "cell_type": "code",
   "execution_count": null,
   "metadata": {
    "collapsed": true
   },
   "outputs": [],
   "source": []
  }
 ],
 "metadata": {
  "anaconda-cloud": {},
  "kernelspec": {
   "display_name": "Python [default]",
   "language": "python",
   "name": "python2"
  },
  "language_info": {
   "codemirror_mode": {
    "name": "ipython",
    "version": 2
   },
   "file_extension": ".py",
   "mimetype": "text/x-python",
   "name": "python",
   "nbconvert_exporter": "python",
   "pygments_lexer": "ipython2",
   "version": "2.7.13"
  }
 },
 "nbformat": 4,
 "nbformat_minor": 1
}
