{
 "cells": [
  {
   "cell_type": "code",
   "execution_count": 40,
   "metadata": {
    "collapsed": true
   },
   "outputs": [],
   "source": [
    "import numpy as np\n",
    "import matplotlib.pyplot as plt\n",
    "%matplotlib inline"
   ]
  },
  {
   "cell_type": "code",
   "execution_count": 53,
   "metadata": {
    "collapsed": false
   },
   "outputs": [
    {
     "name": "stdout",
     "output_type": "stream",
     "text": [
      "[[2, 2, 2], [2, 2, -2], [2, 0, -2], [-2, 2, 2], [-2, 2, -2], [-2, 0, -2]]\n",
      "Final weight= [-1  4 -2]\n",
      "Bias =  -1\n",
      "Decision line =  4x1-2x2-1\n"
     ]
    },
    {
     "data": {
      "image/png": "[encoded data removed]",
      "text/plain": [
       "<matplotlib.figure.Figure at 0x7fcd53d36b90>"
      ]
     },
     "metadata": {},
     "output_type": "display_data"
    }
   ],
   "source": [
    "w = np.array([1,0,0])\n",
    "C1 = [[1,1],[1,-1],[0,-1]]\n",
    "C2 = [[-1,-1],[-1,1],[0,1]]\n",
    "lr = 1\n",
    "\n",
    "C1_ = [[1,1,1],[1,1,-1],[1,0,-1]]\n",
    "C2_ = [[-1,1,1],[-1,1,-1],[-1,0,-1]]\n",
    "\n",
    "#Adding a bias of +1 :\n",
    "C1_ = [[2,2,2],[2,2,-2],[2,0,-2]]\n",
    "C2_ = [[-2,2,2],[-2,2,-2],[-2,0,-2]]\n",
    "\n",
    "adjusted_patterns = C1_ + C2_\n",
    "\n",
    "for i in (C1):\n",
    "    x = i[0]\n",
    "    y = i[1]\n",
    "    #print x, y\n",
    "    plt.scatter(x,y, color='red')\n",
    "for j in (C2):\n",
    "    x = j[0]\n",
    "    y = j[1]\n",
    "    #print x, y\n",
    "    plt.scatter(x,y, color='blue')\n",
    "    \n",
    "    \n",
    "\n",
    "print adjusted_patterns\n",
    "def weight_adjust(w_n,x_n,lr):\n",
    "    y = np.dot(w_n,x_n)\n",
    "    \n",
    "    if y<=0:\n",
    "        return w_n + (lr*x_n)\n",
    "    else:\n",
    "        return w_n\n",
    "\n",
    "_count = 0\n",
    "w_old = w\n",
    "while(True):   \n",
    "    if _count > 2:\n",
    "        break\n",
    "    for pattern in adjusted_patterns:\n",
    "        w_new = weight_adjust(w,pattern,lr)\n",
    "        w = w_new\n",
    "   \n",
    "    if w.all() == w_old.all():\n",
    "        _count+=1\n",
    "    else:\n",
    "        w_old = w\n",
    "print \"Final weight=\",w \n",
    "print \"Bias = \",w[0]\n",
    "print \"Decision line = \", str(w[1])+\"x1\"+str(w[2])+\"x2\"+str(w[0])"
   ]
  },
  {
   "cell_type": "code",
   "execution_count": null,
   "metadata": {
    "collapsed": true
   },
   "outputs": [],
   "source": []
  }
 ],
 "metadata": {
  "kernelspec": {
   "display_name": "Python [Root]",
   "language": "python",
   "name": "Python [Root]"
  },
  "language_info": {
   "codemirror_mode": {
    "name": "ipython",
    "version": 2
   },
   "file_extension": ".py",
   "mimetype": "text/x-python",
   "name": "python",
   "nbconvert_exporter": "python",
   "pygments_lexer": "ipython2",
   "version": "2.7.12"
  }
 },
 "nbformat": 4,
 "nbformat_minor": 0
}
