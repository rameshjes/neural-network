{
 "cells": [
  {
   "cell_type": "code",
   "execution_count": null,
   "metadata": {
    "collapsed": true
   },
   "outputs": [],
   "source": [
    "import matplotlib.pyplot as plt\n",
    "import numpy as np\n",
    "%matplotlib inline"
   ]
  },
  {
   "cell_type": "code",
   "execution_count": 47,
   "metadata": {
    "collapsed": true
   },
   "outputs": [],
   "source": [
    "def mult(w,x):\n",
    "    return w[0]*x[0] + w[1]*x[1] + w[2]*x[2]"
   ]
  },
  {
   "cell_type": "code",
   "execution_count": 48,
   "metadata": {
    "collapsed": true
   },
   "outputs": [],
   "source": [
    "def update(w,x):\n",
    "    return [w[0]+x[0],w[1]+x[1],w[2]+x[2]]"
   ]
  },
  {
   "cell_type": "code",
   "execution_count": 60,
   "metadata": {
    "collapsed": true
   },
   "outputs": [],
   "source": [
    "def get_y(x,iw):\n",
    "    return (-iw[0]+(-iw[1]*x))/(iw[2])"
   ]
  },
  {
   "cell_type": "code",
   "execution_count": 75,
   "metadata": {},
   "outputs": [
    {
     "name": "stdout",
     "output_type": "stream",
     "text": [
      "[-1, 4, -2]\n"
     ]
    },
    {
     "data": {
      "text/plain": [
       "[<matplotlib.lines.Line2D at 0x7f52cf041590>]"
      ]
     },
     "execution_count": 75,
     "metadata": {},
     "output_type": "execute_result"
    },
    {
     "data": {
      "image/png": "[encoded data removed]",
      "text/plain": [
       "<matplotlib.figure.Figure at 0x7f52cf0413d0>"
      ]
     },
     "metadata": {},
     "output_type": "display_data"
    }
   ],
   "source": [
    "#ap = [[1,1,1],[1,1,-1],[1,0,-1],[-1,1, 1],[-1,1,-1],[-1,0, -1]]\n",
    "ap = [[2,2,2],[2,2,-2],[2,0,-2],[-2,2,2],[-2,2,-2],[-2,0,-2]]\n",
    "iw = [1,0,0]\n",
    "is_updated = True\n",
    "counter = 0\n",
    "while (is_updated == True):\n",
    "    is_updated = False\n",
    "    for i in range(1,6):\n",
    "        if mult(ap[i],iw) <= 0:\n",
    "            iw = update(ap[i],iw)\n",
    "            is_updated = True\n",
    "print iw\n",
    "for i in range(0,6):\n",
    "    plt.scatter(ap[i][1] if i < 3 else -ap[i][1],ap[i][2] if i < 3 else -ap[i][2], color= 'red' if i < 3 else 'blue',s=200, facecolors='none',marker='$\\\\bigoplus$' if i < 3 else '$\\\\ominus$')\n",
    "\n",
    "plt.plot(np.linspace(-2.0, 2.0, num=10),[get_y(x,iw) for x in np.linspace(-2.0, 2.0, num=10)])"
   ]
  },
  {
   "cell_type": "code",
   "execution_count": null,
   "metadata": {
    "collapsed": true
   },
   "outputs": [],
   "source": []
  }
 ],
 "metadata": {
  "kernelspec": {
   "display_name": "Python 2",
   "language": "python",
   "name": "python2"
  },
  "language_info": {
   "codemirror_mode": {
    "name": "ipython",
    "version": 2
   },
   "file_extension": ".py",
   "mimetype": "text/x-python",
   "name": "python",
   "nbconvert_exporter": "python",
   "pygments_lexer": "ipython2",
   "version": "2.7.13"
  }
 },
 "nbformat": 4,
 "nbformat_minor": 2
}
