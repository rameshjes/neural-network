{
 "cells": [
  {
   "cell_type": "code",
   "execution_count": 7,
   "metadata": {
    "collapsed": true
   },
   "outputs": [],
   "source": [
    "import sympy as sp\n",
    "import numpy as np\n",
    "import random\n",
    "sp.init_printing()\n",
    "y,v11,v21,v22,v12,x1,x2,v31,a = sp.symbols('y,v11,v22,v21,v12,x1,x2,v31,a')"
   ]
  },
  {
   "cell_type": "code",
   "execution_count": 8,
   "metadata": {
    "collapsed": true
   },
   "outputs": [],
   "source": [
    "def logistic(x,a=1):\n",
    "        return 1/(1+sp.exp(-a*x))"
   ]
  },
  {
   "cell_type": "code",
   "execution_count": 9,
   "metadata": {},
   "outputs": [
    {
     "data": {
      "image/png": "[encoded data removed]",
      "text/latex": [
       "$$\\frac{1}{e^{\\frac{2}{e^{\\frac{1}{e^{- 2 x_{1} + 3 x_{2}} + 1} - \\frac{3}{e^{- 5 x_{1} - x_{2}} + 1}} + 1} - \\frac{1}{e^{- \\frac{6}{e^{- 2 x_{1} + 3 x_{2}} + 1} - \\frac{4}{e^{- 5 x_{1} - x_{2}} + 1}} + 1}} + 1}$$"
      ],
      "text/plain": [
       "                                            1                                 \n",
       "──────────────────────────────────────────────────────────────────────────────\n",
       "                    2                                           1             \n",
       " ──────────────────────────────────────── - ──────────────────────────────────\n",
       "          1                  3                         6                  4   \n",
       "  ───────────────── - ───────────────        - ───────────────── - ───────────\n",
       "   -2⋅x₁ + 3⋅x₂        -5⋅x₁ - x₂               -2⋅x₁ + 3⋅x₂        -5⋅x₁ - x₂\n",
       "  ℯ             + 1   ℯ           + 1          ℯ             + 1   ℯ          \n",
       " ℯ                                    + 1   ℯ                                 \n",
       "ℯ                                                                             \n",
       "\n",
       "            \n",
       "────────────\n",
       "            \n",
       "────────    \n",
       "            \n",
       "────        \n",
       "            \n",
       " + 1        \n",
       "     + 1    \n",
       "         + 1"
      ]
     },
     "execution_count": 9,
     "metadata": {},
     "output_type": "execute_result"
    }
   ],
   "source": [
    "v11 = logistic(5*x1+x2)\n",
    "v21 = logistic(2*x1-3*x2)\n",
    "v12 = logistic(3*v11 - v21)\n",
    "v22 = logistic(6*v21 + 4*v11)\n",
    "v31 = logistic(-2*v12 + v22)\n",
    "sp.simplify(v31)"
   ]
  },
  {
   "cell_type": "markdown",
   "metadata": {},
   "source": [
    "when the output neuron operates in its linear region, the output of the network can be written as : y = av+0.5 where v = $\\sum w_i x_i$"
   ]
  },
  {
   "cell_type": "code",
   "execution_count": 10,
   "metadata": {},
   "outputs": [
    {
     "data": {
      "image/png": "[encoded data removed]",
      "text/latex": [
       "$$6.0 a^{3} x_{1} - 26.0 a^{3} x_{2} + 3.0 a^{2} - 0.5 a + 0.5$$"
      ],
      "text/plain": [
       "     3            3           2              \n",
       "6.0⋅a ⋅x₁ - 26.0⋅a ⋅x₂ + 3.0⋅a  - 0.5⋅a + 0.5"
      ]
     },
     "execution_count": 10,
     "metadata": {},
     "output_type": "execute_result"
    }
   ],
   "source": [
    "v11 = a*(5*x1+x2) + 0.5\n",
    "\n",
    "v21 = a*(2*x1-3*x2)+ 0.5\n",
    "v12 = a*(3*v11 - v21)+ 0.5\n",
    "v22 = a*(6*v21 + 4*v11)+ 0.5\n",
    "v31 = a*(-2*v12 + v22)+ 0.5\n",
    "sp.simplify(v31)"
   ]
  },
  {
   "cell_type": "code",
   "execution_count": 11,
   "metadata": {
    "collapsed": true
   },
   "outputs": [],
   "source": [
    "x1_rand = np.random.randint(-10,10,size=100)\n",
    "x2_rand = np.random.randint(-10,10,size=100)\n"
   ]
  },
  {
   "cell_type": "code",
   "execution_count": 12,
   "metadata": {},
   "outputs": [
    {
     "data": {
      "image/png": "[encoded data removed]",
      "text/plain": [
       "<matplotlib.figure.Figure at 0x7f3439e254d0>"
      ]
     },
     "metadata": {},
     "output_type": "display_data"
    }
   ],
   "source": [
    "class_a = []\n",
    "class_b = []\n",
    "for i in range(1,10):\n",
    "    #print v31.evalf(subs={x1:x1_rand[i],x2:x2_rand[i],a:0.1})\n",
    "    if v31.evalf(subs={x1:x1_rand[i],x2:x2_rand[i],a:0.1}) > 0.5:\n",
    "        class_a.append([x1_rand[i],x2_rand[i]])\n",
    "    else:\n",
    "        class_b.append([x1_rand[i],x2_rand[i]])\n",
    "\n",
    "import matplotlib.pyplot as plt\n",
    "\n",
    "for a in class_a:\n",
    "    plt.plot(a[0],a[1], 'ro')\n",
    "for b in class_b:\n",
    "    plt.plot(b[0],b[1], 'bo')\n",
    "plt.show()"
   ]
  },
  {
   "cell_type": "code",
   "execution_count": null,
   "metadata": {
    "collapsed": true
   },
   "outputs": [],
   "source": []
  },
  {
   "cell_type": "code",
   "execution_count": null,
   "metadata": {
    "collapsed": true
   },
   "outputs": [],
   "source": []
  }
 ],
 "metadata": {
  "kernelspec": {
   "display_name": "Python 2",
   "language": "python",
   "name": "python2"
  },
  "language_info": {
   "codemirror_mode": {
    "name": "ipython",
    "version": 2
   },
   "file_extension": ".py",
   "mimetype": "text/x-python",
   "name": "python",
   "nbconvert_exporter": "python",
   "pygments_lexer": "ipython2",
   "version": "2.7.13"
  }
 },
 "nbformat": 4,
 "nbformat_minor": 2
}
